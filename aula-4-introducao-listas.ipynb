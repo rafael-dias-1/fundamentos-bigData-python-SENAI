{
  "cells": [
    {
      "cell_type": "markdown",
      "metadata": {
        "id": "h0Novygn3JYU"
      },
      "source": [
        "# Trabalhando com listas"
      ]
    },
    {
      "cell_type": "code",
      "execution_count": null,
      "metadata": {
        "id": "TaB7KHGH3JYW"
      },
      "outputs": [],
      "source": [
        "# Criando uma lista\n",
        "\n",
        "alunos = ['Amando', 'Ana', 'Autineide', 'Perclides']\n",
        "notas = [10, 20, 30, 40]"
      ]
    },
    {
      "cell_type": "code",
      "execution_count": null,
      "metadata": {
        "id": "JUP-X0UL3JYX",
        "outputId": "173b56cb-9910-42df-b8ab-c9c7d52e2c14"
      },
      "outputs": [
        {
          "data": {
            "text/plain": [
              "'Autineide'"
            ]
          },
          "execution_count": 8,
          "metadata": {},
          "output_type": "execute_result"
        }
      ],
      "source": [
        "# Retornar os elementos das listas\n",
        "\n",
        "alunos[2]"
      ]
    },
    {
      "cell_type": "code",
      "execution_count": null,
      "metadata": {
        "id": "asyEwpl03JYY",
        "outputId": "5013eff5-069f-4f8d-ee08-759bb8b37e76"
      },
      "outputs": [
        {
          "data": {
            "text/plain": [
              "'Coritiba'"
            ]
          },
          "execution_count": 9,
          "metadata": {},
          "output_type": "execute_result"
        }
      ],
      "source": [
        "# Crie uma lista com nome de times\n",
        "\n",
        "times = ['Palmeiras', 'São Paulo', 'Coritiba', 'Santos']\n",
        "\n",
        "# Acessando o time da terceira posição\n",
        "times[2]"
      ]
    },
    {
      "cell_type": "markdown",
      "metadata": {
        "id": "NMvPqGJL3JYZ"
      },
      "source": [
        "## Crie uma lista com duas listas de 3 times de futebol, casa uma de uma divisão diferente"
      ]
    },
    {
      "cell_type": "markdown",
      "metadata": {
        "id": "9_Hkx0Ns3JYa"
      },
      "source": []
    },
    {
      "cell_type": "code",
      "execution_count": null,
      "metadata": {
        "id": "_3CRlIRd3JYb"
      },
      "outputs": [],
      "source": [
        "list = [['Corinthians', 'São Paulo', 'Palmeiras'], ['Guarani', 'Novorizontinho', 'Ponte Preta']]"
      ]
    },
    {
      "cell_type": "code",
      "execution_count": null,
      "metadata": {
        "id": "H3fW5nrk3JYc",
        "outputId": "da8be784-fe62-44b8-c1d3-7f8bbc22a6ae"
      },
      "outputs": [
        {
          "data": {
            "text/plain": [
              "'Corinthians'"
            ]
          },
          "execution_count": 14,
          "metadata": {},
          "output_type": "execute_result"
        }
      ],
      "source": [
        "list[0][0]"
      ]
    },
    {
      "cell_type": "code",
      "execution_count": null,
      "metadata": {
        "id": "Q4uZ3UEh3JYe"
      },
      "outputs": [],
      "source": []
    }
  ],
  "metadata": {
    "kernelspec": {
      "display_name": "Python 3",
      "language": "python",
      "name": "python3"
    },
    "language_info": {
      "codemirror_mode": {
        "name": "ipython",
        "version": 3
      },
      "file_extension": ".py",
      "mimetype": "text/x-python",
      "name": "python",
      "nbconvert_exporter": "python",
      "pygments_lexer": "ipython3",
      "version": "3.11.0"
    },
    "orig_nbformat": 4,
    "colab": {
      "provenance": []
    }
  },
  "nbformat": 4,
  "nbformat_minor": 0
}