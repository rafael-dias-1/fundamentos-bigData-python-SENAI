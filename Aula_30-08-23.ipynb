{
 "cells": [
  {
   "cell_type": "markdown",
   "id": "155d858d",
   "metadata": {},
   "source": [
    "# Primeira aula de Python no SENAI"
   ]
  },
  {
   "cell_type": "code",
   "execution_count": 1,
   "id": "711b7869",
   "metadata": {},
   "outputs": [
    {
     "name": "stdout",
     "output_type": "stream",
     "text": [
      "Hello World\n"
     ]
    }
   ],
   "source": [
    "print('Hello World')"
   ]
  },
  {
   "cell_type": "markdown",
   "id": "4efd2b8b",
   "metadata": {},
   "source": [
    "# Declarando variaveis"
   ]
  },
  {
   "cell_type": "code",
   "execution_count": 4,
   "id": "0943e245",
   "metadata": {},
   "outputs": [],
   "source": [
    "a = 10\n",
    "b = 'Rafael'\n",
    "c = 0.5\n",
    "d = ['Abelha', 'Beterraba', 'Churrasco']"
   ]
  },
  {
   "cell_type": "code",
   "execution_count": 5,
   "id": "60582b08",
   "metadata": {},
   "outputs": [
    {
     "data": {
      "text/plain": [
       "int"
      ]
     },
     "execution_count": 5,
     "metadata": {},
     "output_type": "execute_result"
    }
   ],
   "source": [
    "type (a)"
   ]
  },
  {
   "cell_type": "code",
   "execution_count": 6,
   "id": "708b2094",
   "metadata": {},
   "outputs": [
    {
     "data": {
      "text/plain": [
       "list"
      ]
     },
     "execution_count": 6,
     "metadata": {},
     "output_type": "execute_result"
    }
   ],
   "source": [
    "type (d)"
   ]
  },
  {
   "cell_type": "markdown",
   "id": "3a82706f",
   "metadata": {},
   "source": [
    "## Exercício 01\n",
    "Crie um programa para receber dois valores e em seguida, exiba o valor da soma."
   ]
  },
  {
   "cell_type": "code",
   "execution_count": 8,
   "id": "b1e0dea8",
   "metadata": {},
   "outputs": [],
   "source": [
    "num1 = 10\n",
    "num2 = 5"
   ]
  },
  {
   "cell_type": "code",
   "execution_count": 11,
   "id": "d4b9892d",
   "metadata": {},
   "outputs": [
    {
     "name": "stdout",
     "output_type": "stream",
     "text": [
      "15\n"
     ]
    }
   ],
   "source": [
    "soma = num1 + num2\n",
    "print(soma)"
   ]
  },
  {
   "cell_type": "markdown",
   "id": "71be7c67",
   "metadata": {},
   "source": [
    "## Exercício 02\n",
    "Crie um programa para receber dois valores e em seguida, exiba o valor da diferença entre eles."
   ]
  },
  {
   "cell_type": "code",
   "execution_count": 12,
   "id": "3c6942c5",
   "metadata": {},
   "outputs": [],
   "source": [
    "num1 = 10\n",
    "num2 = 5"
   ]
  },
  {
   "cell_type": "code",
   "execution_count": 13,
   "id": "330738a3",
   "metadata": {},
   "outputs": [
    {
     "data": {
      "text/plain": [
       "5"
      ]
     },
     "execution_count": 13,
     "metadata": {},
     "output_type": "execute_result"
    }
   ],
   "source": [
    "diferenca = num1 - num2\n",
    "diferenca"
   ]
  },
  {
   "cell_type": "markdown",
   "id": "01374445",
   "metadata": {},
   "source": [
    "## Exercício 03\n",
    "Crie um programa para receber dois valores e em seguida, exiba o produto entre eles."
   ]
  },
  {
   "cell_type": "code",
   "execution_count": 14,
   "id": "9a98bfd5",
   "metadata": {},
   "outputs": [],
   "source": [
    "num1 = 10\n",
    "num2 = 5"
   ]
  },
  {
   "cell_type": "code",
   "execution_count": 15,
   "id": "f4b77e6b",
   "metadata": {},
   "outputs": [
    {
     "data": {
      "text/plain": [
       "50"
      ]
     },
     "execution_count": 15,
     "metadata": {},
     "output_type": "execute_result"
    }
   ],
   "source": [
    "produto = num1 * num2\n",
    "produto"
   ]
  },
  {
   "cell_type": "markdown",
   "id": "cfa80b9b",
   "metadata": {},
   "source": [
    "## Exercício 04\n",
    "Crie um programa para receber dois valores e em seguida, exiba o quociente entre eles."
   ]
  },
  {
   "cell_type": "code",
   "execution_count": 16,
   "id": "3d65132f",
   "metadata": {},
   "outputs": [],
   "source": [
    "num1 = 10\n",
    "num2 = 5"
   ]
  },
  {
   "cell_type": "code",
   "execution_count": 17,
   "id": "bf3cf8f2",
   "metadata": {},
   "outputs": [
    {
     "data": {
      "text/plain": [
       "2.0"
      ]
     },
     "execution_count": 17,
     "metadata": {},
     "output_type": "execute_result"
    }
   ],
   "source": [
    "quociente = num1 / num2\n",
    "quociente"
   ]
  },
  {
   "cell_type": "markdown",
   "id": "dfe8b0b2",
   "metadata": {},
   "source": [
    "## Exercício 05\n",
    "Crie um programa para receber dois valores e em seguida, exiba o resto da divisão entre eles."
   ]
  },
  {
   "cell_type": "code",
   "execution_count": 18,
   "id": "363a1b23",
   "metadata": {},
   "outputs": [],
   "source": [
    "num1 = 10\n",
    "num2 = 5"
   ]
  },
  {
   "cell_type": "code",
   "execution_count": 21,
   "id": "c63f21d6",
   "metadata": {},
   "outputs": [
    {
     "data": {
      "text/plain": [
       "0"
      ]
     },
     "execution_count": 21,
     "metadata": {},
     "output_type": "execute_result"
    }
   ],
   "source": [
    "resto = num1 % num2\n",
    "resto"
   ]
  },
  {
   "cell_type": "markdown",
   "id": "8f1c2397",
   "metadata": {},
   "source": [
    "## Exercício 06\n",
    "Crie um programa para receber um número e em seguida, exiba o quadrado dele."
   ]
  },
  {
   "cell_type": "code",
   "execution_count": 22,
   "id": "dfa79157",
   "metadata": {},
   "outputs": [],
   "source": [
    "num1 = 10"
   ]
  },
  {
   "cell_type": "code",
   "execution_count": 24,
   "id": "0306d90a",
   "metadata": {},
   "outputs": [
    {
     "data": {
      "text/plain": [
       "100"
      ]
     },
     "execution_count": 24,
     "metadata": {},
     "output_type": "execute_result"
    }
   ],
   "source": [
    "quadrado = num1 ** 2\n",
    "quadrado"
   ]
  },
  {
   "cell_type": "markdown",
   "id": "e3545830",
   "metadata": {},
   "source": [
    "## Exercício 07\n",
    "Elabora um programa para calcular a raiz quadrada de um número, utilizando a biblioteca math."
   ]
  },
  {
   "cell_type": "code",
   "execution_count": null,
   "id": "0f10c039",
   "metadata": {},
   "outputs": [],
   "source": []
  },
  {
   "cell_type": "markdown",
   "id": "f1fd3de1",
   "metadata": {},
   "source": [
    "## Exercício 08\n",
    "Crie um programa que seja capaz de calcular o valor absoluto de um número."
   ]
  },
  {
   "cell_type": "code",
   "execution_count": null,
   "id": "561d012b",
   "metadata": {},
   "outputs": [],
   "source": []
  },
  {
   "cell_type": "markdown",
   "id": "48423096",
   "metadata": {},
   "source": [
    "## Exercício 10\n",
    "Faça um Programa que converta metros para centímetros."
   ]
  },
  {
   "cell_type": "code",
   "execution_count": 44,
   "id": "7aed8ab8",
   "metadata": {},
   "outputs": [
    {
     "name": "stdout",
     "output_type": "stream",
     "text": [
      "Digite a quantidade de metros: 10\n"
     ]
    }
   ],
   "source": [
    "valor = input('Digite a quantidade de metros: ')"
   ]
  },
  {
   "cell_type": "code",
   "execution_count": 45,
   "id": "dfcdf5b1",
   "metadata": {},
   "outputs": [],
   "source": [
    "metros = int(valor)"
   ]
  },
  {
   "cell_type": "code",
   "execution_count": 46,
   "id": "b5cf3ee0",
   "metadata": {},
   "outputs": [
    {
     "name": "stdout",
     "output_type": "stream",
     "text": [
      "O resultado de conversão de 10 para centimetros é de 1000\n"
     ]
    }
   ],
   "source": [
    "centimetros = metros * 100\n",
    "print (f'O resultado de conversão de {metros} para centimetros é de {centimetros}')"
   ]
  },
  {
   "cell_type": "markdown",
   "id": "38c26a3d",
   "metadata": {},
   "source": [
    "## Exercício 12\n",
    "Faça um Programa que calcule a área de um quadrado, em seguida\n",
    "mostre o dobro desta área para o usuário."
   ]
  },
  {
   "cell_type": "code",
   "execution_count": 51,
   "id": "7767b35f",
   "metadata": {},
   "outputs": [
    {
     "name": "stdout",
     "output_type": "stream",
     "text": [
      "Digite a altura do quadrado: 20\n"
     ]
    }
   ],
   "source": [
    "valor = input('Digite a altura do quadrado: ')"
   ]
  },
  {
   "cell_type": "code",
   "execution_count": 52,
   "id": "140c97be",
   "metadata": {},
   "outputs": [],
   "source": [
    "lado = int(valor)"
   ]
  },
  {
   "cell_type": "code",
   "execution_count": 53,
   "id": "95dad6fa",
   "metadata": {},
   "outputs": [],
   "source": [
    "area = lado ** 2 "
   ]
  },
  {
   "cell_type": "code",
   "execution_count": 54,
   "id": "804eda5a",
   "metadata": {},
   "outputs": [
    {
     "name": "stdout",
     "output_type": "stream",
     "text": [
      "O dobro da area indicada é:  800\n"
     ]
    }
   ],
   "source": [
    "print('O dobro da area indicada é: ', area * 2)"
   ]
  },
  {
   "cell_type": "markdown",
   "id": "2279eb45",
   "metadata": {},
   "source": [
    "## Exercício 13\n",
    "Faça um Programa que pergunte quanto você ganha por hora e o número de horas trabalhadas no mês. Calcule e mostre o total do seu salário no referido mês."
   ]
  },
  {
   "cell_type": "code",
   "execution_count": 57,
   "id": "67a29980",
   "metadata": {},
   "outputs": [
    {
     "name": "stdout",
     "output_type": "stream",
     "text": [
      "Quanto vc ganha por horas: 50\n"
     ]
    }
   ],
   "source": [
    "valor_por_horas = int(input('Quanto vc ganha por horas: '))"
   ]
  },
  {
   "cell_type": "code",
   "execution_count": 59,
   "id": "26fe5959",
   "metadata": {},
   "outputs": [
    {
     "name": "stdout",
     "output_type": "stream",
     "text": [
      "Quantas horas vc trabalha por mes: 160\n"
     ]
    }
   ],
   "source": [
    "quantidade_horas = int(input('Quantas horas vc trabalha por mes: '))"
   ]
  },
  {
   "cell_type": "code",
   "execution_count": 60,
   "id": "38c14202",
   "metadata": {},
   "outputs": [],
   "source": [
    "salario = valor_por_horas * quantidade_horas"
   ]
  },
  {
   "cell_type": "code",
   "execution_count": 63,
   "id": "4593ae0b",
   "metadata": {},
   "outputs": [
    {
     "name": "stdout",
     "output_type": "stream",
     "text": [
      "Seu salario é R$ 8000\n"
     ]
    }
   ],
   "source": [
    "print(f'Seu salario é R$ {salario}')"
   ]
  },
  {
   "cell_type": "code",
   "execution_count": null,
   "id": "d92d2894",
   "metadata": {},
   "outputs": [],
   "source": []
  }
 ],
 "metadata": {
  "kernelspec": {
   "display_name": "Python 3 (ipykernel)",
   "language": "python",
   "name": "python3"
  },
  "language_info": {
   "codemirror_mode": {
    "name": "ipython",
    "version": 3
   },
   "file_extension": ".py",
   "mimetype": "text/x-python",
   "name": "python",
   "nbconvert_exporter": "python",
   "pygments_lexer": "ipython3",
   "version": "3.10.9"
  }
 },
 "nbformat": 4,
 "nbformat_minor": 5
}
