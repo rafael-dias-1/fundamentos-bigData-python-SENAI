{
  "cells": [
    {
      "cell_type": "markdown",
      "source": [
        "# Exercicios"
      ],
      "metadata": {
        "id": "dkAc3Kv_00kn"
      },
      "id": "dkAc3Kv_00kn"
    },
    {
      "cell_type": "markdown",
      "id": "6ed28146",
      "metadata": {
        "id": "6ed28146"
      },
      "source": [
        "## Exercicio 15\n",
        "Faca um programa para a leitura de duas notas parciais de um aluno. O programa deve calcular a media alcancada por aluno e apresentar:\n",
        "A mensagem \"Aprovado\", se a media alcancada for maior ou igual a sete;\n",
        "A mensagem \"Reprovado\", se a media for menor do que sete;\n",
        "A mensagem \"Aprovado com Distincao\", se a media for igual a dez."
      ]
    },
    {
      "cell_type": "code",
      "execution_count": null,
      "id": "489ed52b",
      "metadata": {
        "id": "489ed52b",
        "outputId": "79e89015-d5c2-42ea-af44-6bf70a9aebd6"
      },
      "outputs": [
        {
          "name": "stdout",
          "output_type": "stream",
          "text": [
            "Digite a nota 1: 6\n",
            "Digite a nota 2: 6\n"
          ]
        }
      ],
      "source": [
        "nota1 = float(input('Digite a nota 1: '))\n",
        "nota2 = float(input('Digite a nota 2: '))"
      ]
    },
    {
      "cell_type": "code",
      "execution_count": null,
      "id": "f4bc6bb5",
      "metadata": {
        "id": "f4bc6bb5"
      },
      "outputs": [],
      "source": [
        "media = (nota1 + nota2) / 2"
      ]
    },
    {
      "cell_type": "code",
      "execution_count": null,
      "id": "65d9758c",
      "metadata": {
        "id": "65d9758c",
        "outputId": "7ae7d4a1-102e-4ac5-f40f-265093cdf721"
      },
      "outputs": [
        {
          "name": "stdout",
          "output_type": "stream",
          "text": [
            "Reprovado\n"
          ]
        }
      ],
      "source": [
        "if media >= 7 and media < 10:\n",
        "    print('Aprovado')\n",
        "elif media == 10:\n",
        "    print('Aprovado com Distincao')\n",
        "elif media < 7:\n",
        "    print('Reprovado')"
      ]
    },
    {
      "cell_type": "markdown",
      "id": "90beb396",
      "metadata": {
        "id": "90beb396"
      },
      "source": [
        "## Exercício 17\n",
        "Faça um Programa que leia três números e mostre o maior e o menor deles."
      ]
    },
    {
      "cell_type": "code",
      "execution_count": null,
      "id": "4cf7b36a",
      "metadata": {
        "id": "4cf7b36a",
        "outputId": "b6de4a3d-475a-417c-ea0a-394c05b0b6e4"
      },
      "outputs": [
        {
          "name": "stdout",
          "output_type": "stream",
          "text": [
            "Digite um numero: 5\n",
            "Digite um numero: 5\n",
            "Digite um numero: 5\n",
            "5 é o menor entre eles\n"
          ]
        }
      ],
      "source": [
        "numero1 = int(input('Digite um numero: '))\n",
        "numero2 = int(input('Digite um numero: '))\n",
        "numero3 = int(input('Digite um numero: '))\n",
        "\n",
        "if numero1 < numero2 and numero1 < numero3:\n",
        "    print(f'{numero1} é o menor entre eles')\n",
        "elif numero2 < numero1 and numero2 < numero3:\n",
        "    print(f'{numero2} é o menor entre eles')\n",
        "else:\n",
        "    print(f'{numero3} é o menor entre eles')"
      ]
    },
    {
      "cell_type": "markdown",
      "id": "afb9821e",
      "metadata": {
        "id": "afb9821e"
      },
      "source": [
        "## Exercício 18\n",
        "Faça um programa que pergunte o preço de três produtos e informe qual produto você deve comprar, sabendo que a decisão é sempre pelo mais barato."
      ]
    },
    {
      "cell_type": "code",
      "execution_count": null,
      "id": "ffb70483",
      "metadata": {
        "id": "ffb70483",
        "outputId": "3dde9da2-b65f-4a1a-c92b-14ad915c1918"
      },
      "outputs": [
        {
          "name": "stdout",
          "output_type": "stream",
          "text": [
            "Digite o preço do primeiro produto R$: 15.44\n",
            "Digite o preço do segundo produto R$: 11.56\n",
            "Digite o preço do terceiro produto R$: 10.00\n",
            "O melhor produto para comprar é o terceiro por R$ 10.0\n"
          ]
        }
      ],
      "source": [
        "produto1 = float(input('Digite o preço do primeiro produto R$: '))\n",
        "produto2 = float(input('Digite o preço do segundo produto R$: '))\n",
        "produto3 = float(input('Digite o preço do terceiro produto R$: '))\n",
        "\n",
        "if produto1 < produto2 and produto1 < produto3:\n",
        "    print(f'O melhor produto para comprar é o primeiro por R$ {produto1}')\n",
        "elif produto2 < produto1 and produto2 < produto3:\n",
        "    print(f'O melhor produto para comprar é o segundo por R$ {produto2}')\n",
        "else:\n",
        "    print(f'O melhor produto para comprar é o terceiro por R$ {produto3}')"
      ]
    },
    {
      "cell_type": "markdown",
      "id": "7af4be6c",
      "metadata": {
        "id": "7af4be6c"
      },
      "source": [
        "## Exercício 19\n",
        "Faça um Programa que leia três números e mostre-os em ordem decrescente."
      ]
    },
    {
      "cell_type": "code",
      "execution_count": null,
      "id": "a323ec82",
      "metadata": {
        "id": "a323ec82",
        "outputId": "334fee04-0986-4b79-9482-f822f1460999"
      },
      "outputs": [
        {
          "name": "stdout",
          "output_type": "stream",
          "text": [
            "Digite o primeiro numero: 7\n",
            "Digite o segundo numero: 9\n",
            "Digite o terceiro numero: 4\n",
            "Ordem decrescente: 9.0, 7.0 e 4.0\n"
          ]
        }
      ],
      "source": [
        "numero1 = float(input('Digite o primeiro numero: '))\n",
        "numero2 = float(input('Digite o segundo numero: '))\n",
        "numero3 = float(input('Digite o terceiro numero: '))\n",
        "\n",
        "if (numero1 > numero2) and (numero1 > numero3) and (numero2 > numero3):\n",
        "    maior = numero1\n",
        "    meio = numero2\n",
        "    menor = numero3\n",
        "    print(f'Ordem decrescente: {maior}, {meio} e {menor}')\n",
        "elif ((numero1 > numero2) and (numero1 > numero3)) and (numero3 > numero2):\n",
        "    maior = numero1\n",
        "    meio = numero3\n",
        "    menor = numero2\n",
        "    print(f'Ordem decrescente: {maior}, {meio} e {menor}')\n",
        "elif ((numero2 > numero1) and (numero2 > numero3)) and (numero1 > numero3):\n",
        "    maior = numero2\n",
        "    meio = numero1\n",
        "    menor = numero3\n",
        "    print(f'Ordem decrescente: {maior}, {meio} e {menor}')\n",
        "elif ((numero2 > numero1) and (numero2 > numero3)) and (numero3 > numero1):\n",
        "    maior = numero2\n",
        "    meio = numero3\n",
        "    menor = numero1\n",
        "    print(f'Ordem decrescente: {maior}, {meio} e {menor}')\n",
        "elif ((numero3 > numero1) and (numero3 > numero2)) and (numero2 > numero1):\n",
        "    maior = numero3\n",
        "    meio = numero2\n",
        "    menor = numero1\n",
        "    print(f'Ordem decrescente: {maior}, {meio} e {menor}')\n",
        "elif ((numero3 > numero1) and (numero3 > numero2)) and (numero1 > numero2):\n",
        "    maior = numero3\n",
        "    meio = numero1\n",
        "    menor = numero2\n",
        "    print(f'Ordem decrescente: {maior}, {meio} e {menor}')\n"
      ]
    },
    {
      "cell_type": "markdown",
      "id": "ac3730ef",
      "metadata": {
        "id": "ac3730ef"
      },
      "source": [
        "## Exercício 20\n",
        "Faça um Programa que pergunte em que turno você estuda. Peça para digitar M-matutino ou V-Vespertino ou N- Noturno. Imprima a mensagem \"Bom Dia!\", \"Boa Tarde!\" ou \"Boa Noite!\" ou \"Valor Inválido!\", conforme o caso."
      ]
    },
    {
      "cell_type": "code",
      "execution_count": null,
      "id": "f58ba0f8",
      "metadata": {
        "id": "f58ba0f8",
        "outputId": "eb4f5801-3a29-4cd0-ac20-c1967d97a736"
      },
      "outputs": [
        {
          "name": "stdout",
          "output_type": "stream",
          "text": [
            "O seguinte input será necessario abreviação dos turno: M = Manutino, V = Vespertino e N = Noturno\n",
            "Qual turno voce estuda: M]\n",
            "Valor Inválido!\n"
          ]
        }
      ],
      "source": [
        "print('O seguinte input será necessario abreviação dos turno: M = Manutino, V = Vespertino e N = Noturno')\n",
        "turno = input(\"Qual turno voce estuda: \")\n",
        "\n",
        "if turno == 'M':\n",
        "    print('Bom Dia!')\n",
        "elif turno == 'V':\n",
        "    print ('Boa tarde!')\n",
        "elif turno == 'N':\n",
        "    print('Boa noite!')\n",
        "else:\n",
        "    print('Valor Inválido!')"
      ]
    },
    {
      "cell_type": "markdown",
      "id": "6ee099f9",
      "metadata": {
        "id": "6ee099f9"
      },
      "source": [
        "## Exercicio 21\n",
        "As Organizacoes Tabajara resolveram dar um aumento de salario aos seus colaboradores e lhe contaram para desenvolver o programa que calculara os reajustes. Faca um programa que recebe o salario de um colaborador e o reajuste segundo o seguinte criterio, baseado no salario atual:\n",
        "\n",
        "salarios ate R$ 280,00 (incluindo) - aumento de 20 por cento\n",
        "salarios entre R$ 280,00 e R$ 700,00 - aumento de 15 por cento\n",
        "salarios entre R$ 700,00 e R$ 1500,00 - aumento de 10 por cento\n",
        "salarios de R$ 1500,00 em diante - aumento de 5 por cento\n",
        "\n",
        "Apos o aumento ser realizado, informe na tela:\n",
        "salario antes do reajuste;\n",
        "percentual de aumento aplicado;\n",
        "valor do aumento;\n",
        "novo salario, apos o aumento."
      ]
    },
    {
      "cell_type": "code",
      "execution_count": null,
      "id": "7c0e51e8",
      "metadata": {
        "id": "7c0e51e8",
        "outputId": "475fe03d-e5e7-4277-9817-816350de28bb"
      },
      "outputs": [
        {
          "name": "stdout",
          "output_type": "stream",
          "text": [
            "Digite o seu salario R$: 1000.00\n",
            "Salario antes do reajuste R$ 1000.0\n",
            "Percentual de aumento aplicado 10.0%\n",
            "Valor do aumento R$ 100.0\n",
            "Valor do novo salario R$ 1100.0\n"
          ]
        }
      ],
      "source": [
        "salario = float(input('Digite o seu salario R$: '))\n",
        "\n",
        "if salario > 0 and salario <= 280.00:\n",
        "    aumento = 0.2\n",
        "elif salario > 280.00 and salario <= 700.00:\n",
        "    aumento = 0.15\n",
        "elif salario > 700.00 and salario <= 1500.00:\n",
        "    aumento = 0.1\n",
        "elif salario > 1500.00:\n",
        "    aumento = 0.05\n",
        "\n",
        "reajuste = salario * aumento\n",
        "novo_salario = salario + reajuste\n",
        "\n",
        "print(f'Salario antes do reajuste R$ {salario}')\n",
        "print(f'Percentual de aumento aplicado {aumento * 100}%')\n",
        "print(f'Valor do aumento R$ {reajuste}')\n",
        "print(f'Valor do novo salario R$ {novo_salario}')"
      ]
    },
    {
      "cell_type": "markdown",
      "id": "b399b1e3",
      "metadata": {
        "id": "b399b1e3"
      },
      "source": [
        "## Exercício 23\n",
        "Faça um Programa que leia um número e exiba o dia correspondente da semana. (1- Domingo, 2- Segunda, etc.), se digitar outro valor deve aparecer valor inválido."
      ]
    },
    {
      "cell_type": "code",
      "execution_count": null,
      "id": "aa24fa1c",
      "metadata": {
        "id": "aa24fa1c",
        "outputId": "d4af3b58-dbc4-4682-fd8d-d25db40e0e89"
      },
      "outputs": [
        {
          "name": "stdout",
          "output_type": "stream",
          "text": [
            "Digite um numero correspondente ao dia da semana: 10\n",
            "Valor invalido\n"
          ]
        }
      ],
      "source": [
        "numero = int(input('Digite um numero correspondente ao dia da semana: '))\n",
        "\n",
        "if numero == 1:\n",
        "    print('Domingo')\n",
        "elif numero == 2:\n",
        "    print('Segunda')\n",
        "elif numero == 3:\n",
        "    print('Terça')\n",
        "elif numero == 4:\n",
        "    print('Quarta')\n",
        "elif numero == 5:\n",
        "    print('Quinta')\n",
        "elif numero == 6:\n",
        "    print('Sexta')\n",
        "elif numero == 7:\n",
        "    print('Sabado')\n",
        "else:\n",
        "    print('Valor invalido')"
      ]
    },
    {
      "cell_type": "markdown",
      "id": "8070e600",
      "metadata": {
        "id": "8070e600"
      },
      "source": [
        "## Exercício 24\n",
        "Faça um programa que lê as duas notas parciais obtidas por um aluno numa disciplina ao longo de um semestre, e calcule a sua média. A atribuição de conceitos obedece à tabela abaixo:\n",
        "O algoritmo deve mostrar na tela as notas, a média, o conceito correspondente e a mensagem “APROVADO” se o conceito for A, B ou C ou “REPROVADO” se o conceito for D ou E."
      ]
    },
    {
      "cell_type": "code",
      "execution_count": null,
      "id": "1921a067",
      "metadata": {
        "id": "1921a067",
        "outputId": "f54d3543-d223-4539-ab57-48994fa4eff5"
      },
      "outputs": [
        {
          "name": "stdout",
          "output_type": "stream",
          "text": [
            "Digite a sua primeira nota: 5\n",
            "Digite a sua segunda nota: 5\n",
            "Media: 5.0, Conceito: D e aluno Reprovado\n"
          ]
        }
      ],
      "source": [
        "nota1 = float(input('Digite a sua primeira nota: '))\n",
        "nota2 = float(input('Digite a sua segunda nota: '))\n",
        "\n",
        "media = (nota1 + nota2) / 2\n",
        "\n",
        "if media > 9.0 and media <= 10.0:\n",
        "    conceito = 'A'\n",
        "    aprovado = True\n",
        "elif media > 7.5 and media <= 9.0:\n",
        "    conceito = 'B'\n",
        "    aprovado = True\n",
        "elif media > 6.0 and media <= 7.5:\n",
        "    conceito = 'C'\n",
        "    aprovado = True\n",
        "elif media > 4.0 and media <= 6:\n",
        "    conceito = 'D'\n",
        "    aprovado = False\n",
        "elif media >= 0 and media <= 4:\n",
        "    conceito = 'E'\n",
        "    aprovado = False\n",
        "else:\n",
        "    print('Media invalida')\n",
        "\n",
        "if aprovado:\n",
        "    aprovado = 'Aprovado'\n",
        "else:\n",
        "    aprovado = 'Reprovado'\n",
        "\n",
        "print(f'Media: {media}, Conceito: {conceito} e aluno {aprovado}')"
      ]
    },
    {
      "cell_type": "markdown",
      "id": "5a9a4123",
      "metadata": {
        "id": "5a9a4123"
      },
      "source": [
        "# Desafio do professor\n",
        "Crie um codigo para classificar 5 números. O usuario pode escolher em classificar os valores na ordem crescente ou decrescente.\n",
        "**Obs:** Utilize apenas a estrutura conficional IF\n"
      ]
    },
    {
      "cell_type": "code",
      "execution_count": null,
      "id": "633f38e3",
      "metadata": {
        "id": "633f38e3"
      },
      "outputs": [],
      "source": [
        "numero1 = int(input('Digite o primeiro numero: '))\n",
        "numero2 = int(input('Digite o segundo numero: '))\n",
        "numero3 = int(input('Digite o terceiro numero: '))\n",
        "numero4 = int(input('Digite o quarto numero: '))\n",
        "numero5 = int(input('Digite o quinto numero: '))\n",
        "\n",
        "\n",
        "if numero1 > numero2 and numero1 > numero > 3 and numero1 > numero4 and numero1 > numero5:\n",
        "    if numero2 > numero3 and numero2 > numero4 and numero2 > numero5:\n",
        "        if numero3 > numero4 and numero3 > numero5:\n",
        "            if numero4 > numero5\n",
        "                print(numero1, numero2, numero3, numero4, numero5)\n",
        "            else:\n",
        "                print(numero1, numero2, numero3, numero5, numero4)\n",
        "        else:\n",
        "\n",
        "\n",
        "\n",
        "\n",
        "    elif numero3 > numero2 and numero3 > numero4 and numero3 > numero5:\n",
        "        segundo = numero3\n",
        "        if numero2 > numero4 and numero2 > numero5:\n",
        "            terceiro = numero3\n",
        "\n",
        "\n",
        "    elif  if numero4 > numero2 and numero4 > numero3 and numero4 > numero5:\n",
        "        segundo = numero4\n",
        "    elif  if numero5 > numero2 and numero5 > numero3 and numero5 > numero4:\n",
        "        segundo = numero5\n",
        "\n",
        "\n",
        "        if numero3 > numero4 and numero3 > numero5:\n",
        "            terceiro = numero3\n",
        "            if numero4 > numero5:\n",
        "                quarto = numero4\n",
        "            else quinto = numero5\n",
        "\n",
        "    elif  if numero3 > numero2 and numero3 > numero4 and numero3 > numero5:\n",
        "        segundo = numero3\n",
        "        if numero3 > numero4 and numero3 > numero5:\n",
        "            terceiro = numero3\n",
        "            if numero4 > numero5:\n",
        "                quarto = numero4\n",
        "            else quinto = numero5\n",
        "\n",
        "\n"
      ]
    },
    {
      "cell_type": "code",
      "execution_count": null,
      "id": "95096e2a",
      "metadata": {
        "id": "95096e2a",
        "outputId": "a40ba9b4-26ca-4dfc-d4cd-0a0ac5ea02af"
      },
      "outputs": [
        {
          "name": "stdout",
          "output_type": "stream",
          "text": [
            "Digite o primeiro numero: 5\n",
            "Digite o segundo numero: 8\n",
            "Digite o terceiro numero: 7\n",
            "Digite o quarto numero: 4\n",
            "Digite o quinto numero: 1\n"
          ]
        },
        {
          "data": {
            "text/plain": [
              "[8, 7, 5, 4, 1]"
            ]
          },
          "execution_count": 49,
          "metadata": {},
          "output_type": "execute_result"
        }
      ],
      "source": [
        "numero1 = int(input('Digite o primeiro numero: '))\n",
        "numero2 = int(input('Digite o segundo numero: '))\n",
        "numero3 = int(input('Digite o terceiro numero: '))\n",
        "numero4 = int(input('Digite o quarto numero: '))\n",
        "numero5 = int(input('Digite o quinto numero: '))\n",
        "\n",
        "ordenacao = input('Deseja ir ')\n",
        "lista = [numero1, numero2, numero3, numero4, numero5]\n",
        "\n",
        "lista_ordenada = sorted(lista, reverse=True)\n",
        "\n",
        "lista_ordenada"
      ]
    },
    {
      "cell_type": "code",
      "execution_count": null,
      "id": "00ed7aaa",
      "metadata": {
        "id": "00ed7aaa"
      },
      "outputs": [],
      "source": []
    }
  ],
  "metadata": {
    "kernelspec": {
      "display_name": "Python 3 (ipykernel)",
      "language": "python",
      "name": "python3"
    },
    "language_info": {
      "codemirror_mode": {
        "name": "ipython",
        "version": 3
      },
      "file_extension": ".py",
      "mimetype": "text/x-python",
      "name": "python",
      "nbconvert_exporter": "python",
      "pygments_lexer": "ipython3",
      "version": "3.10.9"
    },
    "colab": {
      "provenance": []
    }
  },
  "nbformat": 4,
  "nbformat_minor": 5
}