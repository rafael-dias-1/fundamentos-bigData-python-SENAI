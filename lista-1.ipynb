{
  "cells": [
    {
      "cell_type": "markdown",
      "id": "3a82706f",
      "metadata": {
        "id": "3a82706f"
      },
      "source": [
        "## Exercício 01\n",
        "Crie um programa para receber dois valores e em seguida, exiba o valor da soma."
      ]
    },
    {
      "cell_type": "code",
      "execution_count": null,
      "id": "b1e0dea8",
      "metadata": {
        "id": "b1e0dea8"
      },
      "outputs": [],
      "source": [
        "num1 = 10\n",
        "num2 = 5"
      ]
    },
    {
      "cell_type": "code",
      "execution_count": null,
      "id": "d4b9892d",
      "metadata": {
        "id": "d4b9892d",
        "outputId": "f2f6bed1-7b5d-4dcf-84cc-a2285385883e"
      },
      "outputs": [
        {
          "name": "stdout",
          "output_type": "stream",
          "text": [
            "15\n"
          ]
        }
      ],
      "source": [
        "soma = num1 + num2\n",
        "print(soma)"
      ]
    },
    {
      "cell_type": "markdown",
      "id": "71be7c67",
      "metadata": {
        "id": "71be7c67"
      },
      "source": [
        "## Exercício 02\n",
        "Crie um programa para receber dois valores e em seguida, exiba o valor da diferença entre eles."
      ]
    },
    {
      "cell_type": "code",
      "execution_count": null,
      "id": "3c6942c5",
      "metadata": {
        "id": "3c6942c5"
      },
      "outputs": [],
      "source": [
        "num1 = 10\n",
        "num2 = 5"
      ]
    },
    {
      "cell_type": "code",
      "execution_count": null,
      "id": "330738a3",
      "metadata": {
        "id": "330738a3",
        "outputId": "cf57659f-71cd-44d0-e449-948d176d2e77"
      },
      "outputs": [
        {
          "data": {
            "text/plain": [
              "5"
            ]
          },
          "execution_count": 13,
          "metadata": {},
          "output_type": "execute_result"
        }
      ],
      "source": [
        "diferenca = num1 - num2\n",
        "diferenca"
      ]
    },
    {
      "cell_type": "markdown",
      "id": "01374445",
      "metadata": {
        "id": "01374445"
      },
      "source": [
        "## Exercício 03\n",
        "Crie um programa para receber dois valores e em seguida, exiba o produto entre eles."
      ]
    },
    {
      "cell_type": "code",
      "execution_count": null,
      "id": "9a98bfd5",
      "metadata": {
        "id": "9a98bfd5"
      },
      "outputs": [],
      "source": [
        "num1 = 10\n",
        "num2 = 5"
      ]
    },
    {
      "cell_type": "code",
      "execution_count": null,
      "id": "f4b77e6b",
      "metadata": {
        "id": "f4b77e6b",
        "outputId": "62f6e790-198f-4e3c-ddb2-ac96a2f6278a"
      },
      "outputs": [
        {
          "data": {
            "text/plain": [
              "50"
            ]
          },
          "execution_count": 15,
          "metadata": {},
          "output_type": "execute_result"
        }
      ],
      "source": [
        "produto = num1 * num2\n",
        "produto"
      ]
    },
    {
      "cell_type": "markdown",
      "id": "cfa80b9b",
      "metadata": {
        "id": "cfa80b9b"
      },
      "source": [
        "## Exercício 04\n",
        "Crie um programa para receber dois valores e em seguida, exiba o quociente entre eles."
      ]
    },
    {
      "cell_type": "code",
      "execution_count": null,
      "id": "3d65132f",
      "metadata": {
        "id": "3d65132f"
      },
      "outputs": [],
      "source": [
        "num1 = 10\n",
        "num2 = 5"
      ]
    },
    {
      "cell_type": "code",
      "execution_count": null,
      "id": "bf3cf8f2",
      "metadata": {
        "id": "bf3cf8f2",
        "outputId": "d06227e8-df15-41e8-da38-11e320b7ff60"
      },
      "outputs": [
        {
          "data": {
            "text/plain": [
              "2.0"
            ]
          },
          "execution_count": 17,
          "metadata": {},
          "output_type": "execute_result"
        }
      ],
      "source": [
        "quociente = num1 / num2\n",
        "quociente"
      ]
    },
    {
      "cell_type": "markdown",
      "id": "dfe8b0b2",
      "metadata": {
        "id": "dfe8b0b2"
      },
      "source": [
        "## Exercício 05\n",
        "Crie um programa para receber dois valores e em seguida, exiba o resto da divisão entre eles."
      ]
    },
    {
      "cell_type": "code",
      "execution_count": null,
      "id": "363a1b23",
      "metadata": {
        "id": "363a1b23"
      },
      "outputs": [],
      "source": [
        "num1 = 10\n",
        "num2 = 5"
      ]
    },
    {
      "cell_type": "code",
      "execution_count": null,
      "id": "c63f21d6",
      "metadata": {
        "id": "c63f21d6",
        "outputId": "3482c8f0-fea5-4824-8655-14786c895ce7"
      },
      "outputs": [
        {
          "data": {
            "text/plain": [
              "0"
            ]
          },
          "execution_count": 21,
          "metadata": {},
          "output_type": "execute_result"
        }
      ],
      "source": [
        "resto = num1 % num2\n",
        "resto"
      ]
    },
    {
      "cell_type": "markdown",
      "id": "8f1c2397",
      "metadata": {
        "id": "8f1c2397"
      },
      "source": [
        "## Exercício 06\n",
        "Crie um programa para receber um número e em seguida, exiba o quadrado dele."
      ]
    },
    {
      "cell_type": "code",
      "execution_count": null,
      "id": "dfa79157",
      "metadata": {
        "id": "dfa79157"
      },
      "outputs": [],
      "source": [
        "num1 = 10"
      ]
    },
    {
      "cell_type": "code",
      "execution_count": null,
      "id": "0306d90a",
      "metadata": {
        "id": "0306d90a",
        "outputId": "b83f2b59-cbec-4260-884d-59b2632f0230"
      },
      "outputs": [
        {
          "data": {
            "text/plain": [
              "100"
            ]
          },
          "execution_count": 24,
          "metadata": {},
          "output_type": "execute_result"
        }
      ],
      "source": [
        "quadrado = num1 ** 2\n",
        "quadrado"
      ]
    },
    {
      "cell_type": "markdown",
      "id": "e3545830",
      "metadata": {
        "id": "e3545830"
      },
      "source": [
        "## Exercício 07\n",
        "Elabora um programa para calcular a raiz quadrada de um número, utilizando a biblioteca math."
      ]
    },
    {
      "cell_type": "code",
      "execution_count": null,
      "id": "0f10c039",
      "metadata": {
        "id": "0f10c039"
      },
      "outputs": [],
      "source": []
    },
    {
      "cell_type": "markdown",
      "id": "f1fd3de1",
      "metadata": {
        "id": "f1fd3de1"
      },
      "source": [
        "## Exercício 08\n",
        "Crie um programa que seja capaz de calcular o valor absoluto de um número."
      ]
    },
    {
      "cell_type": "code",
      "execution_count": null,
      "id": "561d012b",
      "metadata": {
        "id": "561d012b"
      },
      "outputs": [],
      "source": []
    },
    {
      "cell_type": "markdown",
      "id": "48423096",
      "metadata": {
        "id": "48423096"
      },
      "source": [
        "## Exercício 10\n",
        "Faça um Programa que converta metros para centímetros."
      ]
    },
    {
      "cell_type": "code",
      "execution_count": null,
      "id": "7aed8ab8",
      "metadata": {
        "id": "7aed8ab8",
        "outputId": "42235d02-2b33-40b3-de22-0cf98cd8f21d"
      },
      "outputs": [
        {
          "name": "stdout",
          "output_type": "stream",
          "text": [
            "Digite a quantidade de metros: 10\n"
          ]
        }
      ],
      "source": [
        "valor = input('Digite a quantidade de metros: ')"
      ]
    },
    {
      "cell_type": "code",
      "execution_count": null,
      "id": "dfcdf5b1",
      "metadata": {
        "id": "dfcdf5b1"
      },
      "outputs": [],
      "source": [
        "metros = int(valor)"
      ]
    },
    {
      "cell_type": "code",
      "execution_count": null,
      "id": "b5cf3ee0",
      "metadata": {
        "id": "b5cf3ee0",
        "outputId": "b767151d-8fc1-4605-d712-953e856433df"
      },
      "outputs": [
        {
          "name": "stdout",
          "output_type": "stream",
          "text": [
            "O resultado de conversão de 10 para centimetros é de 1000\n"
          ]
        }
      ],
      "source": [
        "centimetros = metros * 100\n",
        "print (f'O resultado de conversão de {metros} para centimetros é de {centimetros}')"
      ]
    },
    {
      "cell_type": "markdown",
      "id": "38c26a3d",
      "metadata": {
        "id": "38c26a3d"
      },
      "source": [
        "## Exercício 12\n",
        "Faça um Programa que calcule a área de um quadrado, em seguida\n",
        "mostre o dobro desta área para o usuário."
      ]
    },
    {
      "cell_type": "code",
      "execution_count": null,
      "id": "7767b35f",
      "metadata": {
        "id": "7767b35f",
        "outputId": "ccf26bb4-146a-4a8e-9f02-3002e0789348"
      },
      "outputs": [
        {
          "name": "stdout",
          "output_type": "stream",
          "text": [
            "Digite a altura do quadrado: 20\n"
          ]
        }
      ],
      "source": [
        "valor = input('Digite a altura do quadrado: ')"
      ]
    },
    {
      "cell_type": "code",
      "execution_count": null,
      "id": "140c97be",
      "metadata": {
        "id": "140c97be"
      },
      "outputs": [],
      "source": [
        "lado = int(valor)"
      ]
    },
    {
      "cell_type": "code",
      "execution_count": null,
      "id": "95dad6fa",
      "metadata": {
        "id": "95dad6fa"
      },
      "outputs": [],
      "source": [
        "area = lado ** 2"
      ]
    },
    {
      "cell_type": "code",
      "execution_count": null,
      "id": "804eda5a",
      "metadata": {
        "id": "804eda5a",
        "outputId": "c01e480f-d19f-4f1e-84e7-2f9cac79c090"
      },
      "outputs": [
        {
          "name": "stdout",
          "output_type": "stream",
          "text": [
            "O dobro da area indicada é:  800\n"
          ]
        }
      ],
      "source": [
        "print('O dobro da area indicada é: ', area * 2)"
      ]
    },
    {
      "cell_type": "markdown",
      "id": "2279eb45",
      "metadata": {
        "id": "2279eb45"
      },
      "source": [
        "## Exercício 13\n",
        "Faça um Programa que pergunte quanto você ganha por hora e o número de horas trabalhadas no mês. Calcule e mostre o total do seu salário no referido mês."
      ]
    },
    {
      "cell_type": "code",
      "execution_count": null,
      "id": "67a29980",
      "metadata": {
        "id": "67a29980",
        "outputId": "11ffdf51-02ca-4862-b649-5cb88043f798"
      },
      "outputs": [
        {
          "name": "stdout",
          "output_type": "stream",
          "text": [
            "Quanto vc ganha por horas: 50\n"
          ]
        }
      ],
      "source": [
        "valor_por_horas = int(input('Quanto vc ganha por horas: '))"
      ]
    },
    {
      "cell_type": "code",
      "execution_count": null,
      "id": "26fe5959",
      "metadata": {
        "id": "26fe5959",
        "outputId": "1f22a8e0-e5e6-4a9a-f9b4-bd02147afe4d"
      },
      "outputs": [
        {
          "name": "stdout",
          "output_type": "stream",
          "text": [
            "Quantas horas vc trabalha por mes: 160\n"
          ]
        }
      ],
      "source": [
        "quantidade_horas = int(input('Quantas horas vc trabalha por mes: '))"
      ]
    },
    {
      "cell_type": "code",
      "execution_count": null,
      "id": "38c14202",
      "metadata": {
        "id": "38c14202"
      },
      "outputs": [],
      "source": [
        "salario = valor_por_horas * quantidade_horas"
      ]
    },
    {
      "cell_type": "code",
      "execution_count": null,
      "id": "4593ae0b",
      "metadata": {
        "id": "4593ae0b",
        "outputId": "13e606d5-14a1-4afb-f2e2-da4ef9c801e3"
      },
      "outputs": [
        {
          "name": "stdout",
          "output_type": "stream",
          "text": [
            "Seu salario é R$ 8000\n"
          ]
        }
      ],
      "source": [
        "print(f'Seu salario é R$ {salario}')"
      ]
    },
    {
      "cell_type": "code",
      "execution_count": null,
      "id": "d92d2894",
      "metadata": {
        "id": "d92d2894"
      },
      "outputs": [],
      "source": []
    }
  ],
  "metadata": {
    "kernelspec": {
      "display_name": "Python 3 (ipykernel)",
      "language": "python",
      "name": "python3"
    },
    "language_info": {
      "codemirror_mode": {
        "name": "ipython",
        "version": 3
      },
      "file_extension": ".py",
      "mimetype": "text/x-python",
      "name": "python",
      "nbconvert_exporter": "python",
      "pygments_lexer": "ipython3",
      "version": "3.10.9"
    },
    "colab": {
      "provenance": []
    }
  },
  "nbformat": 4,
  "nbformat_minor": 5
}