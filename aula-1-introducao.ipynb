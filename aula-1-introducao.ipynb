{
  "cells": [
    {
      "cell_type": "markdown",
      "id": "155d858d",
      "metadata": {
        "id": "155d858d"
      },
      "source": [
        "# Primeira aula de Python no SENAI"
      ]
    },
    {
      "cell_type": "code",
      "execution_count": null,
      "id": "711b7869",
      "metadata": {
        "id": "711b7869",
        "outputId": "13c3b74d-410e-4d96-f891-507f7b5dade5"
      },
      "outputs": [
        {
          "name": "stdout",
          "output_type": "stream",
          "text": [
            "Hello World\n"
          ]
        }
      ],
      "source": [
        "print('Hello World')"
      ]
    },
    {
      "cell_type": "markdown",
      "id": "4efd2b8b",
      "metadata": {
        "id": "4efd2b8b"
      },
      "source": [
        "# Declarando variaveis"
      ]
    },
    {
      "cell_type": "code",
      "execution_count": null,
      "id": "0943e245",
      "metadata": {
        "id": "0943e245"
      },
      "outputs": [],
      "source": [
        "a = 10\n",
        "b = 'Rafael'\n",
        "c = 0.5\n",
        "d = ['Abelha', 'Beterraba', 'Churrasco']"
      ]
    },
    {
      "cell_type": "code",
      "execution_count": null,
      "id": "60582b08",
      "metadata": {
        "id": "60582b08",
        "outputId": "f4af4e4e-534f-4945-c4f0-961cb2cda279"
      },
      "outputs": [
        {
          "data": {
            "text/plain": [
              "int"
            ]
          },
          "execution_count": 5,
          "metadata": {},
          "output_type": "execute_result"
        }
      ],
      "source": [
        "type (a)"
      ]
    },
    {
      "cell_type": "code",
      "execution_count": null,
      "id": "708b2094",
      "metadata": {
        "id": "708b2094",
        "outputId": "3b93e547-5737-44d1-9591-8a584610d609"
      },
      "outputs": [
        {
          "data": {
            "text/plain": [
              "list"
            ]
          },
          "execution_count": 6,
          "metadata": {},
          "output_type": "execute_result"
        }
      ],
      "source": [
        "type (d)"
      ]
    }
  ],
  "metadata": {
    "kernelspec": {
      "display_name": "Python 3 (ipykernel)",
      "language": "python",
      "name": "python3"
    },
    "language_info": {
      "codemirror_mode": {
        "name": "ipython",
        "version": 3
      },
      "file_extension": ".py",
      "mimetype": "text/x-python",
      "name": "python",
      "nbconvert_exporter": "python",
      "pygments_lexer": "ipython3",
      "version": "3.10.9"
    },
    "colab": {
      "provenance": []
    }
  },
  "nbformat": 4,
  "nbformat_minor": 5
}