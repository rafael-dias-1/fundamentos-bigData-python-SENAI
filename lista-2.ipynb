{
  "cells": [
    {
      "cell_type": "markdown",
      "id": "6b2630f9",
      "metadata": {
        "id": "6b2630f9"
      },
      "source": [
        "## Exercício 01\n",
        "Crie uma variável chamada \"idade\" e atribua um valor inteiro a ela. Verifique se a idade é maior ou igual a 18 e imprima \"Maior de idade\" ou \"Menor de idade\" de acordo com a condição."
      ]
    },
    {
      "cell_type": "code",
      "execution_count": null,
      "id": "3dc617ba",
      "metadata": {
        "id": "3dc617ba"
      },
      "outputs": [],
      "source": [
        "idade = 25"
      ]
    },
    {
      "cell_type": "code",
      "execution_count": null,
      "id": "92b59278",
      "metadata": {
        "id": "92b59278",
        "outputId": "3774e693-00b1-4744-da8a-1ec977bdc6a0"
      },
      "outputs": [
        {
          "name": "stdout",
          "output_type": "stream",
          "text": [
            "Maior de idade\n"
          ]
        }
      ],
      "source": [
        "if idade >= 18:\n",
        "    print('Maior de idade')\n",
        "else:\n",
        "    print('Menor de idade')"
      ]
    },
    {
      "cell_type": "markdown",
      "id": "de8e9402",
      "metadata": {
        "id": "de8e9402"
      },
      "source": [
        "## Exercício 02\n",
        "Crie uma variável chamada \"número\" e atribua um valor inteiro a ela. Verifique se o número é positivo, negativo ou zero e imprima a mensagem correspondente."
      ]
    },
    {
      "cell_type": "code",
      "execution_count": null,
      "id": "df99f8e1",
      "metadata": {
        "id": "df99f8e1"
      },
      "outputs": [],
      "source": [
        "numero = 5"
      ]
    },
    {
      "cell_type": "code",
      "execution_count": null,
      "id": "ae94d547",
      "metadata": {
        "id": "ae94d547",
        "outputId": "8b431c1a-d6b6-4c65-8e4e-db81c96a3f32"
      },
      "outputs": [
        {
          "name": "stdout",
          "output_type": "stream",
          "text": [
            "Positivo\n"
          ]
        }
      ],
      "source": [
        "if numero == 0:\n",
        "    print('Numero igual a zero')\n",
        "elif numero > 0:\n",
        "    print('Positivo')\n",
        "else:\n",
        "    print('Negativo')"
      ]
    },
    {
      "cell_type": "markdown",
      "id": "56bc38ff",
      "metadata": {
        "id": "56bc38ff"
      },
      "source": [
        "## Exercício 03\n",
        "Crie duas variáveis, \"nota1\" e \"nota2\", e atribua valores numéricos a elas. Verifique se a média das notas é maior ou igual a 7 e imprima \"Aprovado\" ou \"Reprovado\" de acordo com a condição."
      ]
    },
    {
      "cell_type": "code",
      "execution_count": null,
      "id": "5c3e3e28",
      "metadata": {
        "id": "5c3e3e28"
      },
      "outputs": [],
      "source": [
        "nota1 = 5\n",
        "nota2 = 8"
      ]
    },
    {
      "cell_type": "code",
      "execution_count": null,
      "id": "c4d5e1ad",
      "metadata": {
        "id": "c4d5e1ad"
      },
      "outputs": [],
      "source": [
        "media = (nota1 + nota2)/2"
      ]
    },
    {
      "cell_type": "code",
      "execution_count": null,
      "id": "d059a9ae",
      "metadata": {
        "id": "d059a9ae",
        "outputId": "ff26c5ae-cfda-4c78-be31-4ef319d05d50"
      },
      "outputs": [
        {
          "name": "stdout",
          "output_type": "stream",
          "text": [
            "Reprovado\n"
          ]
        }
      ],
      "source": [
        "if media >= 7:\n",
        "    print('Aprovado')\n",
        "else:\n",
        "    print('Reprovado')"
      ]
    },
    {
      "cell_type": "markdown",
      "id": "4c2aa806",
      "metadata": {
        "id": "4c2aa806"
      },
      "source": [
        "## Exercício 04\n",
        "Crie uma variável chamada \"idade\" e atribua um valor inteiro a ela. Verifique se a idade está dentro do intervalo de 18 a 30 (inclusive) e imprima a mensagem \"Idade válida\" ou \"Idade inválida\" de acordo com a condição."
      ]
    },
    {
      "cell_type": "code",
      "execution_count": null,
      "id": "1a2e1310",
      "metadata": {
        "id": "1a2e1310"
      },
      "outputs": [],
      "source": [
        "idade = 31"
      ]
    },
    {
      "cell_type": "code",
      "execution_count": null,
      "id": "509e4145",
      "metadata": {
        "id": "509e4145",
        "outputId": "aef0387a-3715-4c1d-d055-5f3b5e6363ec"
      },
      "outputs": [
        {
          "name": "stdout",
          "output_type": "stream",
          "text": [
            "Idade inválida\n"
          ]
        }
      ],
      "source": [
        "if (idade >= 18) and (idade <= 30):\n",
        "    print('Idade válida')\n",
        "else:\n",
        "    print('Idade inválida')"
      ]
    },
    {
      "cell_type": "markdown",
      "id": "3669a626",
      "metadata": {
        "id": "3669a626"
      },
      "source": [
        "## Exercício 05\n",
        "Crie uma variável chamada \"numero\" e atribua um valor inteiro a ela. Verifique se o número é par ou ímpar e imprima a mensagem correspondente."
      ]
    },
    {
      "cell_type": "code",
      "execution_count": null,
      "id": "c9801da4",
      "metadata": {
        "id": "c9801da4"
      },
      "outputs": [],
      "source": [
        "numero = 25"
      ]
    },
    {
      "cell_type": "code",
      "execution_count": null,
      "id": "4738c9fe",
      "metadata": {
        "id": "4738c9fe",
        "outputId": "51eca57f-9535-4056-9069-45f06a86b95a"
      },
      "outputs": [
        {
          "name": "stdout",
          "output_type": "stream",
          "text": [
            "Impar\n"
          ]
        }
      ],
      "source": [
        "if (numero % 2) == 0:\n",
        "    print('Par')\n",
        "else:\n",
        "    print('Impar')"
      ]
    },
    {
      "cell_type": "markdown",
      "id": "582e10dc",
      "metadata": {
        "id": "582e10dc"
      },
      "source": [
        "## Exercício 06\n",
        "Crie uma variável chamada \"horario\" e atribua um valor inteiro representando a hora do dia (em formato 24 horas). Verifique se o horário está dentro do período da manhã (das 6h às 12h), da tarde (das 12h às 18h) ou da noite (das 18h às 23h) e imprima a mensagem correspondente."
      ]
    },
    {
      "cell_type": "code",
      "execution_count": null,
      "id": "c839ede8",
      "metadata": {
        "id": "c839ede8"
      },
      "outputs": [],
      "source": [
        "horario = 19"
      ]
    },
    {
      "cell_type": "code",
      "execution_count": null,
      "id": "661be23f",
      "metadata": {
        "id": "661be23f",
        "outputId": "d7997cb8-35af-416f-f599-0e928e5f9008"
      },
      "outputs": [
        {
          "name": "stdout",
          "output_type": "stream",
          "text": [
            "período da noite\n"
          ]
        }
      ],
      "source": [
        "if (horario >= 6) and (horario <= 12):\n",
        "    print('período da manhã')\n",
        "elif (horario > 12) and (horario <= 18):\n",
        "    print('período da tarde')\n",
        "elif (horario > 18) and (horario <= 23):\n",
        "    print('período da noite')\n",
        "else:\n",
        "    print('Fora do intervalor definido no enunciado')\n",
        ""
      ]
    },
    {
      "cell_type": "markdown",
      "id": "c1cfaedb",
      "metadata": {
        "id": "c1cfaedb"
      },
      "source": [
        "## Exercício 07\n",
        "Crie uma variável chamada \"peso\" e atribua um valor numérico a ela. Verifique se o peso está dentro do intervalo de 50 a 100 (inclusive) e imprima a mensagem \"Peso válido\" ou \"Peso inválido\" de acordo com a condição."
      ]
    },
    {
      "cell_type": "code",
      "execution_count": null,
      "id": "4f2a3ac3",
      "metadata": {
        "id": "4f2a3ac3"
      },
      "outputs": [],
      "source": [
        "peso = 105.5"
      ]
    },
    {
      "cell_type": "code",
      "execution_count": null,
      "id": "3ed91e78",
      "metadata": {
        "id": "3ed91e78",
        "outputId": "6e73d2f7-eb05-4889-e73f-b74b64b2f81c"
      },
      "outputs": [
        {
          "name": "stdout",
          "output_type": "stream",
          "text": [
            "Peso inválido\n"
          ]
        }
      ],
      "source": [
        "if (peso >= 50.00) and (peso <= 100.00):\n",
        "    print('Peso válido')\n",
        "else:\n",
        "    print('Peso inválido')"
      ]
    },
    {
      "cell_type": "markdown",
      "id": "2d6b44e2",
      "metadata": {
        "id": "2d6b44e2"
      },
      "source": [
        "## Exercício 08\n",
        "Crie uma variável chamada \"numero\" e atribua um valor inteiro a ela. Verifique se o número é múltiplo de 3 e de 5 ao mesmo tempo e imprima a mensagem correspondente."
      ]
    },
    {
      "cell_type": "code",
      "execution_count": null,
      "id": "d102514b",
      "metadata": {
        "id": "d102514b"
      },
      "outputs": [],
      "source": [
        "numero = 26"
      ]
    },
    {
      "cell_type": "code",
      "execution_count": null,
      "id": "85c2172e",
      "metadata": {
        "id": "85c2172e",
        "outputId": "a677ffe9-7f1f-4420-84df-4ad2e33f1dba"
      },
      "outputs": [
        {
          "name": "stdout",
          "output_type": "stream",
          "text": [
            "o número não é múltiplo de 3 e de 5\n"
          ]
        }
      ],
      "source": [
        "if (numero % 3 == 0) and (numero % 5 == 0):\n",
        "    print('o número é múltiplo de 3 e de 5')\n",
        "else:\n",
        "    print('o número não é múltiplo de 3 e de 5')"
      ]
    },
    {
      "cell_type": "markdown",
      "id": "fea74f64",
      "metadata": {
        "id": "fea74f64"
      },
      "source": [
        "## Exercício 09\n",
        "Crie uma variável chamada \"ano\" e atribua um valor inteiro representando um ano. Verifique se o ano é bissexto (divisível por 4, mas não por 100, exceto se for divisível por 400) e imprima a mensagem correspondente."
      ]
    },
    {
      "cell_type": "code",
      "execution_count": null,
      "id": "5dfc8649",
      "metadata": {
        "id": "5dfc8649"
      },
      "outputs": [],
      "source": [
        "ano = 2024"
      ]
    },
    {
      "cell_type": "code",
      "execution_count": null,
      "id": "8eb84cc3",
      "metadata": {
        "id": "8eb84cc3",
        "outputId": "0dc79549-3170-4ab9-b77c-d392b0c39677"
      },
      "outputs": [
        {
          "name": "stdout",
          "output_type": "stream",
          "text": [
            "Ano bissexto\n"
          ]
        }
      ],
      "source": [
        "if (((ano % 4 == 0) and (ano % 400 != 0)) or (ano % 400 == 0)):\n",
        "    print ('Ano bissexto')\n",
        "else:\n",
        "    print('Não é ano bissexto')"
      ]
    },
    {
      "cell_type": "markdown",
      "id": "d1d2e8a6",
      "metadata": {
        "id": "d1d2e8a6"
      },
      "source": [
        "## Exercício 10\n",
        "Crie uma variável chamada \"salario\" e atribua um valor numérico a ela. Verifique se o salário é maior do que 1000 e menor do que 2000 ao mesmo tempo e imprima a mensagem correspondente."
      ]
    },
    {
      "cell_type": "code",
      "execution_count": null,
      "id": "bb42f54b",
      "metadata": {
        "id": "bb42f54b"
      },
      "outputs": [],
      "source": [
        "salario = 1000.00"
      ]
    },
    {
      "cell_type": "code",
      "execution_count": null,
      "id": "8216cd02",
      "metadata": {
        "id": "8216cd02",
        "outputId": "9820fe18-dbbf-4ca9-937f-14986de915c1"
      },
      "outputs": [
        {
          "name": "stdout",
          "output_type": "stream",
          "text": [
            "Salario não é maior que R$1000,00 e menor que R$2000,00\n"
          ]
        }
      ],
      "source": [
        "if (salario > 1000.00) and (salario < 2000.00):\n",
        "    print('Salario é maior que R$1000,00 e menor que R$2000,00')\n",
        "else:\n",
        "    print('Salario não é maior que R$1000,00 e menor que R$2000,00')"
      ]
    },
    {
      "cell_type": "code",
      "execution_count": null,
      "id": "0c540844",
      "metadata": {
        "id": "0c540844",
        "outputId": "348d310a-94f3-4853-c521-5c46e72dccdc"
      },
      "outputs": [
        {
          "name": "stdout",
          "output_type": "stream",
          "text": [
            "Collecting holidays\n",
            "  Downloading holidays-0.31-py3-none-any.whl (754 kB)\n",
            "     -------------------------------------- 754.3/754.3 kB 9.5 MB/s eta 0:00:00\n",
            "Requirement already satisfied: python-dateutil in c:\\users\\fic\\anaconda3\\lib\\site-packages (from holidays) (2.8.2)\n",
            "Requirement already satisfied: six>=1.5 in c:\\users\\fic\\anaconda3\\lib\\site-packages (from python-dateutil->holidays) (1.16.0)\n",
            "Installing collected packages: holidays\n",
            "Successfully installed holidays-0.31\n"
          ]
        }
      ],
      "source": [
        "!pip install --upgrade holidays"
      ]
    },
    {
      "cell_type": "code",
      "execution_count": null,
      "id": "e6dc8dd4",
      "metadata": {
        "id": "e6dc8dd4"
      },
      "outputs": [],
      "source": [
        "from datetime import date\n",
        "import holidays"
      ]
    },
    {
      "cell_type": "code",
      "execution_count": null,
      "id": "4d057f09",
      "metadata": {
        "id": "4d057f09"
      },
      "outputs": [],
      "source": [
        "br_holidays = holidays.country_holidays('BR')"
      ]
    },
    {
      "cell_type": "code",
      "execution_count": null,
      "id": "a02bc769",
      "metadata": {
        "id": "a02bc769",
        "outputId": "3fd61bb5-00f8-4ef1-99d7-535adfeb960a"
      },
      "outputs": [
        {
          "data": {
            "text/plain": [
              "True"
            ]
          },
          "execution_count": 124,
          "metadata": {},
          "output_type": "execute_result"
        }
      ],
      "source": [
        "date(2015, 9, 7) in br_holidays"
      ]
    },
    {
      "cell_type": "markdown",
      "id": "66d77086",
      "metadata": {
        "id": "66d77086"
      },
      "source": [
        "## Exercício 30\n",
        "Faça um programa que faça 5 perguntas para uma pessoa sobre um crime. As perguntas são:\n",
        "1. \"Telefonou para a vítima?\"\n",
        "2. \"Esteve no local do crime?\"\n",
        "3. \"Mora perto da vítima?\"\n",
        "4. \"Devia para a vítima?\"\n",
        "5. \"Já trabalhou com a vítima?\"\n",
        "O programa deve no final emitir uma classificação sobre a participação da pessoa no crime. Se a pessoa responder positivamente a 2 questões ela deve ser classificada como \"Suspeita\", entre 3 e 4 como \"Cúmplice\" e 5 como \"Assassino\". Caso contrário, ele será classificado como \"Inocente\"."
      ]
    },
    {
      "cell_type": "code",
      "execution_count": null,
      "id": "f2157509",
      "metadata": {
        "id": "f2157509",
        "outputId": "eec8bcc4-2c4e-43a6-fabe-0b2166df4752"
      },
      "outputs": [
        {
          "name": "stdout",
          "output_type": "stream",
          "text": [
            "-----------------------------------------------------------------------\n",
            "Responda as perguntas as perguntas a seguir com S para sim e N para não\n",
            "-----------------------------------------------------------------------\n",
            "Telefonou para a vítima? S\n",
            "Esteve no local do crime? S\n",
            "Mora perto da vítima? S\n",
            "Devia para a vítima? S\n",
            "Já trabalhou com a vítima? S\n",
            "Assassino\n"
          ]
        }
      ],
      "source": [
        "print('-----------------------------------------------------------------------')\n",
        "print('Responda as perguntas as perguntas a seguir com S para sim e N para não')\n",
        "print('-----------------------------------------------------------------------')\n",
        "resposta = 0\n",
        "resposta1 = input('Telefonou para a vítima? ')\n",
        "if resposta1 == 'S':\n",
        "    resposta = resposta + 1\n",
        "resposta2 = input('Esteve no local do crime? ')\n",
        "if resposta2 == 'S':\n",
        "    resposta = resposta + 1\n",
        "resposta3 = input('Mora perto da vítima? ')\n",
        "if resposta3 == 'S':\n",
        "    resposta = resposta + 1\n",
        "resposta4 = input('Devia para a vítima? ')\n",
        "if resposta4 == 'S':\n",
        "    resposta = resposta + 1\n",
        "resposta5 = input('Já trabalhou com a vítima? ')\n",
        "if resposta5 == 'S':\n",
        "    resposta = resposta + 1\n",
        "\n",
        "if  resposta == 2:\n",
        "    print(\"Suspeita\")\n",
        "elif resposta >=3 and resposta <= 4:\n",
        "    print(\"Cúmplice\")\n",
        "elif resposta == 5:\n",
        "    print(\"Assassino\")\n",
        "else:\n",
        "    print(\"Inocente\")\n",
        "\n"
      ]
    },
    {
      "cell_type": "markdown",
      "id": "6868bd8f",
      "metadata": {
        "id": "6868bd8f"
      },
      "source": [
        "## Exercício 16\n",
        "Faça um Programa que leia três números e mostre o maior deles."
      ]
    },
    {
      "cell_type": "code",
      "execution_count": null,
      "id": "b26985cd",
      "metadata": {
        "id": "b26985cd",
        "outputId": "69b0fd43-1a61-4719-bc56-0257a6aaa86f"
      },
      "outputs": [
        {
          "name": "stdout",
          "output_type": "stream",
          "text": [
            "Digite um numero: 5\n",
            "Digite um numero: 5\n",
            "Digite um numero: 5\n",
            "5 é o maior entre eles\n"
          ]
        }
      ],
      "source": [
        "numero1 = int(input('Digite um numero: '))\n",
        "numero2 = int(input('Digite um numero: '))\n",
        "numero3 = int(input('Digite um numero: '))\n",
        "\n",
        "if numero1 > numero2 and numero1 > numero3:\n",
        "    print(f'{numero1} é o maior entre eles')\n",
        "elif numero2 > numero1 and numero2 > numero3:\n",
        "    print(f'{numero2} é o maior entre eles')\n",
        "else:\n",
        "    print(f'{numero3} é o maior entre eles')"
      ]
    },
    {
      "cell_type": "markdown",
      "id": "9705fd04",
      "metadata": {
        "id": "9705fd04"
      },
      "source": [
        "## Exercício 17\n",
        "Faça um Programa que leia três números e mostre o maior e o menor deles."
      ]
    },
    {
      "cell_type": "code",
      "execution_count": null,
      "id": "96bf992e",
      "metadata": {
        "id": "96bf992e"
      },
      "outputs": [],
      "source": [
        "numero1 = int(input('Digite um numero: '))\n",
        "numero2 = int(input('Digite um numero: '))\n",
        "numero3 = int(input('Digite um numero: '))\n",
        "\n",
        "if numero1 < numero2 and numero1 < numero3:\n",
        "    print(f'{numero1} é o menor entre eles')\n",
        "elif numero2 < numero1 and numero2 < numero3:\n",
        "    print(f'{numero2} é o menor entre eles')\n",
        "else:\n",
        "    print(f'{numero3} é o menor entre eles')"
      ]
    },
    {
      "cell_type": "code",
      "source": [],
      "metadata": {
        "id": "hg9XNujm076-"
      },
      "id": "hg9XNujm076-",
      "execution_count": null,
      "outputs": []
    },
    {
      "cell_type": "markdown",
      "metadata": {
        "id": "6ed28146"
      },
      "source": [
        "## Exercicio 15\n",
        "Faca um programa para a leitura de duas notas parciais de um aluno. O programa deve calcular a media alcancada por aluno e apresentar:\n",
        "A mensagem \"Aprovado\", se a media alcancada for maior ou igual a sete;\n",
        "A mensagem \"Reprovado\", se a media for menor do que sete;\n",
        "A mensagem \"Aprovado com Distincao\", se a media for igual a dez."
      ],
      "id": "6ed28146"
    },
    {
      "cell_type": "code",
      "execution_count": null,
      "metadata": {
        "id": "489ed52b",
        "outputId": "79e89015-d5c2-42ea-af44-6bf70a9aebd6"
      },
      "outputs": [
        {
          "name": "stdout",
          "output_type": "stream",
          "text": [
            "Digite a nota 1: 6\n",
            "Digite a nota 2: 6\n"
          ]
        }
      ],
      "source": [
        "nota1 = float(input('Digite a nota 1: '))\n",
        "nota2 = float(input('Digite a nota 2: '))"
      ],
      "id": "489ed52b"
    },
    {
      "cell_type": "code",
      "execution_count": null,
      "metadata": {
        "id": "f4bc6bb5"
      },
      "outputs": [],
      "source": [
        "media = (nota1 + nota2) / 2"
      ],
      "id": "f4bc6bb5"
    },
    {
      "cell_type": "code",
      "execution_count": null,
      "metadata": {
        "id": "65d9758c",
        "outputId": "7ae7d4a1-102e-4ac5-f40f-265093cdf721"
      },
      "outputs": [
        {
          "name": "stdout",
          "output_type": "stream",
          "text": [
            "Reprovado\n"
          ]
        }
      ],
      "source": [
        "if media >= 7 and media < 10:\n",
        "    print('Aprovado')\n",
        "elif media == 10:\n",
        "    print('Aprovado com Distincao')\n",
        "elif media < 7:\n",
        "    print('Reprovado')"
      ],
      "id": "65d9758c"
    },
    {
      "cell_type": "markdown",
      "metadata": {
        "id": "90beb396"
      },
      "source": [
        "## Exercício 17\n",
        "Faça um Programa que leia três números e mostre o maior e o menor deles."
      ],
      "id": "90beb396"
    },
    {
      "cell_type": "code",
      "execution_count": null,
      "metadata": {
        "id": "4cf7b36a",
        "outputId": "b6de4a3d-475a-417c-ea0a-394c05b0b6e4"
      },
      "outputs": [
        {
          "name": "stdout",
          "output_type": "stream",
          "text": [
            "Digite um numero: 5\n",
            "Digite um numero: 5\n",
            "Digite um numero: 5\n",
            "5 é o menor entre eles\n"
          ]
        }
      ],
      "source": [
        "numero1 = int(input('Digite um numero: '))\n",
        "numero2 = int(input('Digite um numero: '))\n",
        "numero3 = int(input('Digite um numero: '))\n",
        "\n",
        "if numero1 < numero2 and numero1 < numero3:\n",
        "    print(f'{numero1} é o menor entre eles')\n",
        "elif numero2 < numero1 and numero2 < numero3:\n",
        "    print(f'{numero2} é o menor entre eles')\n",
        "else:\n",
        "    print(f'{numero3} é o menor entre eles')"
      ],
      "id": "4cf7b36a"
    },
    {
      "cell_type": "markdown",
      "metadata": {
        "id": "afb9821e"
      },
      "source": [
        "## Exercício 18\n",
        "Faça um programa que pergunte o preço de três produtos e informe qual produto você deve comprar, sabendo que a decisão é sempre pelo mais barato."
      ],
      "id": "afb9821e"
    },
    {
      "cell_type": "code",
      "execution_count": null,
      "metadata": {
        "id": "ffb70483",
        "outputId": "3dde9da2-b65f-4a1a-c92b-14ad915c1918"
      },
      "outputs": [
        {
          "name": "stdout",
          "output_type": "stream",
          "text": [
            "Digite o preço do primeiro produto R$: 15.44\n",
            "Digite o preço do segundo produto R$: 11.56\n",
            "Digite o preço do terceiro produto R$: 10.00\n",
            "O melhor produto para comprar é o terceiro por R$ 10.0\n"
          ]
        }
      ],
      "source": [
        "produto1 = float(input('Digite o preço do primeiro produto R$: '))\n",
        "produto2 = float(input('Digite o preço do segundo produto R$: '))\n",
        "produto3 = float(input('Digite o preço do terceiro produto R$: '))\n",
        "\n",
        "if produto1 < produto2 and produto1 < produto3:\n",
        "    print(f'O melhor produto para comprar é o primeiro por R$ {produto1}')\n",
        "elif produto2 < produto1 and produto2 < produto3:\n",
        "    print(f'O melhor produto para comprar é o segundo por R$ {produto2}')\n",
        "else:\n",
        "    print(f'O melhor produto para comprar é o terceiro por R$ {produto3}')"
      ],
      "id": "ffb70483"
    },
    {
      "cell_type": "markdown",
      "metadata": {
        "id": "7af4be6c"
      },
      "source": [
        "## Exercício 19\n",
        "Faça um Programa que leia três números e mostre-os em ordem decrescente."
      ],
      "id": "7af4be6c"
    },
    {
      "cell_type": "code",
      "execution_count": null,
      "metadata": {
        "id": "a323ec82",
        "outputId": "334fee04-0986-4b79-9482-f822f1460999"
      },
      "outputs": [
        {
          "name": "stdout",
          "output_type": "stream",
          "text": [
            "Digite o primeiro numero: 7\n",
            "Digite o segundo numero: 9\n",
            "Digite o terceiro numero: 4\n",
            "Ordem decrescente: 9.0, 7.0 e 4.0\n"
          ]
        }
      ],
      "source": [
        "numero1 = float(input('Digite o primeiro numero: '))\n",
        "numero2 = float(input('Digite o segundo numero: '))\n",
        "numero3 = float(input('Digite o terceiro numero: '))\n",
        "\n",
        "if (numero1 > numero2) and (numero1 > numero3) and (numero2 > numero3):\n",
        "    maior = numero1\n",
        "    meio = numero2\n",
        "    menor = numero3\n",
        "    print(f'Ordem decrescente: {maior}, {meio} e {menor}')\n",
        "elif ((numero1 > numero2) and (numero1 > numero3)) and (numero3 > numero2):\n",
        "    maior = numero1\n",
        "    meio = numero3\n",
        "    menor = numero2\n",
        "    print(f'Ordem decrescente: {maior}, {meio} e {menor}')\n",
        "elif ((numero2 > numero1) and (numero2 > numero3)) and (numero1 > numero3):\n",
        "    maior = numero2\n",
        "    meio = numero1\n",
        "    menor = numero3\n",
        "    print(f'Ordem decrescente: {maior}, {meio} e {menor}')\n",
        "elif ((numero2 > numero1) and (numero2 > numero3)) and (numero3 > numero1):\n",
        "    maior = numero2\n",
        "    meio = numero3\n",
        "    menor = numero1\n",
        "    print(f'Ordem decrescente: {maior}, {meio} e {menor}')\n",
        "elif ((numero3 > numero1) and (numero3 > numero2)) and (numero2 > numero1):\n",
        "    maior = numero3\n",
        "    meio = numero2\n",
        "    menor = numero1\n",
        "    print(f'Ordem decrescente: {maior}, {meio} e {menor}')\n",
        "elif ((numero3 > numero1) and (numero3 > numero2)) and (numero1 > numero2):\n",
        "    maior = numero3\n",
        "    meio = numero1\n",
        "    menor = numero2\n",
        "    print(f'Ordem decrescente: {maior}, {meio} e {menor}')\n"
      ],
      "id": "a323ec82"
    },
    {
      "cell_type": "markdown",
      "metadata": {
        "id": "ac3730ef"
      },
      "source": [
        "## Exercício 20\n",
        "Faça um Programa que pergunte em que turno você estuda. Peça para digitar M-matutino ou V-Vespertino ou N- Noturno. Imprima a mensagem \"Bom Dia!\", \"Boa Tarde!\" ou \"Boa Noite!\" ou \"Valor Inválido!\", conforme o caso."
      ],
      "id": "ac3730ef"
    },
    {
      "cell_type": "code",
      "execution_count": null,
      "metadata": {
        "id": "f58ba0f8",
        "outputId": "eb4f5801-3a29-4cd0-ac20-c1967d97a736"
      },
      "outputs": [
        {
          "name": "stdout",
          "output_type": "stream",
          "text": [
            "O seguinte input será necessario abreviação dos turno: M = Manutino, V = Vespertino e N = Noturno\n",
            "Qual turno voce estuda: M]\n",
            "Valor Inválido!\n"
          ]
        }
      ],
      "source": [
        "print('O seguinte input será necessario abreviação dos turno: M = Manutino, V = Vespertino e N = Noturno')\n",
        "turno = input(\"Qual turno voce estuda: \")\n",
        "\n",
        "if turno == 'M':\n",
        "    print('Bom Dia!')\n",
        "elif turno == 'V':\n",
        "    print ('Boa tarde!')\n",
        "elif turno == 'N':\n",
        "    print('Boa noite!')\n",
        "else:\n",
        "    print('Valor Inválido!')"
      ],
      "id": "f58ba0f8"
    },
    {
      "cell_type": "markdown",
      "metadata": {
        "id": "6ee099f9"
      },
      "source": [
        "## Exercicio 21\n",
        "As Organizacoes Tabajara resolveram dar um aumento de salario aos seus colaboradores e lhe contaram para desenvolver o programa que calculara os reajustes. Faca um programa que recebe o salario de um colaborador e o reajuste segundo o seguinte criterio, baseado no salario atual:\n",
        "\n",
        "salarios ate R$ 280,00 (incluindo) - aumento de 20 por cento\n",
        "salarios entre R$ 280,00 e R$ 700,00 - aumento de 15 por cento\n",
        "salarios entre R$ 700,00 e R$ 1500,00 - aumento de 10 por cento\n",
        "salarios de R$ 1500,00 em diante - aumento de 5 por cento\n",
        "\n",
        "Apos o aumento ser realizado, informe na tela:\n",
        "salario antes do reajuste;\n",
        "percentual de aumento aplicado;\n",
        "valor do aumento;\n",
        "novo salario, apos o aumento."
      ],
      "id": "6ee099f9"
    },
    {
      "cell_type": "code",
      "execution_count": null,
      "metadata": {
        "id": "7c0e51e8",
        "outputId": "475fe03d-e5e7-4277-9817-816350de28bb"
      },
      "outputs": [
        {
          "name": "stdout",
          "output_type": "stream",
          "text": [
            "Digite o seu salario R$: 1000.00\n",
            "Salario antes do reajuste R$ 1000.0\n",
            "Percentual de aumento aplicado 10.0%\n",
            "Valor do aumento R$ 100.0\n",
            "Valor do novo salario R$ 1100.0\n"
          ]
        }
      ],
      "source": [
        "salario = float(input('Digite o seu salario R$: '))\n",
        "\n",
        "if salario > 0 and salario <= 280.00:\n",
        "    aumento = 0.2\n",
        "elif salario > 280.00 and salario <= 700.00:\n",
        "    aumento = 0.15\n",
        "elif salario > 700.00 and salario <= 1500.00:\n",
        "    aumento = 0.1\n",
        "elif salario > 1500.00:\n",
        "    aumento = 0.05\n",
        "\n",
        "reajuste = salario * aumento\n",
        "novo_salario = salario + reajuste\n",
        "\n",
        "print(f'Salario antes do reajuste R$ {salario}')\n",
        "print(f'Percentual de aumento aplicado {aumento * 100}%')\n",
        "print(f'Valor do aumento R$ {reajuste}')\n",
        "print(f'Valor do novo salario R$ {novo_salario}')"
      ],
      "id": "7c0e51e8"
    },
    {
      "cell_type": "markdown",
      "metadata": {
        "id": "b399b1e3"
      },
      "source": [
        "## Exercício 23\n",
        "Faça um Programa que leia um número e exiba o dia correspondente da semana. (1- Domingo, 2- Segunda, etc.), se digitar outro valor deve aparecer valor inválido."
      ],
      "id": "b399b1e3"
    },
    {
      "cell_type": "code",
      "execution_count": null,
      "metadata": {
        "id": "aa24fa1c",
        "outputId": "d4af3b58-dbc4-4682-fd8d-d25db40e0e89"
      },
      "outputs": [
        {
          "name": "stdout",
          "output_type": "stream",
          "text": [
            "Digite um numero correspondente ao dia da semana: 10\n",
            "Valor invalido\n"
          ]
        }
      ],
      "source": [
        "numero = int(input('Digite um numero correspondente ao dia da semana: '))\n",
        "\n",
        "if numero == 1:\n",
        "    print('Domingo')\n",
        "elif numero == 2:\n",
        "    print('Segunda')\n",
        "elif numero == 3:\n",
        "    print('Terça')\n",
        "elif numero == 4:\n",
        "    print('Quarta')\n",
        "elif numero == 5:\n",
        "    print('Quinta')\n",
        "elif numero == 6:\n",
        "    print('Sexta')\n",
        "elif numero == 7:\n",
        "    print('Sabado')\n",
        "else:\n",
        "    print('Valor invalido')"
      ],
      "id": "aa24fa1c"
    },
    {
      "cell_type": "markdown",
      "metadata": {
        "id": "8070e600"
      },
      "source": [
        "## Exercício 24\n",
        "Faça um programa que lê as duas notas parciais obtidas por um aluno numa disciplina ao longo de um semestre, e calcule a sua média. A atribuição de conceitos obedece à tabela abaixo:\n",
        "O algoritmo deve mostrar na tela as notas, a média, o conceito correspondente e a mensagem “APROVADO” se o conceito for A, B ou C ou “REPROVADO” se o conceito for D ou E."
      ],
      "id": "8070e600"
    },
    {
      "cell_type": "code",
      "execution_count": null,
      "metadata": {
        "id": "1921a067",
        "outputId": "f54d3543-d223-4539-ab57-48994fa4eff5"
      },
      "outputs": [
        {
          "name": "stdout",
          "output_type": "stream",
          "text": [
            "Digite a sua primeira nota: 5\n",
            "Digite a sua segunda nota: 5\n",
            "Media: 5.0, Conceito: D e aluno Reprovado\n"
          ]
        }
      ],
      "source": [
        "nota1 = float(input('Digite a sua primeira nota: '))\n",
        "nota2 = float(input('Digite a sua segunda nota: '))\n",
        "\n",
        "media = (nota1 + nota2) / 2\n",
        "\n",
        "if media > 9.0 and media <= 10.0:\n",
        "    conceito = 'A'\n",
        "    aprovado = True\n",
        "elif media > 7.5 and media <= 9.0:\n",
        "    conceito = 'B'\n",
        "    aprovado = True\n",
        "elif media > 6.0 and media <= 7.5:\n",
        "    conceito = 'C'\n",
        "    aprovado = True\n",
        "elif media > 4.0 and media <= 6:\n",
        "    conceito = 'D'\n",
        "    aprovado = False\n",
        "elif media >= 0 and media <= 4:\n",
        "    conceito = 'E'\n",
        "    aprovado = False\n",
        "else:\n",
        "    print('Media invalida')\n",
        "\n",
        "if aprovado:\n",
        "    aprovado = 'Aprovado'\n",
        "else:\n",
        "    aprovado = 'Reprovado'\n",
        "\n",
        "print(f'Media: {media}, Conceito: {conceito} e aluno {aprovado}')"
      ],
      "id": "1921a067"
    }
  ],
  "metadata": {
    "kernelspec": {
      "display_name": "Python 3 (ipykernel)",
      "language": "python",
      "name": "python3"
    },
    "language_info": {
      "codemirror_mode": {
        "name": "ipython",
        "version": 3
      },
      "file_extension": ".py",
      "mimetype": "text/x-python",
      "name": "python",
      "nbconvert_exporter": "python",
      "pygments_lexer": "ipython3",
      "version": "3.10.9"
    },
    "colab": {
      "provenance": []
    }
  },
  "nbformat": 4,
  "nbformat_minor": 5
}