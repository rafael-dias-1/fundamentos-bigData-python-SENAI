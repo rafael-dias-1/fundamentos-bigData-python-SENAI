{
  "cells": [
    {
      "cell_type": "markdown",
      "metadata": {
        "id": "UY6xvey63G5P"
      },
      "source": [
        "## Estrutura de repetição FOR"
      ]
    },
    {
      "cell_type": "code",
      "execution_count": null,
      "metadata": {
        "id": "IbhZ4oeN3G5U"
      },
      "outputs": [],
      "source": [
        "frutas = ['Abacaxi', 'Laranja', 'Goiaba', 'Banana']"
      ]
    },
    {
      "cell_type": "code",
      "execution_count": null,
      "metadata": {
        "id": "8sLcwspa3G5X",
        "outputId": "cd08a303-518b-4ab1-ad37-99388bb7307f"
      },
      "outputs": [
        {
          "name": "stdout",
          "output_type": "stream",
          "text": [
            "Abacaxi\n",
            "Laranja\n",
            "Goiaba\n",
            "Banana\n"
          ]
        }
      ],
      "source": [
        "for i in frutas:\n",
        "    print(i)"
      ]
    }
  ],
  "metadata": {
    "kernelspec": {
      "display_name": "Python 3",
      "language": "python",
      "name": "python3"
    },
    "language_info": {
      "codemirror_mode": {
        "name": "ipython",
        "version": 3
      },
      "file_extension": ".py",
      "mimetype": "text/x-python",
      "name": "python",
      "nbconvert_exporter": "python",
      "pygments_lexer": "ipython3",
      "version": "3.11.0"
    },
    "orig_nbformat": 4,
    "colab": {
      "provenance": []
    }
  },
  "nbformat": 4,
  "nbformat_minor": 0
}