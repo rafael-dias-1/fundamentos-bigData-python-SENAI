{
 "cells": [
  {
   "cell_type": "code",
   "execution_count": 1,
   "metadata": {},
   "outputs": [],
   "source": [
    "import pandas as pd\n",
    "import os\n",
    "import matplotlib.pyplot as plt\n",
    "import seaborn as sns"
   ]
  },
  {
   "cell_type": "code",
   "execution_count": 2,
   "metadata": {},
   "outputs": [],
   "source": [
    "caminho_dos_arquivos = 'C:\\\\Users\\\\FIC\\\\Documents\\\\Rafael-Dias-Python\\\\desafio-super-atacadista\\\\vendas\\\\'"
   ]
  },
  {
   "cell_type": "code",
   "execution_count": 3,
   "metadata": {},
   "outputs": [],
   "source": [
    "arquivos = []"
   ]
  },
  {
   "cell_type": "code",
   "execution_count": 4,
   "metadata": {},
   "outputs": [
    {
     "data": {
      "text/plain": [
       "['C:\\\\Users\\\\FIC\\\\Documents\\\\Rafael-Dias-Python\\\\desafio-super-atacadista\\\\vendas\\\\Vendas 2017.xlsx',\n",
       " 'C:\\\\Users\\\\FIC\\\\Documents\\\\Rafael-Dias-Python\\\\desafio-super-atacadista\\\\vendas\\\\Vendas 2018.xlsx',\n",
       " 'C:\\\\Users\\\\FIC\\\\Documents\\\\Rafael-Dias-Python\\\\desafio-super-atacadista\\\\vendas\\\\Vendas 2019.xlsx',\n",
       " 'C:\\\\Users\\\\FIC\\\\Documents\\\\Rafael-Dias-Python\\\\desafio-super-atacadista\\\\vendas\\\\Vendas 2020.xlsx',\n",
       " 'C:\\\\Users\\\\FIC\\\\Documents\\\\Rafael-Dias-Python\\\\desafio-super-atacadista\\\\vendas\\\\Vendas 2021.xlsx',\n",
       " 'C:\\\\Users\\\\FIC\\\\Documents\\\\Rafael-Dias-Python\\\\desafio-super-atacadista\\\\vendas\\\\Vendas 2022.xlsx']"
      ]
     },
     "execution_count": 4,
     "metadata": {},
     "output_type": "execute_result"
    }
   ],
   "source": [
    "for arquivo in os.listdir(caminho_dos_arquivos):\n",
    "    arquivos.append(caminho_dos_arquivos + arquivo)\n",
    "arquivos"
   ]
  },
  {
   "cell_type": "code",
   "execution_count": 5,
   "metadata": {},
   "outputs": [],
   "source": [
    "vendas = pd.DataFrame()"
   ]
  },
  {
   "cell_type": "code",
   "execution_count": 6,
   "metadata": {},
   "outputs": [],
   "source": [
    "for arquivo in arquivos:\n",
    "    df = pd.read_excel(arquivo, sheet_name='Vendas')\n",
    "    vendas = pd.concat([df, vendas])"
   ]
  },
  {
   "cell_type": "code",
   "execution_count": 7,
   "metadata": {},
   "outputs": [
    {
     "name": "stdout",
     "output_type": "stream",
     "text": [
      "<class 'pandas.core.frame.DataFrame'>\n",
      "Index: 302840 entries, 0 to 91593\n",
      "Data columns (total 9 columns):\n",
      " #   Column          Non-Null Count   Dtype         \n",
      "---  ------          --------------   -----         \n",
      " 0   DataEmissao     302840 non-null  datetime64[ns]\n",
      " 1   DataVencimento  302840 non-null  datetime64[ns]\n",
      " 2   NFe             302840 non-null  int64         \n",
      " 3   cdCliente       302840 non-null  int64         \n",
      " 4   cdVendedor      302840 non-null  int64         \n",
      " 5   cdProduto       302840 non-null  int64         \n",
      " 6   QtdItens        302840 non-null  int64         \n",
      " 7   ValorUnitario   302840 non-null  float64       \n",
      " 8   Peso Líquido    302840 non-null  float64       \n",
      "dtypes: datetime64[ns](2), float64(2), int64(5)\n",
      "memory usage: 23.1 MB\n"
     ]
    }
   ],
   "source": [
    "vendas.info()"
   ]
  },
  {
   "cell_type": "code",
   "execution_count": 8,
   "metadata": {},
   "outputs": [
    {
     "data": {
      "text/html": [
       "<div>\n",
       "<style scoped>\n",
       "    .dataframe tbody tr th:only-of-type {\n",
       "        vertical-align: middle;\n",
       "    }\n",
       "\n",
       "    .dataframe tbody tr th {\n",
       "        vertical-align: top;\n",
       "    }\n",
       "\n",
       "    .dataframe thead th {\n",
       "        text-align: right;\n",
       "    }\n",
       "</style>\n",
       "<table border=\"1\" class=\"dataframe\">\n",
       "  <thead>\n",
       "    <tr style=\"text-align: right;\">\n",
       "      <th></th>\n",
       "      <th>DataEmissao</th>\n",
       "      <th>DataVencimento</th>\n",
       "      <th>NFe</th>\n",
       "      <th>cdCliente</th>\n",
       "      <th>cdVendedor</th>\n",
       "      <th>cdProduto</th>\n",
       "      <th>QtdItens</th>\n",
       "      <th>ValorUnitario</th>\n",
       "      <th>Peso Líquido</th>\n",
       "    </tr>\n",
       "  </thead>\n",
       "  <tbody>\n",
       "    <tr>\n",
       "      <th>0</th>\n",
       "      <td>2022-01-01</td>\n",
       "      <td>2022-02-01</td>\n",
       "      <td>2123073</td>\n",
       "      <td>3785072</td>\n",
       "      <td>285</td>\n",
       "      <td>1154</td>\n",
       "      <td>6</td>\n",
       "      <td>3.25</td>\n",
       "      <td>0.30</td>\n",
       "    </tr>\n",
       "    <tr>\n",
       "      <th>1</th>\n",
       "      <td>2022-01-01</td>\n",
       "      <td>2022-02-08</td>\n",
       "      <td>2149604</td>\n",
       "      <td>3799504</td>\n",
       "      <td>326</td>\n",
       "      <td>1154</td>\n",
       "      <td>6</td>\n",
       "      <td>3.25</td>\n",
       "      <td>0.30</td>\n",
       "    </tr>\n",
       "    <tr>\n",
       "      <th>2</th>\n",
       "      <td>2022-01-01</td>\n",
       "      <td>2022-02-09</td>\n",
       "      <td>2173654</td>\n",
       "      <td>2957188</td>\n",
       "      <td>326</td>\n",
       "      <td>1154</td>\n",
       "      <td>6</td>\n",
       "      <td>3.20</td>\n",
       "      <td>0.30</td>\n",
       "    </tr>\n",
       "    <tr>\n",
       "      <th>3</th>\n",
       "      <td>2022-01-01</td>\n",
       "      <td>2022-01-21</td>\n",
       "      <td>2113210</td>\n",
       "      <td>3854414</td>\n",
       "      <td>326</td>\n",
       "      <td>1154</td>\n",
       "      <td>6</td>\n",
       "      <td>3.33</td>\n",
       "      <td>0.30</td>\n",
       "    </tr>\n",
       "    <tr>\n",
       "      <th>4</th>\n",
       "      <td>2022-01-01</td>\n",
       "      <td>2022-01-28</td>\n",
       "      <td>2156463</td>\n",
       "      <td>2950203</td>\n",
       "      <td>102</td>\n",
       "      <td>1154</td>\n",
       "      <td>6</td>\n",
       "      <td>2.62</td>\n",
       "      <td>1.38</td>\n",
       "    </tr>\n",
       "  </tbody>\n",
       "</table>\n",
       "</div>"
      ],
      "text/plain": [
       "  DataEmissao DataVencimento      NFe  cdCliente  cdVendedor  cdProduto  \\\n",
       "0  2022-01-01     2022-02-01  2123073    3785072         285       1154   \n",
       "1  2022-01-01     2022-02-08  2149604    3799504         326       1154   \n",
       "2  2022-01-01     2022-02-09  2173654    2957188         326       1154   \n",
       "3  2022-01-01     2022-01-21  2113210    3854414         326       1154   \n",
       "4  2022-01-01     2022-01-28  2156463    2950203         102       1154   \n",
       "\n",
       "   QtdItens  ValorUnitario  Peso Líquido  \n",
       "0         6           3.25          0.30  \n",
       "1         6           3.25          0.30  \n",
       "2         6           3.20          0.30  \n",
       "3         6           3.33          0.30  \n",
       "4         6           2.62          1.38  "
      ]
     },
     "execution_count": 8,
     "metadata": {},
     "output_type": "execute_result"
    }
   ],
   "source": [
    "vendas.head()"
   ]
  },
  {
   "cell_type": "code",
   "execution_count": 9,
   "metadata": {},
   "outputs": [],
   "source": [
    "caminho = 'C:\\\\Users\\\\FIC\\\\Documents\\\\Rafael-Dias-Python\\\\desafio-super-atacadista\\\\'\n",
    "arquivo = 'Dimensões.xlsx'\n",
    "\n",
    "cliente = pd.read_excel(caminho + arquivo, sheet_name='Cliente')\n",
    "produto = pd.read_excel(caminho + arquivo, sheet_name='Produto')\n",
    "grupo_produto = pd.read_excel(caminho + arquivo, sheet_name='GrupoProduto')\n",
    "vendedor = pd.read_excel(caminho + arquivo, sheet_name='Vendedor')\n",
    "data = pd.read_excel(caminho + arquivo, sheet_name='Data')"
   ]
  },
  {
   "cell_type": "code",
   "execution_count": 10,
   "metadata": {},
   "outputs": [
    {
     "name": "stdout",
     "output_type": "stream",
     "text": [
      "<class 'pandas.core.frame.DataFrame'>\n",
      "RangeIndex: 1411 entries, 0 to 1410\n",
      "Data columns (total 6 columns):\n",
      " #   Column        Non-Null Count  Dtype \n",
      "---  ------        --------------  ----- \n",
      " 0   cdCliente     1411 non-null   int64 \n",
      " 1   Razão Social  1411 non-null   object\n",
      " 2   Status        1411 non-null   object\n",
      " 3   Categoria     1411 non-null   object\n",
      " 4   Cidade        1411 non-null   object\n",
      " 5   UF            1411 non-null   object\n",
      "dtypes: int64(1), object(5)\n",
      "memory usage: 66.3+ KB\n"
     ]
    }
   ],
   "source": [
    "cliente.info()"
   ]
  },
  {
   "cell_type": "code",
   "execution_count": 11,
   "metadata": {},
   "outputs": [
    {
     "name": "stdout",
     "output_type": "stream",
     "text": [
      "<class 'pandas.core.frame.DataFrame'>\n",
      "RangeIndex: 2736 entries, 0 to 2735\n",
      "Data columns (total 3 columns):\n",
      " #   Column     Non-Null Count  Dtype \n",
      "---  ------     --------------  ----- \n",
      " 0   cdProduto  2736 non-null   int64 \n",
      " 1   Descrição  2736 non-null   object\n",
      " 2   cdGrupo    2736 non-null   int64 \n",
      "dtypes: int64(2), object(1)\n",
      "memory usage: 64.2+ KB\n"
     ]
    }
   ],
   "source": [
    "produto.info()"
   ]
  },
  {
   "cell_type": "code",
   "execution_count": 12,
   "metadata": {},
   "outputs": [
    {
     "name": "stdout",
     "output_type": "stream",
     "text": [
      "<class 'pandas.core.frame.DataFrame'>\n",
      "RangeIndex: 36 entries, 0 to 35\n",
      "Data columns (total 3 columns):\n",
      " #   Column   Non-Null Count  Dtype \n",
      "---  ------   --------------  ----- \n",
      " 0   cdGrupo  36 non-null     int64 \n",
      " 1   Grupo    36 non-null     object\n",
      " 2   Linha    36 non-null     object\n",
      "dtypes: int64(1), object(2)\n",
      "memory usage: 992.0+ bytes\n"
     ]
    }
   ],
   "source": [
    "grupo_produto.info()"
   ]
  },
  {
   "cell_type": "code",
   "execution_count": 13,
   "metadata": {},
   "outputs": [
    {
     "name": "stdout",
     "output_type": "stream",
     "text": [
      "<class 'pandas.core.frame.DataFrame'>\n",
      "RangeIndex: 12 entries, 0 to 11\n",
      "Data columns (total 7 columns):\n",
      " #   Column        Non-Null Count  Dtype \n",
      "---  ------        --------------  ----- \n",
      " 0   cdVendedor    12 non-null     int64 \n",
      " 1   Vendedor      12 non-null     object\n",
      " 2   cdSupervisor  12 non-null     int64 \n",
      " 3   Supervisor    12 non-null     object\n",
      " 4   cdGerente     12 non-null     int64 \n",
      " 5   Gerente       12 non-null     object\n",
      " 6   Equipe        12 non-null     object\n",
      "dtypes: int64(3), object(4)\n",
      "memory usage: 800.0+ bytes\n"
     ]
    }
   ],
   "source": [
    "vendedor.info()"
   ]
  },
  {
   "cell_type": "code",
   "execution_count": 14,
   "metadata": {},
   "outputs": [
    {
     "name": "stdout",
     "output_type": "stream",
     "text": [
      "<class 'pandas.core.frame.DataFrame'>\n",
      "RangeIndex: 2191 entries, 0 to 2190\n",
      "Data columns (total 5 columns):\n",
      " #   Column  Non-Null Count  Dtype         \n",
      "---  ------  --------------  -----         \n",
      " 0   Data    2191 non-null   datetime64[ns]\n",
      " 1   Ano     2191 non-null   int64         \n",
      " 2   Mes     2191 non-null   object        \n",
      " 3   MesNum  2191 non-null   int64         \n",
      " 4   Dia     2191 non-null   int64         \n",
      "dtypes: datetime64[ns](1), int64(3), object(1)\n",
      "memory usage: 85.7+ KB\n"
     ]
    }
   ],
   "source": [
    "data.info()"
   ]
  },
  {
   "cell_type": "code",
   "execution_count": 15,
   "metadata": {},
   "outputs": [],
   "source": [
    "caminho = 'C:\\\\Users\\\\FIC\\\\Documents\\\\Rafael-Dias-Python\\\\desafio-super-atacadista\\\\'\n",
    "arquivo = 'Metas.xlsx'\n",
    "meta = pd.read_excel(caminho + arquivo, sheet_name='Metas')"
   ]
  },
  {
   "cell_type": "code",
   "execution_count": 16,
   "metadata": {},
   "outputs": [
    {
     "data": {
      "text/html": [
       "<div>\n",
       "<style scoped>\n",
       "    .dataframe tbody tr th:only-of-type {\n",
       "        vertical-align: middle;\n",
       "    }\n",
       "\n",
       "    .dataframe tbody tr th {\n",
       "        vertical-align: top;\n",
       "    }\n",
       "\n",
       "    .dataframe thead th {\n",
       "        text-align: right;\n",
       "    }\n",
       "</style>\n",
       "<table border=\"1\" class=\"dataframe\">\n",
       "  <thead>\n",
       "    <tr style=\"text-align: right;\">\n",
       "      <th></th>\n",
       "      <th>Unnamed: 0</th>\n",
       "      <th>Metas por Vendedor</th>\n",
       "      <th>Unnamed: 2</th>\n",
       "      <th>Unnamed: 3</th>\n",
       "      <th>Unnamed: 4</th>\n",
       "      <th>Unnamed: 5</th>\n",
       "      <th>Unnamed: 6</th>\n",
       "      <th>Unnamed: 7</th>\n",
       "      <th>Unnamed: 8</th>\n",
       "      <th>Unnamed: 9</th>\n",
       "      <th>...</th>\n",
       "      <th>Unnamed: 64</th>\n",
       "      <th>Unnamed: 65</th>\n",
       "      <th>Unnamed: 66</th>\n",
       "      <th>Unnamed: 67</th>\n",
       "      <th>Unnamed: 68</th>\n",
       "      <th>Unnamed: 69</th>\n",
       "      <th>Unnamed: 70</th>\n",
       "      <th>Unnamed: 71</th>\n",
       "      <th>Unnamed: 72</th>\n",
       "      <th>Unnamed: 73</th>\n",
       "    </tr>\n",
       "  </thead>\n",
       "  <tbody>\n",
       "    <tr>\n",
       "      <th>0</th>\n",
       "      <td>NaN</td>\n",
       "      <td>Última Atualização: 31/12/2019</td>\n",
       "      <td>NaN</td>\n",
       "      <td>NaN</td>\n",
       "      <td>NaN</td>\n",
       "      <td>NaN</td>\n",
       "      <td>NaN</td>\n",
       "      <td>NaN</td>\n",
       "      <td>NaN</td>\n",
       "      <td>NaN</td>\n",
       "      <td>...</td>\n",
       "      <td>NaN</td>\n",
       "      <td>NaN</td>\n",
       "      <td>NaN</td>\n",
       "      <td>NaN</td>\n",
       "      <td>NaN</td>\n",
       "      <td>NaN</td>\n",
       "      <td>NaN</td>\n",
       "      <td>NaN</td>\n",
       "      <td>NaN</td>\n",
       "      <td>NaN</td>\n",
       "    </tr>\n",
       "    <tr>\n",
       "      <th>1</th>\n",
       "      <td>NaN</td>\n",
       "      <td>NaN</td>\n",
       "      <td>NaN</td>\n",
       "      <td>NaN</td>\n",
       "      <td>NaN</td>\n",
       "      <td>NaN</td>\n",
       "      <td>NaN</td>\n",
       "      <td>NaN</td>\n",
       "      <td>NaN</td>\n",
       "      <td>NaN</td>\n",
       "      <td>...</td>\n",
       "      <td>NaN</td>\n",
       "      <td>NaN</td>\n",
       "      <td>NaN</td>\n",
       "      <td>NaN</td>\n",
       "      <td>NaN</td>\n",
       "      <td>NaN</td>\n",
       "      <td>NaN</td>\n",
       "      <td>NaN</td>\n",
       "      <td>NaN</td>\n",
       "      <td>NaN</td>\n",
       "    </tr>\n",
       "    <tr>\n",
       "      <th>2</th>\n",
       "      <td>NaN</td>\n",
       "      <td>NaN</td>\n",
       "      <td>NaN</td>\n",
       "      <td>NaN</td>\n",
       "      <td>NaN</td>\n",
       "      <td>NaN</td>\n",
       "      <td>NaN</td>\n",
       "      <td>NaN</td>\n",
       "      <td>NaN</td>\n",
       "      <td>NaN</td>\n",
       "      <td>...</td>\n",
       "      <td>NaN</td>\n",
       "      <td>NaN</td>\n",
       "      <td>NaN</td>\n",
       "      <td>NaN</td>\n",
       "      <td>NaN</td>\n",
       "      <td>NaN</td>\n",
       "      <td>NaN</td>\n",
       "      <td>NaN</td>\n",
       "      <td>NaN</td>\n",
       "      <td>NaN</td>\n",
       "    </tr>\n",
       "    <tr>\n",
       "      <th>3</th>\n",
       "      <td>NaN</td>\n",
       "      <td>cdVendedor</td>\n",
       "      <td>2017-01-01 00:00:00</td>\n",
       "      <td>2017-02-01 00:00:00</td>\n",
       "      <td>2017-03-01 00:00:00</td>\n",
       "      <td>2017-04-01 00:00:00</td>\n",
       "      <td>2017-05-01 00:00:00</td>\n",
       "      <td>2017-06-01 00:00:00</td>\n",
       "      <td>2017-07-01 00:00:00</td>\n",
       "      <td>2017-08-01 00:00:00</td>\n",
       "      <td>...</td>\n",
       "      <td>2022-03-01 00:00:00</td>\n",
       "      <td>2022-04-01 00:00:00</td>\n",
       "      <td>2022-05-01 00:00:00</td>\n",
       "      <td>2022-06-01 00:00:00</td>\n",
       "      <td>2022-07-01 00:00:00</td>\n",
       "      <td>2022-08-01 00:00:00</td>\n",
       "      <td>2022-09-01 00:00:00</td>\n",
       "      <td>2022-10-01 00:00:00</td>\n",
       "      <td>2022-11-01 00:00:00</td>\n",
       "      <td>2022-12-01 00:00:00</td>\n",
       "    </tr>\n",
       "    <tr>\n",
       "      <th>4</th>\n",
       "      <td>NaN</td>\n",
       "      <td>102</td>\n",
       "      <td>140768.312981</td>\n",
       "      <td>124258.753484</td>\n",
       "      <td>169509.931262</td>\n",
       "      <td>143465.231352</td>\n",
       "      <td>98423.627768</td>\n",
       "      <td>133401.861987</td>\n",
       "      <td>109124.992168</td>\n",
       "      <td>221597.228027</td>\n",
       "      <td>...</td>\n",
       "      <td>98801</td>\n",
       "      <td>72820</td>\n",
       "      <td>62828</td>\n",
       "      <td>23732</td>\n",
       "      <td>59726</td>\n",
       "      <td>72648</td>\n",
       "      <td>90886</td>\n",
       "      <td>33627</td>\n",
       "      <td>22575</td>\n",
       "      <td>147200</td>\n",
       "    </tr>\n",
       "  </tbody>\n",
       "</table>\n",
       "<p>5 rows × 74 columns</p>\n",
       "</div>"
      ],
      "text/plain": [
       "   Unnamed: 0              Metas por Vendedor           Unnamed: 2  \\\n",
       "0         NaN  Última Atualização: 31/12/2019                  NaN   \n",
       "1         NaN                             NaN                  NaN   \n",
       "2         NaN                             NaN                  NaN   \n",
       "3         NaN                      cdVendedor  2017-01-01 00:00:00   \n",
       "4         NaN                             102        140768.312981   \n",
       "\n",
       "            Unnamed: 3           Unnamed: 4           Unnamed: 5  \\\n",
       "0                  NaN                  NaN                  NaN   \n",
       "1                  NaN                  NaN                  NaN   \n",
       "2                  NaN                  NaN                  NaN   \n",
       "3  2017-02-01 00:00:00  2017-03-01 00:00:00  2017-04-01 00:00:00   \n",
       "4        124258.753484        169509.931262        143465.231352   \n",
       "\n",
       "            Unnamed: 6           Unnamed: 7           Unnamed: 8  \\\n",
       "0                  NaN                  NaN                  NaN   \n",
       "1                  NaN                  NaN                  NaN   \n",
       "2                  NaN                  NaN                  NaN   \n",
       "3  2017-05-01 00:00:00  2017-06-01 00:00:00  2017-07-01 00:00:00   \n",
       "4         98423.627768        133401.861987        109124.992168   \n",
       "\n",
       "            Unnamed: 9  ...          Unnamed: 64          Unnamed: 65  \\\n",
       "0                  NaN  ...                  NaN                  NaN   \n",
       "1                  NaN  ...                  NaN                  NaN   \n",
       "2                  NaN  ...                  NaN                  NaN   \n",
       "3  2017-08-01 00:00:00  ...  2022-03-01 00:00:00  2022-04-01 00:00:00   \n",
       "4        221597.228027  ...                98801                72820   \n",
       "\n",
       "           Unnamed: 66          Unnamed: 67          Unnamed: 68  \\\n",
       "0                  NaN                  NaN                  NaN   \n",
       "1                  NaN                  NaN                  NaN   \n",
       "2                  NaN                  NaN                  NaN   \n",
       "3  2022-05-01 00:00:00  2022-06-01 00:00:00  2022-07-01 00:00:00   \n",
       "4                62828                23732                59726   \n",
       "\n",
       "           Unnamed: 69          Unnamed: 70          Unnamed: 71  \\\n",
       "0                  NaN                  NaN                  NaN   \n",
       "1                  NaN                  NaN                  NaN   \n",
       "2                  NaN                  NaN                  NaN   \n",
       "3  2022-08-01 00:00:00  2022-09-01 00:00:00  2022-10-01 00:00:00   \n",
       "4                72648                90886                33627   \n",
       "\n",
       "           Unnamed: 72          Unnamed: 73  \n",
       "0                  NaN                  NaN  \n",
       "1                  NaN                  NaN  \n",
       "2                  NaN                  NaN  \n",
       "3  2022-11-01 00:00:00  2022-12-01 00:00:00  \n",
       "4                22575               147200  \n",
       "\n",
       "[5 rows x 74 columns]"
      ]
     },
     "execution_count": 16,
     "metadata": {},
     "output_type": "execute_result"
    }
   ],
   "source": [
    "meta.head()"
   ]
  },
  {
   "cell_type": "code",
   "execution_count": 17,
   "metadata": {},
   "outputs": [],
   "source": [
    "meta = meta.iloc[3:,1:]"
   ]
  },
  {
   "cell_type": "code",
   "execution_count": 18,
   "metadata": {},
   "outputs": [
    {
     "data": {
      "text/html": [
       "<div>\n",
       "<style scoped>\n",
       "    .dataframe tbody tr th:only-of-type {\n",
       "        vertical-align: middle;\n",
       "    }\n",
       "\n",
       "    .dataframe tbody tr th {\n",
       "        vertical-align: top;\n",
       "    }\n",
       "\n",
       "    .dataframe thead th {\n",
       "        text-align: right;\n",
       "    }\n",
       "</style>\n",
       "<table border=\"1\" class=\"dataframe\">\n",
       "  <thead>\n",
       "    <tr style=\"text-align: right;\">\n",
       "      <th></th>\n",
       "      <th>Metas por Vendedor</th>\n",
       "      <th>Unnamed: 2</th>\n",
       "      <th>Unnamed: 3</th>\n",
       "      <th>Unnamed: 4</th>\n",
       "      <th>Unnamed: 5</th>\n",
       "      <th>Unnamed: 6</th>\n",
       "      <th>Unnamed: 7</th>\n",
       "      <th>Unnamed: 8</th>\n",
       "      <th>Unnamed: 9</th>\n",
       "      <th>Unnamed: 10</th>\n",
       "      <th>...</th>\n",
       "      <th>Unnamed: 64</th>\n",
       "      <th>Unnamed: 65</th>\n",
       "      <th>Unnamed: 66</th>\n",
       "      <th>Unnamed: 67</th>\n",
       "      <th>Unnamed: 68</th>\n",
       "      <th>Unnamed: 69</th>\n",
       "      <th>Unnamed: 70</th>\n",
       "      <th>Unnamed: 71</th>\n",
       "      <th>Unnamed: 72</th>\n",
       "      <th>Unnamed: 73</th>\n",
       "    </tr>\n",
       "  </thead>\n",
       "  <tbody>\n",
       "    <tr>\n",
       "      <th>3</th>\n",
       "      <td>cdVendedor</td>\n",
       "      <td>2017-01-01 00:00:00</td>\n",
       "      <td>2017-02-01 00:00:00</td>\n",
       "      <td>2017-03-01 00:00:00</td>\n",
       "      <td>2017-04-01 00:00:00</td>\n",
       "      <td>2017-05-01 00:00:00</td>\n",
       "      <td>2017-06-01 00:00:00</td>\n",
       "      <td>2017-07-01 00:00:00</td>\n",
       "      <td>2017-08-01 00:00:00</td>\n",
       "      <td>2017-09-01 00:00:00</td>\n",
       "      <td>...</td>\n",
       "      <td>2022-03-01 00:00:00</td>\n",
       "      <td>2022-04-01 00:00:00</td>\n",
       "      <td>2022-05-01 00:00:00</td>\n",
       "      <td>2022-06-01 00:00:00</td>\n",
       "      <td>2022-07-01 00:00:00</td>\n",
       "      <td>2022-08-01 00:00:00</td>\n",
       "      <td>2022-09-01 00:00:00</td>\n",
       "      <td>2022-10-01 00:00:00</td>\n",
       "      <td>2022-11-01 00:00:00</td>\n",
       "      <td>2022-12-01 00:00:00</td>\n",
       "    </tr>\n",
       "    <tr>\n",
       "      <th>4</th>\n",
       "      <td>102</td>\n",
       "      <td>140768.312981</td>\n",
       "      <td>124258.753484</td>\n",
       "      <td>169509.931262</td>\n",
       "      <td>143465.231352</td>\n",
       "      <td>98423.627768</td>\n",
       "      <td>133401.861987</td>\n",
       "      <td>109124.992168</td>\n",
       "      <td>221597.228027</td>\n",
       "      <td>101603.974771</td>\n",
       "      <td>...</td>\n",
       "      <td>98801</td>\n",
       "      <td>72820</td>\n",
       "      <td>62828</td>\n",
       "      <td>23732</td>\n",
       "      <td>59726</td>\n",
       "      <td>72648</td>\n",
       "      <td>90886</td>\n",
       "      <td>33627</td>\n",
       "      <td>22575</td>\n",
       "      <td>147200</td>\n",
       "    </tr>\n",
       "    <tr>\n",
       "      <th>5</th>\n",
       "      <td>125</td>\n",
       "      <td>21525.584613</td>\n",
       "      <td>50778.518843</td>\n",
       "      <td>80286.310022</td>\n",
       "      <td>117769.05503</td>\n",
       "      <td>162043.205771</td>\n",
       "      <td>184889.338359</td>\n",
       "      <td>175629.570395</td>\n",
       "      <td>120097.495562</td>\n",
       "      <td>110607.719934</td>\n",
       "      <td>...</td>\n",
       "      <td>102588</td>\n",
       "      <td>111966</td>\n",
       "      <td>73820</td>\n",
       "      <td>63180</td>\n",
       "      <td>91574</td>\n",
       "      <td>147501</td>\n",
       "      <td>27211</td>\n",
       "      <td>35545</td>\n",
       "      <td>24405</td>\n",
       "      <td>95060</td>\n",
       "    </tr>\n",
       "    <tr>\n",
       "      <th>6</th>\n",
       "      <td>144</td>\n",
       "      <td>72301.437981</td>\n",
       "      <td>47360.51627</td>\n",
       "      <td>54145.357333</td>\n",
       "      <td>89457.661634</td>\n",
       "      <td>115437.266528</td>\n",
       "      <td>72356.845601</td>\n",
       "      <td>164689.100713</td>\n",
       "      <td>102330.724424</td>\n",
       "      <td>112396.578585</td>\n",
       "      <td>...</td>\n",
       "      <td>34363</td>\n",
       "      <td>84436</td>\n",
       "      <td>107508</td>\n",
       "      <td>122783</td>\n",
       "      <td>63397</td>\n",
       "      <td>91962</td>\n",
       "      <td>96559</td>\n",
       "      <td>86822</td>\n",
       "      <td>93434</td>\n",
       "      <td>21425</td>\n",
       "    </tr>\n",
       "    <tr>\n",
       "      <th>7</th>\n",
       "      <td>194</td>\n",
       "      <td>0</td>\n",
       "      <td>0</td>\n",
       "      <td>0</td>\n",
       "      <td>0</td>\n",
       "      <td>0</td>\n",
       "      <td>0</td>\n",
       "      <td>0</td>\n",
       "      <td>0</td>\n",
       "      <td>0</td>\n",
       "      <td>...</td>\n",
       "      <td>143281</td>\n",
       "      <td>145669</td>\n",
       "      <td>107315</td>\n",
       "      <td>121999</td>\n",
       "      <td>87128</td>\n",
       "      <td>51302</td>\n",
       "      <td>73211</td>\n",
       "      <td>49920</td>\n",
       "      <td>99219</td>\n",
       "      <td>82882</td>\n",
       "    </tr>\n",
       "  </tbody>\n",
       "</table>\n",
       "<p>5 rows × 73 columns</p>\n",
       "</div>"
      ],
      "text/plain": [
       "  Metas por Vendedor           Unnamed: 2           Unnamed: 3  \\\n",
       "3         cdVendedor  2017-01-01 00:00:00  2017-02-01 00:00:00   \n",
       "4                102        140768.312981        124258.753484   \n",
       "5                125         21525.584613         50778.518843   \n",
       "6                144         72301.437981          47360.51627   \n",
       "7                194                    0                    0   \n",
       "\n",
       "            Unnamed: 4           Unnamed: 5           Unnamed: 6  \\\n",
       "3  2017-03-01 00:00:00  2017-04-01 00:00:00  2017-05-01 00:00:00   \n",
       "4        169509.931262        143465.231352         98423.627768   \n",
       "5         80286.310022         117769.05503        162043.205771   \n",
       "6         54145.357333         89457.661634        115437.266528   \n",
       "7                    0                    0                    0   \n",
       "\n",
       "            Unnamed: 7           Unnamed: 8           Unnamed: 9  \\\n",
       "3  2017-06-01 00:00:00  2017-07-01 00:00:00  2017-08-01 00:00:00   \n",
       "4        133401.861987        109124.992168        221597.228027   \n",
       "5        184889.338359        175629.570395        120097.495562   \n",
       "6         72356.845601        164689.100713        102330.724424   \n",
       "7                    0                    0                    0   \n",
       "\n",
       "           Unnamed: 10  ...          Unnamed: 64          Unnamed: 65  \\\n",
       "3  2017-09-01 00:00:00  ...  2022-03-01 00:00:00  2022-04-01 00:00:00   \n",
       "4        101603.974771  ...                98801                72820   \n",
       "5        110607.719934  ...               102588               111966   \n",
       "6        112396.578585  ...                34363                84436   \n",
       "7                    0  ...               143281               145669   \n",
       "\n",
       "           Unnamed: 66          Unnamed: 67          Unnamed: 68  \\\n",
       "3  2022-05-01 00:00:00  2022-06-01 00:00:00  2022-07-01 00:00:00   \n",
       "4                62828                23732                59726   \n",
       "5                73820                63180                91574   \n",
       "6               107508               122783                63397   \n",
       "7               107315               121999                87128   \n",
       "\n",
       "           Unnamed: 69          Unnamed: 70          Unnamed: 71  \\\n",
       "3  2022-08-01 00:00:00  2022-09-01 00:00:00  2022-10-01 00:00:00   \n",
       "4                72648                90886                33627   \n",
       "5               147501                27211                35545   \n",
       "6                91962                96559                86822   \n",
       "7                51302                73211                49920   \n",
       "\n",
       "           Unnamed: 72          Unnamed: 73  \n",
       "3  2022-11-01 00:00:00  2022-12-01 00:00:00  \n",
       "4                22575               147200  \n",
       "5                24405                95060  \n",
       "6                93434                21425  \n",
       "7                99219                82882  \n",
       "\n",
       "[5 rows x 73 columns]"
      ]
     },
     "execution_count": 18,
     "metadata": {},
     "output_type": "execute_result"
    }
   ],
   "source": [
    "meta.head()"
   ]
  },
  {
   "cell_type": "code",
   "execution_count": 29,
   "metadata": {},
   "outputs": [],
   "source": [
    "meta_lista = meta.head(1)"
   ]
  },
  {
   "cell_type": "code",
   "execution_count": 30,
   "metadata": {},
   "outputs": [
    {
     "data": {
      "text/html": [
       "<div>\n",
       "<style scoped>\n",
       "    .dataframe tbody tr th:only-of-type {\n",
       "        vertical-align: middle;\n",
       "    }\n",
       "\n",
       "    .dataframe tbody tr th {\n",
       "        vertical-align: top;\n",
       "    }\n",
       "\n",
       "    .dataframe thead th {\n",
       "        text-align: right;\n",
       "    }\n",
       "</style>\n",
       "<table border=\"1\" class=\"dataframe\">\n",
       "  <thead>\n",
       "    <tr style=\"text-align: right;\">\n",
       "      <th></th>\n",
       "      <th>Metas por Vendedor</th>\n",
       "      <th>Unnamed: 2</th>\n",
       "      <th>Unnamed: 3</th>\n",
       "      <th>Unnamed: 4</th>\n",
       "      <th>Unnamed: 5</th>\n",
       "      <th>Unnamed: 6</th>\n",
       "      <th>Unnamed: 7</th>\n",
       "      <th>Unnamed: 8</th>\n",
       "      <th>Unnamed: 9</th>\n",
       "      <th>Unnamed: 10</th>\n",
       "      <th>...</th>\n",
       "      <th>Unnamed: 64</th>\n",
       "      <th>Unnamed: 65</th>\n",
       "      <th>Unnamed: 66</th>\n",
       "      <th>Unnamed: 67</th>\n",
       "      <th>Unnamed: 68</th>\n",
       "      <th>Unnamed: 69</th>\n",
       "      <th>Unnamed: 70</th>\n",
       "      <th>Unnamed: 71</th>\n",
       "      <th>Unnamed: 72</th>\n",
       "      <th>Unnamed: 73</th>\n",
       "    </tr>\n",
       "  </thead>\n",
       "  <tbody>\n",
       "    <tr>\n",
       "      <th>3</th>\n",
       "      <td>cdVendedor</td>\n",
       "      <td>2017-01-01 00:00:00</td>\n",
       "      <td>2017-02-01 00:00:00</td>\n",
       "      <td>2017-03-01 00:00:00</td>\n",
       "      <td>2017-04-01 00:00:00</td>\n",
       "      <td>2017-05-01 00:00:00</td>\n",
       "      <td>2017-06-01 00:00:00</td>\n",
       "      <td>2017-07-01 00:00:00</td>\n",
       "      <td>2017-08-01 00:00:00</td>\n",
       "      <td>2017-09-01 00:00:00</td>\n",
       "      <td>...</td>\n",
       "      <td>2022-03-01 00:00:00</td>\n",
       "      <td>2022-04-01 00:00:00</td>\n",
       "      <td>2022-05-01 00:00:00</td>\n",
       "      <td>2022-06-01 00:00:00</td>\n",
       "      <td>2022-07-01 00:00:00</td>\n",
       "      <td>2022-08-01 00:00:00</td>\n",
       "      <td>2022-09-01 00:00:00</td>\n",
       "      <td>2022-10-01 00:00:00</td>\n",
       "      <td>2022-11-01 00:00:00</td>\n",
       "      <td>2022-12-01 00:00:00</td>\n",
       "    </tr>\n",
       "  </tbody>\n",
       "</table>\n",
       "<p>1 rows × 73 columns</p>\n",
       "</div>"
      ],
      "text/plain": [
       "  Metas por Vendedor           Unnamed: 2           Unnamed: 3  \\\n",
       "3         cdVendedor  2017-01-01 00:00:00  2017-02-01 00:00:00   \n",
       "\n",
       "            Unnamed: 4           Unnamed: 5           Unnamed: 6  \\\n",
       "3  2017-03-01 00:00:00  2017-04-01 00:00:00  2017-05-01 00:00:00   \n",
       "\n",
       "            Unnamed: 7           Unnamed: 8           Unnamed: 9  \\\n",
       "3  2017-06-01 00:00:00  2017-07-01 00:00:00  2017-08-01 00:00:00   \n",
       "\n",
       "           Unnamed: 10  ...          Unnamed: 64          Unnamed: 65  \\\n",
       "3  2017-09-01 00:00:00  ...  2022-03-01 00:00:00  2022-04-01 00:00:00   \n",
       "\n",
       "           Unnamed: 66          Unnamed: 67          Unnamed: 68  \\\n",
       "3  2022-05-01 00:00:00  2022-06-01 00:00:00  2022-07-01 00:00:00   \n",
       "\n",
       "           Unnamed: 69          Unnamed: 70          Unnamed: 71  \\\n",
       "3  2022-08-01 00:00:00  2022-09-01 00:00:00  2022-10-01 00:00:00   \n",
       "\n",
       "           Unnamed: 72          Unnamed: 73  \n",
       "3  2022-11-01 00:00:00  2022-12-01 00:00:00  \n",
       "\n",
       "[1 rows x 73 columns]"
      ]
     },
     "execution_count": 30,
     "metadata": {},
     "output_type": "execute_result"
    }
   ],
   "source": [
    "meta_lista"
   ]
  },
  {
   "cell_type": "code",
   "execution_count": 31,
   "metadata": {},
   "outputs": [],
   "source": [
    "meta_lista = meta_lista.astype(object)"
   ]
  },
  {
   "cell_type": "code",
   "execution_count": 32,
   "metadata": {},
   "outputs": [],
   "source": [
    "lista = meta_lista.values.tolist()"
   ]
  },
  {
   "cell_type": "code",
   "execution_count": 33,
   "metadata": {},
   "outputs": [
    {
     "data": {
      "text/plain": [
       "[['cdVendedor',\n",
       "  datetime.datetime(2017, 1, 1, 0, 0),\n",
       "  datetime.datetime(2017, 2, 1, 0, 0),\n",
       "  datetime.datetime(2017, 3, 1, 0, 0),\n",
       "  datetime.datetime(2017, 4, 1, 0, 0),\n",
       "  datetime.datetime(2017, 5, 1, 0, 0),\n",
       "  datetime.datetime(2017, 6, 1, 0, 0),\n",
       "  datetime.datetime(2017, 7, 1, 0, 0),\n",
       "  datetime.datetime(2017, 8, 1, 0, 0),\n",
       "  datetime.datetime(2017, 9, 1, 0, 0),\n",
       "  datetime.datetime(2017, 10, 1, 0, 0),\n",
       "  datetime.datetime(2017, 11, 1, 0, 0),\n",
       "  datetime.datetime(2017, 12, 1, 0, 0),\n",
       "  datetime.datetime(2018, 1, 1, 0, 0),\n",
       "  datetime.datetime(2018, 2, 1, 0, 0),\n",
       "  datetime.datetime(2018, 3, 1, 0, 0),\n",
       "  datetime.datetime(2018, 4, 1, 0, 0),\n",
       "  datetime.datetime(2018, 5, 1, 0, 0),\n",
       "  datetime.datetime(2018, 6, 1, 0, 0),\n",
       "  datetime.datetime(2018, 7, 1, 0, 0),\n",
       "  datetime.datetime(2018, 8, 1, 0, 0),\n",
       "  datetime.datetime(2018, 9, 1, 0, 0),\n",
       "  datetime.datetime(2018, 10, 1, 0, 0),\n",
       "  datetime.datetime(2018, 11, 1, 0, 0),\n",
       "  datetime.datetime(2018, 12, 1, 0, 0),\n",
       "  datetime.datetime(2019, 1, 1, 0, 0),\n",
       "  datetime.datetime(2019, 2, 1, 0, 0),\n",
       "  datetime.datetime(2019, 3, 1, 0, 0),\n",
       "  datetime.datetime(2019, 4, 1, 0, 0),\n",
       "  datetime.datetime(2019, 5, 1, 0, 0),\n",
       "  datetime.datetime(2019, 6, 1, 0, 0),\n",
       "  datetime.datetime(2019, 7, 1, 0, 0),\n",
       "  datetime.datetime(2019, 8, 1, 0, 0),\n",
       "  datetime.datetime(2019, 9, 1, 0, 0),\n",
       "  datetime.datetime(2019, 10, 1, 0, 0),\n",
       "  datetime.datetime(2019, 11, 1, 0, 0),\n",
       "  datetime.datetime(2019, 12, 1, 0, 0),\n",
       "  datetime.datetime(2020, 1, 1, 0, 0),\n",
       "  datetime.datetime(2020, 2, 1, 0, 0),\n",
       "  datetime.datetime(2020, 3, 1, 0, 0),\n",
       "  datetime.datetime(2020, 4, 1, 0, 0),\n",
       "  datetime.datetime(2020, 5, 1, 0, 0),\n",
       "  datetime.datetime(2020, 6, 1, 0, 0),\n",
       "  datetime.datetime(2020, 7, 1, 0, 0),\n",
       "  datetime.datetime(2020, 8, 1, 0, 0),\n",
       "  datetime.datetime(2020, 9, 1, 0, 0),\n",
       "  datetime.datetime(2020, 10, 1, 0, 0),\n",
       "  datetime.datetime(2020, 11, 1, 0, 0),\n",
       "  datetime.datetime(2020, 12, 1, 0, 0),\n",
       "  datetime.datetime(2021, 1, 1, 0, 0),\n",
       "  datetime.datetime(2021, 2, 1, 0, 0),\n",
       "  datetime.datetime(2021, 3, 1, 0, 0),\n",
       "  datetime.datetime(2021, 4, 1, 0, 0),\n",
       "  datetime.datetime(2021, 5, 1, 0, 0),\n",
       "  datetime.datetime(2021, 6, 1, 0, 0),\n",
       "  datetime.datetime(2021, 7, 1, 0, 0),\n",
       "  datetime.datetime(2021, 8, 1, 0, 0),\n",
       "  datetime.datetime(2021, 9, 1, 0, 0),\n",
       "  datetime.datetime(2021, 10, 1, 0, 0),\n",
       "  datetime.datetime(2021, 11, 1, 0, 0),\n",
       "  datetime.datetime(2021, 12, 1, 0, 0),\n",
       "  datetime.datetime(2022, 1, 1, 0, 0),\n",
       "  datetime.datetime(2022, 2, 1, 0, 0),\n",
       "  datetime.datetime(2022, 3, 1, 0, 0),\n",
       "  datetime.datetime(2022, 4, 1, 0, 0),\n",
       "  datetime.datetime(2022, 5, 1, 0, 0),\n",
       "  datetime.datetime(2022, 6, 1, 0, 0),\n",
       "  datetime.datetime(2022, 7, 1, 0, 0),\n",
       "  datetime.datetime(2022, 8, 1, 0, 0),\n",
       "  datetime.datetime(2022, 9, 1, 0, 0),\n",
       "  datetime.datetime(2022, 10, 1, 0, 0),\n",
       "  datetime.datetime(2022, 11, 1, 0, 0),\n",
       "  datetime.datetime(2022, 12, 1, 0, 0)]]"
      ]
     },
     "execution_count": 33,
     "metadata": {},
     "output_type": "execute_result"
    }
   ],
   "source": [
    "lista"
   ]
  },
  {
   "cell_type": "code",
   "execution_count": 35,
   "metadata": {},
   "outputs": [
    {
     "data": {
      "text/plain": [
       "list"
      ]
     },
     "execution_count": 35,
     "metadata": {},
     "output_type": "execute_result"
    }
   ],
   "source": [
    "type(lista)"
   ]
  },
  {
   "cell_type": "code",
   "execution_count": 37,
   "metadata": {},
   "outputs": [
    {
     "ename": "TypeError",
     "evalue": "unhashable type: 'list'",
     "output_type": "error",
     "traceback": [
      "\u001b[1;31m---------------------------------------------------------------------------\u001b[0m",
      "\u001b[1;31mTypeError\u001b[0m                                 Traceback (most recent call last)",
      "File \u001b[1;32mc:\\Python311\\Lib\\site-packages\\pandas\\core\\arrays\\categorical.py:449\u001b[0m, in \u001b[0;36mCategorical.__init__\u001b[1;34m(self, values, categories, ordered, dtype, fastpath, copy)\u001b[0m\n\u001b[0;32m    448\u001b[0m \u001b[39mtry\u001b[39;00m:\n\u001b[1;32m--> 449\u001b[0m     codes, categories \u001b[39m=\u001b[39m factorize(values, sort\u001b[39m=\u001b[39;49m\u001b[39mTrue\u001b[39;49;00m)\n\u001b[0;32m    450\u001b[0m \u001b[39mexcept\u001b[39;00m \u001b[39mTypeError\u001b[39;00m \u001b[39mas\u001b[39;00m err:\n",
      "File \u001b[1;32mc:\\Python311\\Lib\\site-packages\\pandas\\core\\algorithms.py:795\u001b[0m, in \u001b[0;36mfactorize\u001b[1;34m(values, sort, use_na_sentinel, size_hint)\u001b[0m\n\u001b[0;32m    793\u001b[0m             values \u001b[39m=\u001b[39m np\u001b[39m.\u001b[39mwhere(null_mask, na_value, values)\n\u001b[1;32m--> 795\u001b[0m     codes, uniques \u001b[39m=\u001b[39m factorize_array(\n\u001b[0;32m    796\u001b[0m         values,\n\u001b[0;32m    797\u001b[0m         use_na_sentinel\u001b[39m=\u001b[39;49muse_na_sentinel,\n\u001b[0;32m    798\u001b[0m         size_hint\u001b[39m=\u001b[39;49msize_hint,\n\u001b[0;32m    799\u001b[0m     )\n\u001b[0;32m    801\u001b[0m \u001b[39mif\u001b[39;00m sort \u001b[39mand\u001b[39;00m \u001b[39mlen\u001b[39m(uniques) \u001b[39m>\u001b[39m \u001b[39m0\u001b[39m:\n",
      "File \u001b[1;32mc:\\Python311\\Lib\\site-packages\\pandas\\core\\algorithms.py:595\u001b[0m, in \u001b[0;36mfactorize_array\u001b[1;34m(values, use_na_sentinel, size_hint, na_value, mask)\u001b[0m\n\u001b[0;32m    594\u001b[0m table \u001b[39m=\u001b[39m hash_klass(size_hint \u001b[39mor\u001b[39;00m \u001b[39mlen\u001b[39m(values))\n\u001b[1;32m--> 595\u001b[0m uniques, codes \u001b[39m=\u001b[39m table\u001b[39m.\u001b[39;49mfactorize(\n\u001b[0;32m    596\u001b[0m     values,\n\u001b[0;32m    597\u001b[0m     na_sentinel\u001b[39m=\u001b[39;49m\u001b[39m-\u001b[39;49m\u001b[39m1\u001b[39;49m,\n\u001b[0;32m    598\u001b[0m     na_value\u001b[39m=\u001b[39;49mna_value,\n\u001b[0;32m    599\u001b[0m     mask\u001b[39m=\u001b[39;49mmask,\n\u001b[0;32m    600\u001b[0m     ignore_na\u001b[39m=\u001b[39;49muse_na_sentinel,\n\u001b[0;32m    601\u001b[0m )\n\u001b[0;32m    603\u001b[0m \u001b[39m# re-cast e.g. i8->dt64/td64, uint8->bool\u001b[39;00m\n",
      "File \u001b[1;32mpandas\\_libs\\hashtable_class_helper.pxi:7280\u001b[0m, in \u001b[0;36mpandas._libs.hashtable.PyObjectHashTable.factorize\u001b[1;34m()\u001b[0m\n",
      "File \u001b[1;32mpandas\\_libs\\hashtable_class_helper.pxi:7194\u001b[0m, in \u001b[0;36mpandas._libs.hashtable.PyObjectHashTable._unique\u001b[1;34m()\u001b[0m\n",
      "\u001b[1;31mTypeError\u001b[0m: unhashable type: 'list'",
      "\nDuring handling of the above exception, another exception occurred:\n",
      "\u001b[1;31mTypeError\u001b[0m                                 Traceback (most recent call last)",
      "Cell \u001b[1;32mIn[37], line 1\u001b[0m\n\u001b[1;32m----> 1\u001b[0m meta\u001b[39m.\u001b[39;49mcolumns \u001b[39m=\u001b[39m [lista]\n",
      "File \u001b[1;32mc:\\Python311\\Lib\\site-packages\\pandas\\core\\generic.py:6216\u001b[0m, in \u001b[0;36mNDFrame.__setattr__\u001b[1;34m(self, name, value)\u001b[0m\n\u001b[0;32m   6214\u001b[0m \u001b[39mtry\u001b[39;00m:\n\u001b[0;32m   6215\u001b[0m     \u001b[39mobject\u001b[39m\u001b[39m.\u001b[39m\u001b[39m__getattribute__\u001b[39m(\u001b[39mself\u001b[39m, name)\n\u001b[1;32m-> 6216\u001b[0m     \u001b[39mreturn\u001b[39;00m \u001b[39mobject\u001b[39;49m\u001b[39m.\u001b[39;49m\u001b[39m__setattr__\u001b[39;49m(\u001b[39mself\u001b[39;49m, name, value)\n\u001b[0;32m   6217\u001b[0m \u001b[39mexcept\u001b[39;00m \u001b[39mAttributeError\u001b[39;00m:\n\u001b[0;32m   6218\u001b[0m     \u001b[39mpass\u001b[39;00m\n",
      "File \u001b[1;32mproperties.pyx:69\u001b[0m, in \u001b[0;36mpandas._libs.properties.AxisProperty.__set__\u001b[1;34m()\u001b[0m\n",
      "File \u001b[1;32mc:\\Python311\\Lib\\site-packages\\pandas\\core\\generic.py:766\u001b[0m, in \u001b[0;36mNDFrame._set_axis\u001b[1;34m(self, axis, labels)\u001b[0m\n\u001b[0;32m    760\u001b[0m \u001b[39m@final\u001b[39m\n\u001b[0;32m    761\u001b[0m \u001b[39mdef\u001b[39;00m \u001b[39m_set_axis\u001b[39m(\u001b[39mself\u001b[39m, axis: AxisInt, labels: AnyArrayLike \u001b[39m|\u001b[39m \u001b[39mlist\u001b[39m) \u001b[39m-\u001b[39m\u001b[39m>\u001b[39m \u001b[39mNone\u001b[39;00m:\n\u001b[0;32m    762\u001b[0m \u001b[39m    \u001b[39m\u001b[39m\"\"\"\u001b[39;00m\n\u001b[0;32m    763\u001b[0m \u001b[39m    This is called from the cython code when we set the `index` attribute\u001b[39;00m\n\u001b[0;32m    764\u001b[0m \u001b[39m    directly, e.g. `series.index = [1, 2, 3]`.\u001b[39;00m\n\u001b[0;32m    765\u001b[0m \u001b[39m    \"\"\"\u001b[39;00m\n\u001b[1;32m--> 766\u001b[0m     labels \u001b[39m=\u001b[39m ensure_index(labels)\n\u001b[0;32m    767\u001b[0m     \u001b[39mself\u001b[39m\u001b[39m.\u001b[39m_mgr\u001b[39m.\u001b[39mset_axis(axis, labels)\n\u001b[0;32m    768\u001b[0m     \u001b[39mself\u001b[39m\u001b[39m.\u001b[39m_clear_item_cache()\n",
      "File \u001b[1;32mc:\\Python311\\Lib\\site-packages\\pandas\\core\\indexes\\base.py:7564\u001b[0m, in \u001b[0;36mensure_index\u001b[1;34m(index_like, copy)\u001b[0m\n\u001b[0;32m   7561\u001b[0m \u001b[39mif\u001b[39;00m \u001b[39mlen\u001b[39m(index_like) \u001b[39mand\u001b[39;00m lib\u001b[39m.\u001b[39mis_all_arraylike(index_like):\n\u001b[0;32m   7562\u001b[0m     \u001b[39mfrom\u001b[39;00m \u001b[39mpandas\u001b[39;00m\u001b[39m.\u001b[39;00m\u001b[39mcore\u001b[39;00m\u001b[39m.\u001b[39;00m\u001b[39mindexes\u001b[39;00m\u001b[39m.\u001b[39;00m\u001b[39mmulti\u001b[39;00m \u001b[39mimport\u001b[39;00m MultiIndex\n\u001b[1;32m-> 7564\u001b[0m     \u001b[39mreturn\u001b[39;00m MultiIndex\u001b[39m.\u001b[39;49mfrom_arrays(index_like)\n\u001b[0;32m   7565\u001b[0m \u001b[39melse\u001b[39;00m:\n\u001b[0;32m   7566\u001b[0m     \u001b[39mreturn\u001b[39;00m Index(index_like, copy\u001b[39m=\u001b[39mcopy, tupleize_cols\u001b[39m=\u001b[39m\u001b[39mFalse\u001b[39;00m)\n",
      "File \u001b[1;32mc:\\Python311\\Lib\\site-packages\\pandas\\core\\indexes\\multi.py:531\u001b[0m, in \u001b[0;36mMultiIndex.from_arrays\u001b[1;34m(cls, arrays, sortorder, names)\u001b[0m\n\u001b[0;32m    528\u001b[0m     \u001b[39mif\u001b[39;00m \u001b[39mlen\u001b[39m(arrays[i]) \u001b[39m!=\u001b[39m \u001b[39mlen\u001b[39m(arrays[i \u001b[39m-\u001b[39m \u001b[39m1\u001b[39m]):\n\u001b[0;32m    529\u001b[0m         \u001b[39mraise\u001b[39;00m \u001b[39mValueError\u001b[39;00m(\u001b[39m\"\u001b[39m\u001b[39mall arrays must be same length\u001b[39m\u001b[39m\"\u001b[39m)\n\u001b[1;32m--> 531\u001b[0m codes, levels \u001b[39m=\u001b[39m factorize_from_iterables(arrays)\n\u001b[0;32m    532\u001b[0m \u001b[39mif\u001b[39;00m names \u001b[39mis\u001b[39;00m lib\u001b[39m.\u001b[39mno_default:\n\u001b[0;32m    533\u001b[0m     names \u001b[39m=\u001b[39m [\u001b[39mgetattr\u001b[39m(arr, \u001b[39m\"\u001b[39m\u001b[39mname\u001b[39m\u001b[39m\"\u001b[39m, \u001b[39mNone\u001b[39;00m) \u001b[39mfor\u001b[39;00m arr \u001b[39min\u001b[39;00m arrays]\n",
      "File \u001b[1;32mc:\\Python311\\Lib\\site-packages\\pandas\\core\\arrays\\categorical.py:3023\u001b[0m, in \u001b[0;36mfactorize_from_iterables\u001b[1;34m(iterables)\u001b[0m\n\u001b[0;32m   3019\u001b[0m \u001b[39mif\u001b[39;00m \u001b[39mlen\u001b[39m(iterables) \u001b[39m==\u001b[39m \u001b[39m0\u001b[39m:\n\u001b[0;32m   3020\u001b[0m     \u001b[39m# For consistency, it should return two empty lists.\u001b[39;00m\n\u001b[0;32m   3021\u001b[0m     \u001b[39mreturn\u001b[39;00m [], []\n\u001b[1;32m-> 3023\u001b[0m codes, categories \u001b[39m=\u001b[39m \u001b[39mzip\u001b[39;49m(\u001b[39m*\u001b[39;49m(factorize_from_iterable(it) \u001b[39mfor\u001b[39;49;00m it \u001b[39min\u001b[39;49;00m iterables))\n\u001b[0;32m   3024\u001b[0m \u001b[39mreturn\u001b[39;00m \u001b[39mlist\u001b[39m(codes), \u001b[39mlist\u001b[39m(categories)\n",
      "File \u001b[1;32mc:\\Python311\\Lib\\site-packages\\pandas\\core\\arrays\\categorical.py:3023\u001b[0m, in \u001b[0;36m<genexpr>\u001b[1;34m(.0)\u001b[0m\n\u001b[0;32m   3019\u001b[0m \u001b[39mif\u001b[39;00m \u001b[39mlen\u001b[39m(iterables) \u001b[39m==\u001b[39m \u001b[39m0\u001b[39m:\n\u001b[0;32m   3020\u001b[0m     \u001b[39m# For consistency, it should return two empty lists.\u001b[39;00m\n\u001b[0;32m   3021\u001b[0m     \u001b[39mreturn\u001b[39;00m [], []\n\u001b[1;32m-> 3023\u001b[0m codes, categories \u001b[39m=\u001b[39m \u001b[39mzip\u001b[39m(\u001b[39m*\u001b[39m(factorize_from_iterable(it) \u001b[39mfor\u001b[39;00m it \u001b[39min\u001b[39;00m iterables))\n\u001b[0;32m   3024\u001b[0m \u001b[39mreturn\u001b[39;00m \u001b[39mlist\u001b[39m(codes), \u001b[39mlist\u001b[39m(categories)\n",
      "File \u001b[1;32mc:\\Python311\\Lib\\site-packages\\pandas\\core\\arrays\\categorical.py:2996\u001b[0m, in \u001b[0;36mfactorize_from_iterable\u001b[1;34m(values)\u001b[0m\n\u001b[0;32m   2991\u001b[0m     codes \u001b[39m=\u001b[39m values\u001b[39m.\u001b[39mcodes\n\u001b[0;32m   2992\u001b[0m \u001b[39melse\u001b[39;00m:\n\u001b[0;32m   2993\u001b[0m     \u001b[39m# The value of ordered is irrelevant since we don't use cat as such,\u001b[39;00m\n\u001b[0;32m   2994\u001b[0m     \u001b[39m# but only the resulting categories, the order of which is independent\u001b[39;00m\n\u001b[0;32m   2995\u001b[0m     \u001b[39m# from ordered. Set ordered to False as default. See GH #15457\u001b[39;00m\n\u001b[1;32m-> 2996\u001b[0m     cat \u001b[39m=\u001b[39m Categorical(values, ordered\u001b[39m=\u001b[39;49m\u001b[39mFalse\u001b[39;49;00m)\n\u001b[0;32m   2997\u001b[0m     categories \u001b[39m=\u001b[39m cat\u001b[39m.\u001b[39mcategories\n\u001b[0;32m   2998\u001b[0m     codes \u001b[39m=\u001b[39m cat\u001b[39m.\u001b[39mcodes\n",
      "File \u001b[1;32mc:\\Python311\\Lib\\site-packages\\pandas\\core\\arrays\\categorical.py:451\u001b[0m, in \u001b[0;36mCategorical.__init__\u001b[1;34m(self, values, categories, ordered, dtype, fastpath, copy)\u001b[0m\n\u001b[0;32m    449\u001b[0m     codes, categories \u001b[39m=\u001b[39m factorize(values, sort\u001b[39m=\u001b[39m\u001b[39mTrue\u001b[39;00m)\n\u001b[0;32m    450\u001b[0m \u001b[39mexcept\u001b[39;00m \u001b[39mTypeError\u001b[39;00m \u001b[39mas\u001b[39;00m err:\n\u001b[1;32m--> 451\u001b[0m     codes, categories \u001b[39m=\u001b[39m factorize(values, sort\u001b[39m=\u001b[39;49m\u001b[39mFalse\u001b[39;49;00m)\n\u001b[0;32m    452\u001b[0m     \u001b[39mif\u001b[39;00m dtype\u001b[39m.\u001b[39mordered:\n\u001b[0;32m    453\u001b[0m         \u001b[39m# raise, as we don't have a sortable data structure and so\u001b[39;00m\n\u001b[0;32m    454\u001b[0m         \u001b[39m# the user should give us one by specifying categories\u001b[39;00m\n\u001b[0;32m    455\u001b[0m         \u001b[39mraise\u001b[39;00m \u001b[39mTypeError\u001b[39;00m(\n\u001b[0;32m    456\u001b[0m             \u001b[39m\"\u001b[39m\u001b[39m'\u001b[39m\u001b[39mvalues\u001b[39m\u001b[39m'\u001b[39m\u001b[39m is not ordered, please \u001b[39m\u001b[39m\"\u001b[39m\n\u001b[0;32m    457\u001b[0m             \u001b[39m\"\u001b[39m\u001b[39mexplicitly specify the categories order \u001b[39m\u001b[39m\"\u001b[39m\n\u001b[0;32m    458\u001b[0m             \u001b[39m\"\u001b[39m\u001b[39mby passing in a categories argument.\u001b[39m\u001b[39m\"\u001b[39m\n\u001b[0;32m    459\u001b[0m         ) \u001b[39mfrom\u001b[39;00m \u001b[39merr\u001b[39;00m\n",
      "File \u001b[1;32mc:\\Python311\\Lib\\site-packages\\pandas\\core\\algorithms.py:795\u001b[0m, in \u001b[0;36mfactorize\u001b[1;34m(values, sort, use_na_sentinel, size_hint)\u001b[0m\n\u001b[0;32m    792\u001b[0m             \u001b[39m# Don't modify (potentially user-provided) array\u001b[39;00m\n\u001b[0;32m    793\u001b[0m             values \u001b[39m=\u001b[39m np\u001b[39m.\u001b[39mwhere(null_mask, na_value, values)\n\u001b[1;32m--> 795\u001b[0m     codes, uniques \u001b[39m=\u001b[39m factorize_array(\n\u001b[0;32m    796\u001b[0m         values,\n\u001b[0;32m    797\u001b[0m         use_na_sentinel\u001b[39m=\u001b[39;49muse_na_sentinel,\n\u001b[0;32m    798\u001b[0m         size_hint\u001b[39m=\u001b[39;49msize_hint,\n\u001b[0;32m    799\u001b[0m     )\n\u001b[0;32m    801\u001b[0m \u001b[39mif\u001b[39;00m sort \u001b[39mand\u001b[39;00m \u001b[39mlen\u001b[39m(uniques) \u001b[39m>\u001b[39m \u001b[39m0\u001b[39m:\n\u001b[0;32m    802\u001b[0m     uniques, codes \u001b[39m=\u001b[39m safe_sort(\n\u001b[0;32m    803\u001b[0m         uniques,\n\u001b[0;32m    804\u001b[0m         codes,\n\u001b[1;32m   (...)\u001b[0m\n\u001b[0;32m    807\u001b[0m         verify\u001b[39m=\u001b[39m\u001b[39mFalse\u001b[39;00m,\n\u001b[0;32m    808\u001b[0m     )\n",
      "File \u001b[1;32mc:\\Python311\\Lib\\site-packages\\pandas\\core\\algorithms.py:595\u001b[0m, in \u001b[0;36mfactorize_array\u001b[1;34m(values, use_na_sentinel, size_hint, na_value, mask)\u001b[0m\n\u001b[0;32m    592\u001b[0m hash_klass, values \u001b[39m=\u001b[39m _get_hashtable_algo(values)\n\u001b[0;32m    594\u001b[0m table \u001b[39m=\u001b[39m hash_klass(size_hint \u001b[39mor\u001b[39;00m \u001b[39mlen\u001b[39m(values))\n\u001b[1;32m--> 595\u001b[0m uniques, codes \u001b[39m=\u001b[39m table\u001b[39m.\u001b[39;49mfactorize(\n\u001b[0;32m    596\u001b[0m     values,\n\u001b[0;32m    597\u001b[0m     na_sentinel\u001b[39m=\u001b[39;49m\u001b[39m-\u001b[39;49m\u001b[39m1\u001b[39;49m,\n\u001b[0;32m    598\u001b[0m     na_value\u001b[39m=\u001b[39;49mna_value,\n\u001b[0;32m    599\u001b[0m     mask\u001b[39m=\u001b[39;49mmask,\n\u001b[0;32m    600\u001b[0m     ignore_na\u001b[39m=\u001b[39;49muse_na_sentinel,\n\u001b[0;32m    601\u001b[0m )\n\u001b[0;32m    603\u001b[0m \u001b[39m# re-cast e.g. i8->dt64/td64, uint8->bool\u001b[39;00m\n\u001b[0;32m    604\u001b[0m uniques \u001b[39m=\u001b[39m _reconstruct_data(uniques, original\u001b[39m.\u001b[39mdtype, original)\n",
      "File \u001b[1;32mpandas\\_libs\\hashtable_class_helper.pxi:7280\u001b[0m, in \u001b[0;36mpandas._libs.hashtable.PyObjectHashTable.factorize\u001b[1;34m()\u001b[0m\n",
      "File \u001b[1;32mpandas\\_libs\\hashtable_class_helper.pxi:7194\u001b[0m, in \u001b[0;36mpandas._libs.hashtable.PyObjectHashTable._unique\u001b[1;34m()\u001b[0m\n",
      "\u001b[1;31mTypeError\u001b[0m: unhashable type: 'list'"
     ]
    }
   ],
   "source": [
    "meta.columns = [lista]"
   ]
  },
  {
   "cell_type": "code",
   "execution_count": null,
   "metadata": {},
   "outputs": [],
   "source": [
    "meta.head()"
   ]
  },
  {
   "cell_type": "code",
   "execution_count": null,
   "metadata": {},
   "outputs": [],
   "source": [
    "meta = meta.iloc[1:,:]"
   ]
  },
  {
   "cell_type": "code",
   "execution_count": null,
   "metadata": {},
   "outputs": [],
   "source": [
    "meta = meta.transpose()"
   ]
  },
  {
   "cell_type": "code",
   "execution_count": null,
   "metadata": {},
   "outputs": [],
   "source": [
    "meta.head()"
   ]
  },
  {
   "cell_type": "code",
   "execution_count": null,
   "metadata": {},
   "outputs": [],
   "source": [
    "meta = meta.rename_axis('Index').reset_index()"
   ]
  },
  {
   "cell_type": "code",
   "execution_count": null,
   "metadata": {},
   "outputs": [],
   "source": [
    "meta.head()"
   ]
  },
  {
   "cell_type": "code",
   "execution_count": null,
   "metadata": {},
   "outputs": [],
   "source": [
    "meta_lista = meta.head(1)"
   ]
  },
  {
   "cell_type": "code",
   "execution_count": null,
   "metadata": {},
   "outputs": [],
   "source": [
    "meta_lista"
   ]
  },
  {
   "cell_type": "code",
   "execution_count": null,
   "metadata": {},
   "outputs": [],
   "source": [
    "meta_lista = meta_lista.astype(object)"
   ]
  },
  {
   "cell_type": "code",
   "execution_count": null,
   "metadata": {},
   "outputs": [],
   "source": [
    "meta_lista.info()"
   ]
  },
  {
   "cell_type": "code",
   "execution_count": null,
   "metadata": {},
   "outputs": [],
   "source": [
    "lista_2 = meta_lista.values.tolist()"
   ]
  },
  {
   "cell_type": "code",
   "execution_count": null,
   "metadata": {},
   "outputs": [],
   "source": [
    "lista_2"
   ]
  },
  {
   "cell_type": "code",
   "execution_count": null,
   "metadata": {},
   "outputs": [],
   "source": [
    "meta.columns = [lista_2]"
   ]
  }
 ],
 "metadata": {
  "kernelspec": {
   "display_name": "Python 3",
   "language": "python",
   "name": "python3"
  },
  "language_info": {
   "codemirror_mode": {
    "name": "ipython",
    "version": 3
   },
   "file_extension": ".py",
   "mimetype": "text/x-python",
   "name": "python",
   "nbconvert_exporter": "python",
   "pygments_lexer": "ipython3",
   "version": "3.11.0"
  },
  "orig_nbformat": 4
 },
 "nbformat": 4,
 "nbformat_minor": 2
}
