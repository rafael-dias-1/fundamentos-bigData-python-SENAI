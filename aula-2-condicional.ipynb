{
 "cells": [
  {
   "cell_type": "markdown",
   "id": "6b2630f9",
   "metadata": {},
   "source": [
    "## Exercício 01\n",
    "Crie uma variável chamada \"idade\" e atribua um valor inteiro a ela. Verifique se a idade é maior ou igual a 18 e imprima \"Maior de idade\" ou \"Menor de idade\" de acordo com a condição."
   ]
  },
  {
   "cell_type": "code",
   "execution_count": 1,
   "id": "3dc617ba",
   "metadata": {},
   "outputs": [],
   "source": [
    "idade = 25"
   ]
  },
  {
   "cell_type": "code",
   "execution_count": 22,
   "id": "92b59278",
   "metadata": {},
   "outputs": [
    {
     "name": "stdout",
     "output_type": "stream",
     "text": [
      "Maior de idade\n"
     ]
    }
   ],
   "source": [
    "if idade >= 18:\n",
    "    print('Maior de idade')\n",
    "else:\n",
    "    print('Menor de idade')"
   ]
  },
  {
   "cell_type": "markdown",
   "id": "de8e9402",
   "metadata": {},
   "source": [
    "## Exercício 02\n",
    "Crie uma variável chamada \"número\" e atribua um valor inteiro a ela. Verifique se o número é positivo, negativo ou zero e imprima a mensagem correspondente."
   ]
  },
  {
   "cell_type": "code",
   "execution_count": 32,
   "id": "df99f8e1",
   "metadata": {},
   "outputs": [],
   "source": [
    "numero = 5"
   ]
  },
  {
   "cell_type": "code",
   "execution_count": 33,
   "id": "ae94d547",
   "metadata": {},
   "outputs": [
    {
     "name": "stdout",
     "output_type": "stream",
     "text": [
      "Positivo\n"
     ]
    }
   ],
   "source": [
    "if numero == 0:\n",
    "    print('Numero igual a zero')\n",
    "elif numero > 0:\n",
    "    print('Positivo')\n",
    "else:\n",
    "    print('Negativo')"
   ]
  },
  {
   "cell_type": "markdown",
   "id": "56bc38ff",
   "metadata": {},
   "source": [
    "## Exercício 03\n",
    "Crie duas variáveis, \"nota1\" e \"nota2\", e atribua valores numéricos a elas. Verifique se a média das notas é maior ou igual a 7 e imprima \"Aprovado\" ou \"Reprovado\" de acordo com a condição."
   ]
  },
  {
   "cell_type": "code",
   "execution_count": 18,
   "id": "5c3e3e28",
   "metadata": {},
   "outputs": [],
   "source": [
    "nota1 = 5\n",
    "nota2 = 8"
   ]
  },
  {
   "cell_type": "code",
   "execution_count": 19,
   "id": "c4d5e1ad",
   "metadata": {},
   "outputs": [],
   "source": [
    "media = (nota1 + nota2)/2"
   ]
  },
  {
   "cell_type": "code",
   "execution_count": 25,
   "id": "d059a9ae",
   "metadata": {},
   "outputs": [
    {
     "name": "stdout",
     "output_type": "stream",
     "text": [
      "Reprovado\n"
     ]
    }
   ],
   "source": [
    "if media >= 7:\n",
    "    print('Aprovado')\n",
    "else:\n",
    "    print('Reprovado')"
   ]
  },
  {
   "cell_type": "markdown",
   "id": "4c2aa806",
   "metadata": {},
   "source": [
    "## Exercício 04\n",
    "Crie uma variável chamada \"idade\" e atribua um valor inteiro a ela. Verifique se a idade está dentro do intervalo de 18 a 30 (inclusive) e imprima a mensagem \"Idade válida\" ou \"Idade inválida\" de acordo com a condição."
   ]
  },
  {
   "cell_type": "code",
   "execution_count": 48,
   "id": "1a2e1310",
   "metadata": {},
   "outputs": [],
   "source": [
    "idade = 31"
   ]
  },
  {
   "cell_type": "code",
   "execution_count": 49,
   "id": "509e4145",
   "metadata": {},
   "outputs": [
    {
     "name": "stdout",
     "output_type": "stream",
     "text": [
      "Idade inválida\n"
     ]
    }
   ],
   "source": [
    "if (idade >= 18) and (idade <= 30): \n",
    "    print('Idade válida')\n",
    "else:\n",
    "    print('Idade inválida')"
   ]
  },
  {
   "cell_type": "markdown",
   "id": "3669a626",
   "metadata": {},
   "source": [
    "## Exercício 05\n",
    "Crie uma variável chamada \"numero\" e atribua um valor inteiro a ela. Verifique se o número é par ou ímpar e imprima a mensagem correspondente."
   ]
  },
  {
   "cell_type": "code",
   "execution_count": 66,
   "id": "c9801da4",
   "metadata": {},
   "outputs": [],
   "source": [
    "numero = 25"
   ]
  },
  {
   "cell_type": "code",
   "execution_count": 67,
   "id": "4738c9fe",
   "metadata": {},
   "outputs": [
    {
     "name": "stdout",
     "output_type": "stream",
     "text": [
      "Impar\n"
     ]
    }
   ],
   "source": [
    "if (numero % 2) == 0:\n",
    "    print('Par')\n",
    "else:\n",
    "    print('Impar')"
   ]
  },
  {
   "cell_type": "markdown",
   "id": "582e10dc",
   "metadata": {},
   "source": [
    "## Exercício 06\n",
    "Crie uma variável chamada \"horario\" e atribua um valor inteiro representando a hora do dia (em formato 24 horas). Verifique se o horário está dentro do período da manhã (das 6h às 12h), da tarde (das 12h às 18h) ou da noite (das 18h às 23h) e imprima a mensagem correspondente."
   ]
  },
  {
   "cell_type": "code",
   "execution_count": 64,
   "id": "c839ede8",
   "metadata": {},
   "outputs": [],
   "source": [
    "horario = 19"
   ]
  },
  {
   "cell_type": "code",
   "execution_count": 65,
   "id": "661be23f",
   "metadata": {},
   "outputs": [
    {
     "name": "stdout",
     "output_type": "stream",
     "text": [
      "período da noite\n"
     ]
    }
   ],
   "source": [
    "if (horario >= 6) and (horario <= 12): \n",
    "    print('período da manhã')\n",
    "elif (horario > 12) and (horario <= 18):\n",
    "    print('período da tarde')\n",
    "elif (horario > 18) and (horario <= 23):\n",
    "    print('período da noite')\n",
    "else:\n",
    "    print('Fora do intervalor definido no enunciado')\n",
    "    "
   ]
  },
  {
   "cell_type": "markdown",
   "id": "c1cfaedb",
   "metadata": {},
   "source": [
    "## Exercício 07\n",
    "Crie uma variável chamada \"peso\" e atribua um valor numérico a ela. Verifique se o peso está dentro do intervalo de 50 a 100 (inclusive) e imprima a mensagem \"Peso válido\" ou \"Peso inválido\" de acordo com a condição."
   ]
  },
  {
   "cell_type": "code",
   "execution_count": 85,
   "id": "4f2a3ac3",
   "metadata": {},
   "outputs": [],
   "source": [
    "peso = 105.5"
   ]
  },
  {
   "cell_type": "code",
   "execution_count": 86,
   "id": "3ed91e78",
   "metadata": {},
   "outputs": [
    {
     "name": "stdout",
     "output_type": "stream",
     "text": [
      "Peso inválido\n"
     ]
    }
   ],
   "source": [
    "if (peso >= 50.00) and (peso <= 100.00): \n",
    "    print('Peso válido')\n",
    "else:\n",
    "    print('Peso inválido')"
   ]
  },
  {
   "cell_type": "markdown",
   "id": "2d6b44e2",
   "metadata": {},
   "source": [
    "## Exercício 08\n",
    "Crie uma variável chamada \"numero\" e atribua um valor inteiro a ela. Verifique se o número é múltiplo de 3 e de 5 ao mesmo tempo e imprima a mensagem correspondente."
   ]
  },
  {
   "cell_type": "code",
   "execution_count": 88,
   "id": "d102514b",
   "metadata": {},
   "outputs": [],
   "source": [
    "numero = 26"
   ]
  },
  {
   "cell_type": "code",
   "execution_count": 89,
   "id": "85c2172e",
   "metadata": {},
   "outputs": [
    {
     "name": "stdout",
     "output_type": "stream",
     "text": [
      "o número não é múltiplo de 3 e de 5\n"
     ]
    }
   ],
   "source": [
    "if (numero % 3 == 0) and (numero % 5 == 0):\n",
    "    print('o número é múltiplo de 3 e de 5')\n",
    "else:\n",
    "    print('o número não é múltiplo de 3 e de 5')"
   ]
  },
  {
   "cell_type": "markdown",
   "id": "fea74f64",
   "metadata": {},
   "source": [
    "## Exercício 09\n",
    "Crie uma variável chamada \"ano\" e atribua um valor inteiro representando um ano. Verifique se o ano é bissexto (divisível por 4, mas não por 100, exceto se for divisível por 400) e imprima a mensagem correspondente."
   ]
  },
  {
   "cell_type": "code",
   "execution_count": 102,
   "id": "5dfc8649",
   "metadata": {},
   "outputs": [],
   "source": [
    "ano = 2024"
   ]
  },
  {
   "cell_type": "code",
   "execution_count": 107,
   "id": "8eb84cc3",
   "metadata": {},
   "outputs": [
    {
     "name": "stdout",
     "output_type": "stream",
     "text": [
      "Ano bissexto\n"
     ]
    }
   ],
   "source": [
    "if (((ano % 4 == 0) and (ano % 400 != 0)) or (ano % 400 == 0)):\n",
    "    print ('Ano bissexto')\n",
    "else:\n",
    "    print('Não é ano bissexto')"
   ]
  },
  {
   "cell_type": "markdown",
   "id": "d1d2e8a6",
   "metadata": {},
   "source": [
    "## Exercício 10\n",
    "Crie uma variável chamada \"salario\" e atribua um valor numérico a ela. Verifique se o salário é maior do que 1000 e menor do que 2000 ao mesmo tempo e imprima a mensagem correspondente."
   ]
  },
  {
   "cell_type": "code",
   "execution_count": 110,
   "id": "bb42f54b",
   "metadata": {},
   "outputs": [],
   "source": [
    "salario = 1000.00"
   ]
  },
  {
   "cell_type": "code",
   "execution_count": 113,
   "id": "8216cd02",
   "metadata": {},
   "outputs": [
    {
     "name": "stdout",
     "output_type": "stream",
     "text": [
      "Salario não é maior que R$1000,00 e menor que R$2000,00\n"
     ]
    }
   ],
   "source": [
    "if (salario > 1000.00) and (salario < 2000.00):\n",
    "    print('Salario é maior que R$1000,00 e menor que R$2000,00')\n",
    "else:\n",
    "    print('Salario não é maior que R$1000,00 e menor que R$2000,00')"
   ]
  },
  {
   "cell_type": "code",
   "execution_count": 114,
   "id": "0c540844",
   "metadata": {},
   "outputs": [
    {
     "name": "stdout",
     "output_type": "stream",
     "text": [
      "Collecting holidays\n",
      "  Downloading holidays-0.31-py3-none-any.whl (754 kB)\n",
      "     -------------------------------------- 754.3/754.3 kB 9.5 MB/s eta 0:00:00\n",
      "Requirement already satisfied: python-dateutil in c:\\users\\fic\\anaconda3\\lib\\site-packages (from holidays) (2.8.2)\n",
      "Requirement already satisfied: six>=1.5 in c:\\users\\fic\\anaconda3\\lib\\site-packages (from python-dateutil->holidays) (1.16.0)\n",
      "Installing collected packages: holidays\n",
      "Successfully installed holidays-0.31\n"
     ]
    }
   ],
   "source": [
    "!pip install --upgrade holidays"
   ]
  },
  {
   "cell_type": "code",
   "execution_count": 115,
   "id": "e6dc8dd4",
   "metadata": {},
   "outputs": [],
   "source": [
    "from datetime import date\n",
    "import holidays"
   ]
  },
  {
   "cell_type": "code",
   "execution_count": 121,
   "id": "4d057f09",
   "metadata": {},
   "outputs": [],
   "source": [
    "br_holidays = holidays.country_holidays('BR')"
   ]
  },
  {
   "cell_type": "code",
   "execution_count": 124,
   "id": "a02bc769",
   "metadata": {},
   "outputs": [
    {
     "data": {
      "text/plain": [
       "True"
      ]
     },
     "execution_count": 124,
     "metadata": {},
     "output_type": "execute_result"
    }
   ],
   "source": [
    "date(2015, 9, 7) in br_holidays "
   ]
  },
  {
   "cell_type": "markdown",
   "id": "66d77086",
   "metadata": {},
   "source": [
    "## Exercício 30\n",
    "Faça um programa que faça 5 perguntas para uma pessoa sobre um crime. As perguntas são:\n",
    "1. \"Telefonou para a vítima?\"\n",
    "2. \"Esteve no local do crime?\"\n",
    "3. \"Mora perto da vítima?\"\n",
    "4. \"Devia para a vítima?\"\n",
    "5. \"Já trabalhou com a vítima?\"\n",
    "O programa deve no final emitir uma classificação sobre a participação da pessoa no crime. Se a pessoa responder positivamente a 2 questões ela deve ser classificada como \"Suspeita\", entre 3 e 4 como \"Cúmplice\" e 5 como \"Assassino\". Caso contrário, ele será classificado como \"Inocente\"."
   ]
  },
  {
   "cell_type": "code",
   "execution_count": 132,
   "id": "f2157509",
   "metadata": {},
   "outputs": [
    {
     "name": "stdout",
     "output_type": "stream",
     "text": [
      "-----------------------------------------------------------------------\n",
      "Responda as perguntas as perguntas a seguir com S para sim e N para não\n",
      "-----------------------------------------------------------------------\n",
      "Telefonou para a vítima? S\n",
      "Esteve no local do crime? S\n",
      "Mora perto da vítima? S\n",
      "Devia para a vítima? S\n",
      "Já trabalhou com a vítima? S\n",
      "Assassino\n"
     ]
    }
   ],
   "source": [
    "print('-----------------------------------------------------------------------')\n",
    "print('Responda as perguntas as perguntas a seguir com S para sim e N para não')\n",
    "print('-----------------------------------------------------------------------')\n",
    "resposta = 0\n",
    "resposta1 = input('Telefonou para a vítima? ')\n",
    "if resposta1 == 'S':\n",
    "    resposta = resposta + 1\n",
    "resposta2 = input('Esteve no local do crime? ')\n",
    "if resposta2 == 'S':\n",
    "    resposta = resposta + 1\n",
    "resposta3 = input('Mora perto da vítima? ')\n",
    "if resposta3 == 'S':\n",
    "    resposta = resposta + 1\n",
    "resposta4 = input('Devia para a vítima? ')\n",
    "if resposta4 == 'S':\n",
    "    resposta = resposta + 1\n",
    "resposta5 = input('Já trabalhou com a vítima? ')\n",
    "if resposta5 == 'S':\n",
    "    resposta = resposta + 1\n",
    "    \n",
    "if  resposta == 2:\n",
    "    print(\"Suspeita\")\n",
    "elif resposta >=3 and resposta <= 4:\n",
    "    print(\"Cúmplice\")\n",
    "elif resposta == 5:\n",
    "    print(\"Assassino\")\n",
    "else:\n",
    "    print(\"Inocente\")\n",
    "\n"
   ]
  },
  {
   "cell_type": "markdown",
   "id": "6868bd8f",
   "metadata": {},
   "source": [
    "## Exercício 16\n",
    "Faça um Programa que leia três números e mostre o maior deles."
   ]
  },
  {
   "cell_type": "code",
   "execution_count": 135,
   "id": "b26985cd",
   "metadata": {},
   "outputs": [
    {
     "name": "stdout",
     "output_type": "stream",
     "text": [
      "Digite um numero: 5\n",
      "Digite um numero: 5\n",
      "Digite um numero: 5\n",
      "5 é o maior entre eles\n"
     ]
    }
   ],
   "source": [
    "numero1 = int(input('Digite um numero: '))\n",
    "numero2 = int(input('Digite um numero: '))\n",
    "numero3 = int(input('Digite um numero: '))\n",
    "\n",
    "if numero1 > numero2 and numero1 > numero3:\n",
    "    print(f'{numero1} é o maior entre eles')\n",
    "elif numero2 > numero1 and numero2 > numero3:\n",
    "    print(f'{numero2} é o maior entre eles')\n",
    "else:\n",
    "    print(f'{numero3} é o maior entre eles')"
   ]
  },
  {
   "cell_type": "markdown",
   "id": "9705fd04",
   "metadata": {},
   "source": [
    "## Exercício 17\n",
    "Faça um Programa que leia três números e mostre o maior e o menor deles."
   ]
  },
  {
   "cell_type": "code",
   "execution_count": null,
   "id": "96bf992e",
   "metadata": {},
   "outputs": [],
   "source": [
    "numero1 = int(input('Digite um numero: '))\n",
    "numero2 = int(input('Digite um numero: '))\n",
    "numero3 = int(input('Digite um numero: '))\n",
    "\n",
    "if numero1 < numero2 and numero1 < numero3:\n",
    "    print(f'{numero1} é o menor entre eles')\n",
    "elif numero2 < numero1 and numero2 < numero3:\n",
    "    print(f'{numero2} é o menor entre eles')\n",
    "else:\n",
    "    print(f'{numero3} é o menor entre eles')"
   ]
  }
 ],
 "metadata": {
  "kernelspec": {
   "display_name": "Python 3 (ipykernel)",
   "language": "python",
   "name": "python3"
  },
  "language_info": {
   "codemirror_mode": {
    "name": "ipython",
    "version": 3
   },
   "file_extension": ".py",
   "mimetype": "text/x-python",
   "name": "python",
   "nbconvert_exporter": "python",
   "pygments_lexer": "ipython3",
   "version": "3.10.9"
  }
 },
 "nbformat": 4,
 "nbformat_minor": 5
}
