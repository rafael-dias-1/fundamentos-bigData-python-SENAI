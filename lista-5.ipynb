{
  "cells": [
    {
      "attachments": {},
      "cell_type": "markdown",
      "metadata": {
        "id": "XeHBPOL74e3J"
      },
      "source": [
        "# Lista de Exercicios"
      ]
    },
    {
      "cell_type": "code",
      "execution_count": 1,
      "metadata": {},
      "outputs": [],
      "source": [
        "import pandas as pd"
      ]
    },
    {
      "attachments": {},
      "cell_type": "markdown",
      "metadata": {
        "id": "n0qkX7gF4e3J"
      },
      "source": [
        "## Exercício 01 – Manipulando dataframes com Pandas.\n",
        "a) Abra o arquivo world_happiness_report_2015.csv e o aloque em um dataframe.\n",
        "b) Verifique o cabeçalho e o final do dataframe.\n",
        "c) Quais as colunas desse dataframe?\n",
        "d) Quais os tipos de dados temos no dataframe?\n",
        "e) Há valores faltantes ou nulos? Em quais colunas?\n",
        "f) Renomeie as variáveis como segue:\n",
        "g) Quais os valores médios de expect_vida? E o valor mediano? E o máximo da variável PIB?"
      ]
    },
    {
      "attachments": {},
      "cell_type": "markdown",
      "metadata": {
        "id": "MCNkb7wp4e3K"
      },
      "source": [
        "Exercicio A"
      ]
    },
    {
      "cell_type": "code",
      "execution_count": 2,
      "metadata": {
        "id": "kkreoAh24e3K"
      },
      "outputs": [],
      "source": [
        "caminho = 'C:\\\\Users\\\\FIC\\\\Documents\\\\Rafael-Dias-Python\\\\arquivos\\\\'\n",
        "arquivo = 'world_happiness_report_2015.csv'\n",
        "df = pd.read_csv(caminho + arquivo)"
      ]
    },
    {
      "cell_type": "code",
      "execution_count": 3,
      "metadata": {
        "id": "F1dwo5d24e3K",
        "outputId": "acf910a6-25d2-49b7-bdc3-8d3cd72780a1"
      },
      "outputs": [
        {
          "data": {
            "text/html": [
              "<div>\n",
              "<style scoped>\n",
              "    .dataframe tbody tr th:only-of-type {\n",
              "        vertical-align: middle;\n",
              "    }\n",
              "\n",
              "    .dataframe tbody tr th {\n",
              "        vertical-align: top;\n",
              "    }\n",
              "\n",
              "    .dataframe thead th {\n",
              "        text-align: right;\n",
              "    }\n",
              "</style>\n",
              "<table border=\"1\" class=\"dataframe\">\n",
              "  <thead>\n",
              "    <tr style=\"text-align: right;\">\n",
              "      <th></th>\n",
              "      <th>country</th>\n",
              "      <th>region</th>\n",
              "      <th>happiness rank</th>\n",
              "      <th>happiness score</th>\n",
              "      <th>standard error</th>\n",
              "      <th>economy (GDP per Capita)</th>\n",
              "      <th>family</th>\n",
              "      <th>health (Life Expectancy)</th>\n",
              "      <th>freedom</th>\n",
              "      <th>trust (Government Corruption)</th>\n",
              "      <th>generosity</th>\n",
              "      <th>dystopia residual</th>\n",
              "    </tr>\n",
              "  </thead>\n",
              "  <tbody>\n",
              "    <tr>\n",
              "      <th>0</th>\n",
              "      <td>Switzerland</td>\n",
              "      <td>Western Europe</td>\n",
              "      <td>1</td>\n",
              "      <td>7.587</td>\n",
              "      <td>0.03411</td>\n",
              "      <td>1.39651</td>\n",
              "      <td>1.34951</td>\n",
              "      <td>0.94143</td>\n",
              "      <td>0.66557</td>\n",
              "      <td>0.41978</td>\n",
              "      <td>0.29678</td>\n",
              "      <td>2.51738</td>\n",
              "    </tr>\n",
              "    <tr>\n",
              "      <th>1</th>\n",
              "      <td>Iceland</td>\n",
              "      <td>Western Europe</td>\n",
              "      <td>2</td>\n",
              "      <td>7.561</td>\n",
              "      <td>0.04884</td>\n",
              "      <td>1.30232</td>\n",
              "      <td>1.40223</td>\n",
              "      <td>0.94784</td>\n",
              "      <td>0.62877</td>\n",
              "      <td>0.14145</td>\n",
              "      <td>0.43630</td>\n",
              "      <td>2.70201</td>\n",
              "    </tr>\n",
              "    <tr>\n",
              "      <th>2</th>\n",
              "      <td>Denmark</td>\n",
              "      <td>Western Europe</td>\n",
              "      <td>3</td>\n",
              "      <td>7.527</td>\n",
              "      <td>0.03328</td>\n",
              "      <td>1.32548</td>\n",
              "      <td>1.36058</td>\n",
              "      <td>0.87464</td>\n",
              "      <td>0.64938</td>\n",
              "      <td>0.48357</td>\n",
              "      <td>0.34139</td>\n",
              "      <td>2.49204</td>\n",
              "    </tr>\n",
              "    <tr>\n",
              "      <th>3</th>\n",
              "      <td>Norway</td>\n",
              "      <td>Western Europe</td>\n",
              "      <td>4</td>\n",
              "      <td>7.522</td>\n",
              "      <td>0.03880</td>\n",
              "      <td>1.45900</td>\n",
              "      <td>1.33095</td>\n",
              "      <td>0.88521</td>\n",
              "      <td>0.66973</td>\n",
              "      <td>0.36503</td>\n",
              "      <td>0.34699</td>\n",
              "      <td>2.46531</td>\n",
              "    </tr>\n",
              "    <tr>\n",
              "      <th>4</th>\n",
              "      <td>Canada</td>\n",
              "      <td>North America</td>\n",
              "      <td>5</td>\n",
              "      <td>7.427</td>\n",
              "      <td>0.03553</td>\n",
              "      <td>1.32629</td>\n",
              "      <td>1.32261</td>\n",
              "      <td>0.90563</td>\n",
              "      <td>0.63297</td>\n",
              "      <td>0.32957</td>\n",
              "      <td>0.45811</td>\n",
              "      <td>2.45176</td>\n",
              "    </tr>\n",
              "    <tr>\n",
              "      <th>...</th>\n",
              "      <td>...</td>\n",
              "      <td>...</td>\n",
              "      <td>...</td>\n",
              "      <td>...</td>\n",
              "      <td>...</td>\n",
              "      <td>...</td>\n",
              "      <td>...</td>\n",
              "      <td>...</td>\n",
              "      <td>...</td>\n",
              "      <td>...</td>\n",
              "      <td>...</td>\n",
              "      <td>...</td>\n",
              "    </tr>\n",
              "    <tr>\n",
              "      <th>159</th>\n",
              "      <td>Rwanda</td>\n",
              "      <td>Sub-Saharan Africa</td>\n",
              "      <td>154</td>\n",
              "      <td>3.465</td>\n",
              "      <td>0.03464</td>\n",
              "      <td>0.22208</td>\n",
              "      <td>0.77370</td>\n",
              "      <td>0.42864</td>\n",
              "      <td>0.59201</td>\n",
              "      <td>0.55191</td>\n",
              "      <td>0.22628</td>\n",
              "      <td>0.67042</td>\n",
              "    </tr>\n",
              "    <tr>\n",
              "      <th>160</th>\n",
              "      <td>Benin</td>\n",
              "      <td>Sub-Saharan Africa</td>\n",
              "      <td>155</td>\n",
              "      <td>3.340</td>\n",
              "      <td>NaN</td>\n",
              "      <td>0.28665</td>\n",
              "      <td>0.35386</td>\n",
              "      <td>0.31910</td>\n",
              "      <td>0.48450</td>\n",
              "      <td>0.08010</td>\n",
              "      <td>0.18260</td>\n",
              "      <td>NaN</td>\n",
              "    </tr>\n",
              "    <tr>\n",
              "      <th>161</th>\n",
              "      <td>Syria</td>\n",
              "      <td>Middle East and Northern Africa</td>\n",
              "      <td>156</td>\n",
              "      <td>3.006</td>\n",
              "      <td>0.05015</td>\n",
              "      <td>0.66320</td>\n",
              "      <td>0.47489</td>\n",
              "      <td>0.72193</td>\n",
              "      <td>0.15684</td>\n",
              "      <td>0.18906</td>\n",
              "      <td>0.47179</td>\n",
              "      <td>0.32858</td>\n",
              "    </tr>\n",
              "    <tr>\n",
              "      <th>162</th>\n",
              "      <td>Burundi</td>\n",
              "      <td>Sub-Saharan Africa</td>\n",
              "      <td>157</td>\n",
              "      <td>2.905</td>\n",
              "      <td>0.08658</td>\n",
              "      <td>0.01530</td>\n",
              "      <td>0.41587</td>\n",
              "      <td>0.22396</td>\n",
              "      <td>0.11850</td>\n",
              "      <td>0.10062</td>\n",
              "      <td>0.19727</td>\n",
              "      <td>NaN</td>\n",
              "    </tr>\n",
              "    <tr>\n",
              "      <th>163</th>\n",
              "      <td>Togo</td>\n",
              "      <td>Sub-Saharan Africa</td>\n",
              "      <td>158</td>\n",
              "      <td>2.839</td>\n",
              "      <td>0.06727</td>\n",
              "      <td>0.20868</td>\n",
              "      <td>0.13995</td>\n",
              "      <td>0.28443</td>\n",
              "      <td>0.36453</td>\n",
              "      <td>0.10731</td>\n",
              "      <td>0.16681</td>\n",
              "      <td>NaN</td>\n",
              "    </tr>\n",
              "  </tbody>\n",
              "</table>\n",
              "<p>164 rows × 12 columns</p>\n",
              "</div>"
            ],
            "text/plain": [
              "         country                           region  happiness rank  \\\n",
              "0    Switzerland                   Western Europe               1   \n",
              "1        Iceland                   Western Europe               2   \n",
              "2        Denmark                   Western Europe               3   \n",
              "3         Norway                   Western Europe               4   \n",
              "4         Canada                    North America               5   \n",
              "..           ...                              ...             ...   \n",
              "159       Rwanda               Sub-Saharan Africa             154   \n",
              "160        Benin               Sub-Saharan Africa             155   \n",
              "161        Syria  Middle East and Northern Africa             156   \n",
              "162      Burundi               Sub-Saharan Africa             157   \n",
              "163         Togo               Sub-Saharan Africa             158   \n",
              "\n",
              "     happiness score  standard error  economy (GDP per Capita)   family  \\\n",
              "0              7.587         0.03411                   1.39651  1.34951   \n",
              "1              7.561         0.04884                   1.30232  1.40223   \n",
              "2              7.527         0.03328                   1.32548  1.36058   \n",
              "3              7.522         0.03880                   1.45900  1.33095   \n",
              "4              7.427         0.03553                   1.32629  1.32261   \n",
              "..               ...             ...                       ...      ...   \n",
              "159            3.465         0.03464                   0.22208  0.77370   \n",
              "160            3.340             NaN                   0.28665  0.35386   \n",
              "161            3.006         0.05015                   0.66320  0.47489   \n",
              "162            2.905         0.08658                   0.01530  0.41587   \n",
              "163            2.839         0.06727                   0.20868  0.13995   \n",
              "\n",
              "     health (Life Expectancy)  freedom  trust (Government Corruption)  \\\n",
              "0                     0.94143  0.66557                        0.41978   \n",
              "1                     0.94784  0.62877                        0.14145   \n",
              "2                     0.87464  0.64938                        0.48357   \n",
              "3                     0.88521  0.66973                        0.36503   \n",
              "4                     0.90563  0.63297                        0.32957   \n",
              "..                        ...      ...                            ...   \n",
              "159                   0.42864  0.59201                        0.55191   \n",
              "160                   0.31910  0.48450                        0.08010   \n",
              "161                   0.72193  0.15684                        0.18906   \n",
              "162                   0.22396  0.11850                        0.10062   \n",
              "163                   0.28443  0.36453                        0.10731   \n",
              "\n",
              "     generosity  dystopia residual  \n",
              "0       0.29678            2.51738  \n",
              "1       0.43630            2.70201  \n",
              "2       0.34139            2.49204  \n",
              "3       0.34699            2.46531  \n",
              "4       0.45811            2.45176  \n",
              "..          ...                ...  \n",
              "159     0.22628            0.67042  \n",
              "160     0.18260                NaN  \n",
              "161     0.47179            0.32858  \n",
              "162     0.19727                NaN  \n",
              "163     0.16681                NaN  \n",
              "\n",
              "[164 rows x 12 columns]"
            ]
          },
          "execution_count": 3,
          "metadata": {},
          "output_type": "execute_result"
        }
      ],
      "source": [
        "df"
      ]
    },
    {
      "attachments": {},
      "cell_type": "markdown",
      "metadata": {
        "id": "qTLFVgMQ4e3K"
      },
      "source": [
        "Exercicio B"
      ]
    },
    {
      "cell_type": "code",
      "execution_count": 4,
      "metadata": {
        "id": "fiUdQwAW4e3K",
        "outputId": "eb0ca43d-5b40-4ca9-a984-fd42de47eba9"
      },
      "outputs": [
        {
          "data": {
            "text/html": [
              "<div>\n",
              "<style scoped>\n",
              "    .dataframe tbody tr th:only-of-type {\n",
              "        vertical-align: middle;\n",
              "    }\n",
              "\n",
              "    .dataframe tbody tr th {\n",
              "        vertical-align: top;\n",
              "    }\n",
              "\n",
              "    .dataframe thead th {\n",
              "        text-align: right;\n",
              "    }\n",
              "</style>\n",
              "<table border=\"1\" class=\"dataframe\">\n",
              "  <thead>\n",
              "    <tr style=\"text-align: right;\">\n",
              "      <th></th>\n",
              "      <th>country</th>\n",
              "      <th>region</th>\n",
              "      <th>happiness rank</th>\n",
              "      <th>happiness score</th>\n",
              "      <th>standard error</th>\n",
              "      <th>economy (GDP per Capita)</th>\n",
              "      <th>family</th>\n",
              "      <th>health (Life Expectancy)</th>\n",
              "      <th>freedom</th>\n",
              "      <th>trust (Government Corruption)</th>\n",
              "      <th>generosity</th>\n",
              "      <th>dystopia residual</th>\n",
              "    </tr>\n",
              "  </thead>\n",
              "  <tbody>\n",
              "    <tr>\n",
              "      <th>0</th>\n",
              "      <td>Switzerland</td>\n",
              "      <td>Western Europe</td>\n",
              "      <td>1</td>\n",
              "      <td>7.587</td>\n",
              "      <td>0.03411</td>\n",
              "      <td>1.39651</td>\n",
              "      <td>1.34951</td>\n",
              "      <td>0.94143</td>\n",
              "      <td>0.66557</td>\n",
              "      <td>0.41978</td>\n",
              "      <td>0.29678</td>\n",
              "      <td>2.51738</td>\n",
              "    </tr>\n",
              "    <tr>\n",
              "      <th>1</th>\n",
              "      <td>Iceland</td>\n",
              "      <td>Western Europe</td>\n",
              "      <td>2</td>\n",
              "      <td>7.561</td>\n",
              "      <td>0.04884</td>\n",
              "      <td>1.30232</td>\n",
              "      <td>1.40223</td>\n",
              "      <td>0.94784</td>\n",
              "      <td>0.62877</td>\n",
              "      <td>0.14145</td>\n",
              "      <td>0.43630</td>\n",
              "      <td>2.70201</td>\n",
              "    </tr>\n",
              "    <tr>\n",
              "      <th>2</th>\n",
              "      <td>Denmark</td>\n",
              "      <td>Western Europe</td>\n",
              "      <td>3</td>\n",
              "      <td>7.527</td>\n",
              "      <td>0.03328</td>\n",
              "      <td>1.32548</td>\n",
              "      <td>1.36058</td>\n",
              "      <td>0.87464</td>\n",
              "      <td>0.64938</td>\n",
              "      <td>0.48357</td>\n",
              "      <td>0.34139</td>\n",
              "      <td>2.49204</td>\n",
              "    </tr>\n",
              "    <tr>\n",
              "      <th>3</th>\n",
              "      <td>Norway</td>\n",
              "      <td>Western Europe</td>\n",
              "      <td>4</td>\n",
              "      <td>7.522</td>\n",
              "      <td>0.03880</td>\n",
              "      <td>1.45900</td>\n",
              "      <td>1.33095</td>\n",
              "      <td>0.88521</td>\n",
              "      <td>0.66973</td>\n",
              "      <td>0.36503</td>\n",
              "      <td>0.34699</td>\n",
              "      <td>2.46531</td>\n",
              "    </tr>\n",
              "    <tr>\n",
              "      <th>4</th>\n",
              "      <td>Canada</td>\n",
              "      <td>North America</td>\n",
              "      <td>5</td>\n",
              "      <td>7.427</td>\n",
              "      <td>0.03553</td>\n",
              "      <td>1.32629</td>\n",
              "      <td>1.32261</td>\n",
              "      <td>0.90563</td>\n",
              "      <td>0.63297</td>\n",
              "      <td>0.32957</td>\n",
              "      <td>0.45811</td>\n",
              "      <td>2.45176</td>\n",
              "    </tr>\n",
              "  </tbody>\n",
              "</table>\n",
              "</div>"
            ],
            "text/plain": [
              "       country          region  happiness rank  happiness score  \\\n",
              "0  Switzerland  Western Europe               1            7.587   \n",
              "1      Iceland  Western Europe               2            7.561   \n",
              "2      Denmark  Western Europe               3            7.527   \n",
              "3       Norway  Western Europe               4            7.522   \n",
              "4       Canada   North America               5            7.427   \n",
              "\n",
              "   standard error  economy (GDP per Capita)   family  \\\n",
              "0         0.03411                   1.39651  1.34951   \n",
              "1         0.04884                   1.30232  1.40223   \n",
              "2         0.03328                   1.32548  1.36058   \n",
              "3         0.03880                   1.45900  1.33095   \n",
              "4         0.03553                   1.32629  1.32261   \n",
              "\n",
              "   health (Life Expectancy)  freedom  trust (Government Corruption)  \\\n",
              "0                   0.94143  0.66557                        0.41978   \n",
              "1                   0.94784  0.62877                        0.14145   \n",
              "2                   0.87464  0.64938                        0.48357   \n",
              "3                   0.88521  0.66973                        0.36503   \n",
              "4                   0.90563  0.63297                        0.32957   \n",
              "\n",
              "   generosity  dystopia residual  \n",
              "0     0.29678            2.51738  \n",
              "1     0.43630            2.70201  \n",
              "2     0.34139            2.49204  \n",
              "3     0.34699            2.46531  \n",
              "4     0.45811            2.45176  "
            ]
          },
          "execution_count": 4,
          "metadata": {},
          "output_type": "execute_result"
        }
      ],
      "source": [
        "df.head()"
      ]
    },
    {
      "cell_type": "code",
      "execution_count": 5,
      "metadata": {
        "id": "YbrTjuuy4e3K",
        "outputId": "ef46a50e-e489-4712-ff56-6bebb6bce2a4"
      },
      "outputs": [
        {
          "data": {
            "text/html": [
              "<div>\n",
              "<style scoped>\n",
              "    .dataframe tbody tr th:only-of-type {\n",
              "        vertical-align: middle;\n",
              "    }\n",
              "\n",
              "    .dataframe tbody tr th {\n",
              "        vertical-align: top;\n",
              "    }\n",
              "\n",
              "    .dataframe thead th {\n",
              "        text-align: right;\n",
              "    }\n",
              "</style>\n",
              "<table border=\"1\" class=\"dataframe\">\n",
              "  <thead>\n",
              "    <tr style=\"text-align: right;\">\n",
              "      <th></th>\n",
              "      <th>country</th>\n",
              "      <th>region</th>\n",
              "      <th>happiness rank</th>\n",
              "      <th>happiness score</th>\n",
              "      <th>standard error</th>\n",
              "      <th>economy (GDP per Capita)</th>\n",
              "      <th>family</th>\n",
              "      <th>health (Life Expectancy)</th>\n",
              "      <th>freedom</th>\n",
              "      <th>trust (Government Corruption)</th>\n",
              "      <th>generosity</th>\n",
              "      <th>dystopia residual</th>\n",
              "    </tr>\n",
              "  </thead>\n",
              "  <tbody>\n",
              "    <tr>\n",
              "      <th>159</th>\n",
              "      <td>Rwanda</td>\n",
              "      <td>Sub-Saharan Africa</td>\n",
              "      <td>154</td>\n",
              "      <td>3.465</td>\n",
              "      <td>0.03464</td>\n",
              "      <td>0.22208</td>\n",
              "      <td>0.77370</td>\n",
              "      <td>0.42864</td>\n",
              "      <td>0.59201</td>\n",
              "      <td>0.55191</td>\n",
              "      <td>0.22628</td>\n",
              "      <td>0.67042</td>\n",
              "    </tr>\n",
              "    <tr>\n",
              "      <th>160</th>\n",
              "      <td>Benin</td>\n",
              "      <td>Sub-Saharan Africa</td>\n",
              "      <td>155</td>\n",
              "      <td>3.340</td>\n",
              "      <td>NaN</td>\n",
              "      <td>0.28665</td>\n",
              "      <td>0.35386</td>\n",
              "      <td>0.31910</td>\n",
              "      <td>0.48450</td>\n",
              "      <td>0.08010</td>\n",
              "      <td>0.18260</td>\n",
              "      <td>NaN</td>\n",
              "    </tr>\n",
              "    <tr>\n",
              "      <th>161</th>\n",
              "      <td>Syria</td>\n",
              "      <td>Middle East and Northern Africa</td>\n",
              "      <td>156</td>\n",
              "      <td>3.006</td>\n",
              "      <td>0.05015</td>\n",
              "      <td>0.66320</td>\n",
              "      <td>0.47489</td>\n",
              "      <td>0.72193</td>\n",
              "      <td>0.15684</td>\n",
              "      <td>0.18906</td>\n",
              "      <td>0.47179</td>\n",
              "      <td>0.32858</td>\n",
              "    </tr>\n",
              "    <tr>\n",
              "      <th>162</th>\n",
              "      <td>Burundi</td>\n",
              "      <td>Sub-Saharan Africa</td>\n",
              "      <td>157</td>\n",
              "      <td>2.905</td>\n",
              "      <td>0.08658</td>\n",
              "      <td>0.01530</td>\n",
              "      <td>0.41587</td>\n",
              "      <td>0.22396</td>\n",
              "      <td>0.11850</td>\n",
              "      <td>0.10062</td>\n",
              "      <td>0.19727</td>\n",
              "      <td>NaN</td>\n",
              "    </tr>\n",
              "    <tr>\n",
              "      <th>163</th>\n",
              "      <td>Togo</td>\n",
              "      <td>Sub-Saharan Africa</td>\n",
              "      <td>158</td>\n",
              "      <td>2.839</td>\n",
              "      <td>0.06727</td>\n",
              "      <td>0.20868</td>\n",
              "      <td>0.13995</td>\n",
              "      <td>0.28443</td>\n",
              "      <td>0.36453</td>\n",
              "      <td>0.10731</td>\n",
              "      <td>0.16681</td>\n",
              "      <td>NaN</td>\n",
              "    </tr>\n",
              "  </tbody>\n",
              "</table>\n",
              "</div>"
            ],
            "text/plain": [
              "     country                           region  happiness rank  \\\n",
              "159   Rwanda               Sub-Saharan Africa             154   \n",
              "160    Benin               Sub-Saharan Africa             155   \n",
              "161    Syria  Middle East and Northern Africa             156   \n",
              "162  Burundi               Sub-Saharan Africa             157   \n",
              "163     Togo               Sub-Saharan Africa             158   \n",
              "\n",
              "     happiness score  standard error  economy (GDP per Capita)   family  \\\n",
              "159            3.465         0.03464                   0.22208  0.77370   \n",
              "160            3.340             NaN                   0.28665  0.35386   \n",
              "161            3.006         0.05015                   0.66320  0.47489   \n",
              "162            2.905         0.08658                   0.01530  0.41587   \n",
              "163            2.839         0.06727                   0.20868  0.13995   \n",
              "\n",
              "     health (Life Expectancy)  freedom  trust (Government Corruption)  \\\n",
              "159                   0.42864  0.59201                        0.55191   \n",
              "160                   0.31910  0.48450                        0.08010   \n",
              "161                   0.72193  0.15684                        0.18906   \n",
              "162                   0.22396  0.11850                        0.10062   \n",
              "163                   0.28443  0.36453                        0.10731   \n",
              "\n",
              "     generosity  dystopia residual  \n",
              "159     0.22628            0.67042  \n",
              "160     0.18260                NaN  \n",
              "161     0.47179            0.32858  \n",
              "162     0.19727                NaN  \n",
              "163     0.16681                NaN  "
            ]
          },
          "execution_count": 5,
          "metadata": {},
          "output_type": "execute_result"
        }
      ],
      "source": [
        "df.tail()"
      ]
    },
    {
      "attachments": {},
      "cell_type": "markdown",
      "metadata": {
        "id": "_YZf5G2H4e3K"
      },
      "source": [
        "Exercicio C"
      ]
    },
    {
      "cell_type": "code",
      "execution_count": 6,
      "metadata": {
        "id": "z6rLOKZz4e3K",
        "outputId": "c9020530-fe5c-4edc-ac11-d28f0b7df913"
      },
      "outputs": [
        {
          "name": "stdout",
          "output_type": "stream",
          "text": [
            "<class 'pandas.core.frame.DataFrame'>\n",
            "RangeIndex: 164 entries, 0 to 163\n",
            "Data columns (total 12 columns):\n",
            " #   Column                         Non-Null Count  Dtype  \n",
            "---  ------                         --------------  -----  \n",
            " 0   country                        164 non-null    object \n",
            " 1   region                         164 non-null    object \n",
            " 2   happiness rank                 164 non-null    int64  \n",
            " 3   happiness score                156 non-null    float64\n",
            " 4   standard error                 163 non-null    float64\n",
            " 5   economy (GDP per Capita)       164 non-null    float64\n",
            " 6   family                         164 non-null    float64\n",
            " 7   health (Life Expectancy)       164 non-null    float64\n",
            " 8   freedom                        164 non-null    float64\n",
            " 9   trust (Government Corruption)  164 non-null    float64\n",
            " 10  generosity                     164 non-null    float64\n",
            " 11  dystopia residual              150 non-null    float64\n",
            "dtypes: float64(9), int64(1), object(2)\n",
            "memory usage: 15.5+ KB\n"
          ]
        }
      ],
      "source": [
        "df.info()"
      ]
    },
    {
      "cell_type": "code",
      "execution_count": 7,
      "metadata": {
        "colab": {
          "base_uri": "https://localhost:8080/",
          "height": 182
        },
        "id": "B-ldaOKg4e3K",
        "outputId": "bccd2ba4-4512-42e4-a945-c371a6881bbe"
      },
      "outputs": [
        {
          "data": {
            "text/html": [
              "<div>\n",
              "<style scoped>\n",
              "    .dataframe tbody tr th:only-of-type {\n",
              "        vertical-align: middle;\n",
              "    }\n",
              "\n",
              "    .dataframe tbody tr th {\n",
              "        vertical-align: top;\n",
              "    }\n",
              "\n",
              "    .dataframe thead th {\n",
              "        text-align: right;\n",
              "    }\n",
              "</style>\n",
              "<table border=\"1\" class=\"dataframe\">\n",
              "  <thead>\n",
              "    <tr style=\"text-align: right;\">\n",
              "      <th></th>\n",
              "      <th>country</th>\n",
              "      <th>region</th>\n",
              "      <th>happiness rank</th>\n",
              "      <th>score_felicidade</th>\n",
              "      <th>standard error</th>\n",
              "      <th>economy (GDP per Capita)</th>\n",
              "      <th>family</th>\n",
              "      <th>health (Life Expectancy)</th>\n",
              "      <th>freedom</th>\n",
              "      <th>trust (Government Corruption)</th>\n",
              "      <th>generosity</th>\n",
              "      <th>dystopia residual</th>\n",
              "    </tr>\n",
              "  </thead>\n",
              "  <tbody>\n",
              "    <tr>\n",
              "      <th>0</th>\n",
              "      <td>Switzerland</td>\n",
              "      <td>Western Europe</td>\n",
              "      <td>1</td>\n",
              "      <td>7.587</td>\n",
              "      <td>0.03411</td>\n",
              "      <td>1.39651</td>\n",
              "      <td>1.34951</td>\n",
              "      <td>0.94143</td>\n",
              "      <td>0.66557</td>\n",
              "      <td>0.41978</td>\n",
              "      <td>0.29678</td>\n",
              "      <td>2.51738</td>\n",
              "    </tr>\n",
              "    <tr>\n",
              "      <th>1</th>\n",
              "      <td>Iceland</td>\n",
              "      <td>Western Europe</td>\n",
              "      <td>2</td>\n",
              "      <td>7.561</td>\n",
              "      <td>0.04884</td>\n",
              "      <td>1.30232</td>\n",
              "      <td>1.40223</td>\n",
              "      <td>0.94784</td>\n",
              "      <td>0.62877</td>\n",
              "      <td>0.14145</td>\n",
              "      <td>0.43630</td>\n",
              "      <td>2.70201</td>\n",
              "    </tr>\n",
              "    <tr>\n",
              "      <th>2</th>\n",
              "      <td>Denmark</td>\n",
              "      <td>Western Europe</td>\n",
              "      <td>3</td>\n",
              "      <td>7.527</td>\n",
              "      <td>0.03328</td>\n",
              "      <td>1.32548</td>\n",
              "      <td>1.36058</td>\n",
              "      <td>0.87464</td>\n",
              "      <td>0.64938</td>\n",
              "      <td>0.48357</td>\n",
              "      <td>0.34139</td>\n",
              "      <td>2.49204</td>\n",
              "    </tr>\n",
              "    <tr>\n",
              "      <th>3</th>\n",
              "      <td>Norway</td>\n",
              "      <td>Western Europe</td>\n",
              "      <td>4</td>\n",
              "      <td>7.522</td>\n",
              "      <td>0.03880</td>\n",
              "      <td>1.45900</td>\n",
              "      <td>1.33095</td>\n",
              "      <td>0.88521</td>\n",
              "      <td>0.66973</td>\n",
              "      <td>0.36503</td>\n",
              "      <td>0.34699</td>\n",
              "      <td>2.46531</td>\n",
              "    </tr>\n",
              "    <tr>\n",
              "      <th>4</th>\n",
              "      <td>Canada</td>\n",
              "      <td>North America</td>\n",
              "      <td>5</td>\n",
              "      <td>7.427</td>\n",
              "      <td>0.03553</td>\n",
              "      <td>1.32629</td>\n",
              "      <td>1.32261</td>\n",
              "      <td>0.90563</td>\n",
              "      <td>0.63297</td>\n",
              "      <td>0.32957</td>\n",
              "      <td>0.45811</td>\n",
              "      <td>2.45176</td>\n",
              "    </tr>\n",
              "    <tr>\n",
              "      <th>...</th>\n",
              "      <td>...</td>\n",
              "      <td>...</td>\n",
              "      <td>...</td>\n",
              "      <td>...</td>\n",
              "      <td>...</td>\n",
              "      <td>...</td>\n",
              "      <td>...</td>\n",
              "      <td>...</td>\n",
              "      <td>...</td>\n",
              "      <td>...</td>\n",
              "      <td>...</td>\n",
              "      <td>...</td>\n",
              "    </tr>\n",
              "    <tr>\n",
              "      <th>159</th>\n",
              "      <td>Rwanda</td>\n",
              "      <td>Sub-Saharan Africa</td>\n",
              "      <td>154</td>\n",
              "      <td>3.465</td>\n",
              "      <td>0.03464</td>\n",
              "      <td>0.22208</td>\n",
              "      <td>0.77370</td>\n",
              "      <td>0.42864</td>\n",
              "      <td>0.59201</td>\n",
              "      <td>0.55191</td>\n",
              "      <td>0.22628</td>\n",
              "      <td>0.67042</td>\n",
              "    </tr>\n",
              "    <tr>\n",
              "      <th>160</th>\n",
              "      <td>Benin</td>\n",
              "      <td>Sub-Saharan Africa</td>\n",
              "      <td>155</td>\n",
              "      <td>3.340</td>\n",
              "      <td>NaN</td>\n",
              "      <td>0.28665</td>\n",
              "      <td>0.35386</td>\n",
              "      <td>0.31910</td>\n",
              "      <td>0.48450</td>\n",
              "      <td>0.08010</td>\n",
              "      <td>0.18260</td>\n",
              "      <td>NaN</td>\n",
              "    </tr>\n",
              "    <tr>\n",
              "      <th>161</th>\n",
              "      <td>Syria</td>\n",
              "      <td>Middle East and Northern Africa</td>\n",
              "      <td>156</td>\n",
              "      <td>3.006</td>\n",
              "      <td>0.05015</td>\n",
              "      <td>0.66320</td>\n",
              "      <td>0.47489</td>\n",
              "      <td>0.72193</td>\n",
              "      <td>0.15684</td>\n",
              "      <td>0.18906</td>\n",
              "      <td>0.47179</td>\n",
              "      <td>0.32858</td>\n",
              "    </tr>\n",
              "    <tr>\n",
              "      <th>162</th>\n",
              "      <td>Burundi</td>\n",
              "      <td>Sub-Saharan Africa</td>\n",
              "      <td>157</td>\n",
              "      <td>2.905</td>\n",
              "      <td>0.08658</td>\n",
              "      <td>0.01530</td>\n",
              "      <td>0.41587</td>\n",
              "      <td>0.22396</td>\n",
              "      <td>0.11850</td>\n",
              "      <td>0.10062</td>\n",
              "      <td>0.19727</td>\n",
              "      <td>NaN</td>\n",
              "    </tr>\n",
              "    <tr>\n",
              "      <th>163</th>\n",
              "      <td>Togo</td>\n",
              "      <td>Sub-Saharan Africa</td>\n",
              "      <td>158</td>\n",
              "      <td>2.839</td>\n",
              "      <td>0.06727</td>\n",
              "      <td>0.20868</td>\n",
              "      <td>0.13995</td>\n",
              "      <td>0.28443</td>\n",
              "      <td>0.36453</td>\n",
              "      <td>0.10731</td>\n",
              "      <td>0.16681</td>\n",
              "      <td>NaN</td>\n",
              "    </tr>\n",
              "  </tbody>\n",
              "</table>\n",
              "<p>164 rows × 12 columns</p>\n",
              "</div>"
            ],
            "text/plain": [
              "         country                           region  happiness rank  \\\n",
              "0    Switzerland                   Western Europe               1   \n",
              "1        Iceland                   Western Europe               2   \n",
              "2        Denmark                   Western Europe               3   \n",
              "3         Norway                   Western Europe               4   \n",
              "4         Canada                    North America               5   \n",
              "..           ...                              ...             ...   \n",
              "159       Rwanda               Sub-Saharan Africa             154   \n",
              "160        Benin               Sub-Saharan Africa             155   \n",
              "161        Syria  Middle East and Northern Africa             156   \n",
              "162      Burundi               Sub-Saharan Africa             157   \n",
              "163         Togo               Sub-Saharan Africa             158   \n",
              "\n",
              "     score_felicidade  standard error  economy (GDP per Capita)   family  \\\n",
              "0               7.587         0.03411                   1.39651  1.34951   \n",
              "1               7.561         0.04884                   1.30232  1.40223   \n",
              "2               7.527         0.03328                   1.32548  1.36058   \n",
              "3               7.522         0.03880                   1.45900  1.33095   \n",
              "4               7.427         0.03553                   1.32629  1.32261   \n",
              "..                ...             ...                       ...      ...   \n",
              "159             3.465         0.03464                   0.22208  0.77370   \n",
              "160             3.340             NaN                   0.28665  0.35386   \n",
              "161             3.006         0.05015                   0.66320  0.47489   \n",
              "162             2.905         0.08658                   0.01530  0.41587   \n",
              "163             2.839         0.06727                   0.20868  0.13995   \n",
              "\n",
              "     health (Life Expectancy)  freedom  trust (Government Corruption)  \\\n",
              "0                     0.94143  0.66557                        0.41978   \n",
              "1                     0.94784  0.62877                        0.14145   \n",
              "2                     0.87464  0.64938                        0.48357   \n",
              "3                     0.88521  0.66973                        0.36503   \n",
              "4                     0.90563  0.63297                        0.32957   \n",
              "..                        ...      ...                            ...   \n",
              "159                   0.42864  0.59201                        0.55191   \n",
              "160                   0.31910  0.48450                        0.08010   \n",
              "161                   0.72193  0.15684                        0.18906   \n",
              "162                   0.22396  0.11850                        0.10062   \n",
              "163                   0.28443  0.36453                        0.10731   \n",
              "\n",
              "     generosity  dystopia residual  \n",
              "0       0.29678            2.51738  \n",
              "1       0.43630            2.70201  \n",
              "2       0.34139            2.49204  \n",
              "3       0.34699            2.46531  \n",
              "4       0.45811            2.45176  \n",
              "..          ...                ...  \n",
              "159     0.22628            0.67042  \n",
              "160     0.18260                NaN  \n",
              "161     0.47179            0.32858  \n",
              "162     0.19727                NaN  \n",
              "163     0.16681                NaN  \n",
              "\n",
              "[164 rows x 12 columns]"
            ]
          },
          "execution_count": 7,
          "metadata": {},
          "output_type": "execute_result"
        }
      ],
      "source": [
        "df.rename({'happiness_rank':'rank_felicidade','happiness score':'score_felicidade'}, axis='columns')"
      ]
    },
    {
      "attachments": {
        "image.png": {
          "image/png": "[encoded data removed]"
        }
      },
      "cell_type": "markdown",
      "metadata": {},
      "source": [
        "## Exercicio 2\n",
        "Manipulando dados com Pandas\n",
        "- a) Crie um programa em pandas para ler o arquivo em Excel imobiliária.xlsx\n",
        "- b) e coloque em um dataframe.\n",
        "- c) Visualize o cabeçalho dos dados;\n",
        "- d) Visualize as últimas linhas;\n",
        "- e) Escreva um programa para renomear o cabeçalho da tabela com o seguintes nomes:\n",
        "\n",
        "![image.png](attachment:image.png)"
      ]
    },
    {
      "cell_type": "code",
      "execution_count": 8,
      "metadata": {},
      "outputs": [
        {
          "name": "stdout",
          "output_type": "stream",
          "text": [
            "C:\\Users\\FIC\\Documents\\Rafael-Dias-Python\\arquivos\\Imobiliaria.xlsx\n"
          ]
        }
      ],
      "source": [
        "caminho = 'C:\\\\Users\\\\FIC\\\\Documents\\\\Rafael-Dias-Python\\\\arquivos\\\\'\n",
        "arquivo = 'Imobiliaria.xlsx'\n",
        "print(caminho + arquivo)"
      ]
    },
    {
      "cell_type": "code",
      "execution_count": 9,
      "metadata": {},
      "outputs": [
        {
          "ename": "ValueError",
          "evalue": "Worksheet named 'Base' not found",
          "output_type": "error",
          "traceback": [
            "\u001b[1;31m---------------------------------------------------------------------------\u001b[0m",
            "\u001b[1;31mValueError\u001b[0m                                Traceback (most recent call last)",
            "Cell \u001b[1;32mIn[9], line 1\u001b[0m\n\u001b[1;32m----> 1\u001b[0m df \u001b[39m=\u001b[39m pd\u001b[39m.\u001b[39;49mread_excel(caminho \u001b[39m+\u001b[39;49m arquivo, sheet_name\u001b[39m=\u001b[39;49m\u001b[39m'\u001b[39;49m\u001b[39mBase\u001b[39;49m\u001b[39m'\u001b[39;49m)\n",
            "File \u001b[1;32mc:\\Python311\\Lib\\site-packages\\pandas\\io\\excel\\_base.py:517\u001b[0m, in \u001b[0;36mread_excel\u001b[1;34m(io, sheet_name, header, names, index_col, usecols, dtype, engine, converters, true_values, false_values, skiprows, nrows, na_values, keep_default_na, na_filter, verbose, parse_dates, date_parser, date_format, thousands, decimal, comment, skipfooter, storage_options, dtype_backend, engine_kwargs)\u001b[0m\n\u001b[0;32m    511\u001b[0m     \u001b[39mraise\u001b[39;00m \u001b[39mValueError\u001b[39;00m(\n\u001b[0;32m    512\u001b[0m         \u001b[39m\"\u001b[39m\u001b[39mEngine should not be specified when passing \u001b[39m\u001b[39m\"\u001b[39m\n\u001b[0;32m    513\u001b[0m         \u001b[39m\"\u001b[39m\u001b[39man ExcelFile - ExcelFile already has the engine set\u001b[39m\u001b[39m\"\u001b[39m\n\u001b[0;32m    514\u001b[0m     )\n\u001b[0;32m    516\u001b[0m \u001b[39mtry\u001b[39;00m:\n\u001b[1;32m--> 517\u001b[0m     data \u001b[39m=\u001b[39m io\u001b[39m.\u001b[39;49mparse(\n\u001b[0;32m    518\u001b[0m         sheet_name\u001b[39m=\u001b[39;49msheet_name,\n\u001b[0;32m    519\u001b[0m         header\u001b[39m=\u001b[39;49mheader,\n\u001b[0;32m    520\u001b[0m         names\u001b[39m=\u001b[39;49mnames,\n\u001b[0;32m    521\u001b[0m         index_col\u001b[39m=\u001b[39;49mindex_col,\n\u001b[0;32m    522\u001b[0m         usecols\u001b[39m=\u001b[39;49musecols,\n\u001b[0;32m    523\u001b[0m         dtype\u001b[39m=\u001b[39;49mdtype,\n\u001b[0;32m    524\u001b[0m         converters\u001b[39m=\u001b[39;49mconverters,\n\u001b[0;32m    525\u001b[0m         true_values\u001b[39m=\u001b[39;49mtrue_values,\n\u001b[0;32m    526\u001b[0m         false_values\u001b[39m=\u001b[39;49mfalse_values,\n\u001b[0;32m    527\u001b[0m         skiprows\u001b[39m=\u001b[39;49mskiprows,\n\u001b[0;32m    528\u001b[0m         nrows\u001b[39m=\u001b[39;49mnrows,\n\u001b[0;32m    529\u001b[0m         na_values\u001b[39m=\u001b[39;49mna_values,\n\u001b[0;32m    530\u001b[0m         keep_default_na\u001b[39m=\u001b[39;49mkeep_default_na,\n\u001b[0;32m    531\u001b[0m         na_filter\u001b[39m=\u001b[39;49mna_filter,\n\u001b[0;32m    532\u001b[0m         verbose\u001b[39m=\u001b[39;49mverbose,\n\u001b[0;32m    533\u001b[0m         parse_dates\u001b[39m=\u001b[39;49mparse_dates,\n\u001b[0;32m    534\u001b[0m         date_parser\u001b[39m=\u001b[39;49mdate_parser,\n\u001b[0;32m    535\u001b[0m         date_format\u001b[39m=\u001b[39;49mdate_format,\n\u001b[0;32m    536\u001b[0m         thousands\u001b[39m=\u001b[39;49mthousands,\n\u001b[0;32m    537\u001b[0m         decimal\u001b[39m=\u001b[39;49mdecimal,\n\u001b[0;32m    538\u001b[0m         comment\u001b[39m=\u001b[39;49mcomment,\n\u001b[0;32m    539\u001b[0m         skipfooter\u001b[39m=\u001b[39;49mskipfooter,\n\u001b[0;32m    540\u001b[0m         dtype_backend\u001b[39m=\u001b[39;49mdtype_backend,\n\u001b[0;32m    541\u001b[0m     )\n\u001b[0;32m    542\u001b[0m \u001b[39mfinally\u001b[39;00m:\n\u001b[0;32m    543\u001b[0m     \u001b[39m# make sure to close opened file handles\u001b[39;00m\n\u001b[0;32m    544\u001b[0m     \u001b[39mif\u001b[39;00m should_close:\n",
            "File \u001b[1;32mc:\\Python311\\Lib\\site-packages\\pandas\\io\\excel\\_base.py:1629\u001b[0m, in \u001b[0;36mExcelFile.parse\u001b[1;34m(self, sheet_name, header, names, index_col, usecols, converters, true_values, false_values, skiprows, nrows, na_values, parse_dates, date_parser, date_format, thousands, comment, skipfooter, dtype_backend, **kwds)\u001b[0m\n\u001b[0;32m   1589\u001b[0m \u001b[39mdef\u001b[39;00m \u001b[39mparse\u001b[39m(\n\u001b[0;32m   1590\u001b[0m     \u001b[39mself\u001b[39m,\n\u001b[0;32m   1591\u001b[0m     sheet_name: \u001b[39mstr\u001b[39m \u001b[39m|\u001b[39m \u001b[39mint\u001b[39m \u001b[39m|\u001b[39m \u001b[39mlist\u001b[39m[\u001b[39mint\u001b[39m] \u001b[39m|\u001b[39m \u001b[39mlist\u001b[39m[\u001b[39mstr\u001b[39m] \u001b[39m|\u001b[39m \u001b[39mNone\u001b[39;00m \u001b[39m=\u001b[39m \u001b[39m0\u001b[39m,\n\u001b[1;32m   (...)\u001b[0m\n\u001b[0;32m   1609\u001b[0m     \u001b[39m*\u001b[39m\u001b[39m*\u001b[39mkwds,\n\u001b[0;32m   1610\u001b[0m ) \u001b[39m-\u001b[39m\u001b[39m>\u001b[39m DataFrame \u001b[39m|\u001b[39m \u001b[39mdict\u001b[39m[\u001b[39mstr\u001b[39m, DataFrame] \u001b[39m|\u001b[39m \u001b[39mdict\u001b[39m[\u001b[39mint\u001b[39m, DataFrame]:\n\u001b[0;32m   1611\u001b[0m \u001b[39m    \u001b[39m\u001b[39m\"\"\"\u001b[39;00m\n\u001b[0;32m   1612\u001b[0m \u001b[39m    Parse specified sheet(s) into a DataFrame.\u001b[39;00m\n\u001b[0;32m   1613\u001b[0m \n\u001b[1;32m   (...)\u001b[0m\n\u001b[0;32m   1627\u001b[0m \u001b[39m    >>> file.parse()  # doctest: +SKIP\u001b[39;00m\n\u001b[0;32m   1628\u001b[0m \u001b[39m    \"\"\"\u001b[39;00m\n\u001b[1;32m-> 1629\u001b[0m     \u001b[39mreturn\u001b[39;00m \u001b[39mself\u001b[39;49m\u001b[39m.\u001b[39;49m_reader\u001b[39m.\u001b[39;49mparse(\n\u001b[0;32m   1630\u001b[0m         sheet_name\u001b[39m=\u001b[39;49msheet_name,\n\u001b[0;32m   1631\u001b[0m         header\u001b[39m=\u001b[39;49mheader,\n\u001b[0;32m   1632\u001b[0m         names\u001b[39m=\u001b[39;49mnames,\n\u001b[0;32m   1633\u001b[0m         index_col\u001b[39m=\u001b[39;49mindex_col,\n\u001b[0;32m   1634\u001b[0m         usecols\u001b[39m=\u001b[39;49musecols,\n\u001b[0;32m   1635\u001b[0m         converters\u001b[39m=\u001b[39;49mconverters,\n\u001b[0;32m   1636\u001b[0m         true_values\u001b[39m=\u001b[39;49mtrue_values,\n\u001b[0;32m   1637\u001b[0m         false_values\u001b[39m=\u001b[39;49mfalse_values,\n\u001b[0;32m   1638\u001b[0m         skiprows\u001b[39m=\u001b[39;49mskiprows,\n\u001b[0;32m   1639\u001b[0m         nrows\u001b[39m=\u001b[39;49mnrows,\n\u001b[0;32m   1640\u001b[0m         na_values\u001b[39m=\u001b[39;49mna_values,\n\u001b[0;32m   1641\u001b[0m         parse_dates\u001b[39m=\u001b[39;49mparse_dates,\n\u001b[0;32m   1642\u001b[0m         date_parser\u001b[39m=\u001b[39;49mdate_parser,\n\u001b[0;32m   1643\u001b[0m         date_format\u001b[39m=\u001b[39;49mdate_format,\n\u001b[0;32m   1644\u001b[0m         thousands\u001b[39m=\u001b[39;49mthousands,\n\u001b[0;32m   1645\u001b[0m         comment\u001b[39m=\u001b[39;49mcomment,\n\u001b[0;32m   1646\u001b[0m         skipfooter\u001b[39m=\u001b[39;49mskipfooter,\n\u001b[0;32m   1647\u001b[0m         dtype_backend\u001b[39m=\u001b[39;49mdtype_backend,\n\u001b[0;32m   1648\u001b[0m         \u001b[39m*\u001b[39;49m\u001b[39m*\u001b[39;49mkwds,\n\u001b[0;32m   1649\u001b[0m     )\n",
            "File \u001b[1;32mc:\\Python311\\Lib\\site-packages\\pandas\\io\\excel\\_base.py:788\u001b[0m, in \u001b[0;36mBaseExcelReader.parse\u001b[1;34m(self, sheet_name, header, names, index_col, usecols, dtype, true_values, false_values, skiprows, nrows, na_values, verbose, parse_dates, date_parser, date_format, thousands, decimal, comment, skipfooter, dtype_backend, **kwds)\u001b[0m\n\u001b[0;32m    785\u001b[0m     \u001b[39mprint\u001b[39m(\u001b[39mf\u001b[39m\u001b[39m\"\u001b[39m\u001b[39mReading sheet \u001b[39m\u001b[39m{\u001b[39;00masheetname\u001b[39m}\u001b[39;00m\u001b[39m\"\u001b[39m)\n\u001b[0;32m    787\u001b[0m \u001b[39mif\u001b[39;00m \u001b[39misinstance\u001b[39m(asheetname, \u001b[39mstr\u001b[39m):\n\u001b[1;32m--> 788\u001b[0m     sheet \u001b[39m=\u001b[39m \u001b[39mself\u001b[39;49m\u001b[39m.\u001b[39;49mget_sheet_by_name(asheetname)\n\u001b[0;32m    789\u001b[0m \u001b[39melse\u001b[39;00m:  \u001b[39m# assume an integer if not a string\u001b[39;00m\n\u001b[0;32m    790\u001b[0m     sheet \u001b[39m=\u001b[39m \u001b[39mself\u001b[39m\u001b[39m.\u001b[39mget_sheet_by_index(asheetname)\n",
            "File \u001b[1;32mc:\\Python311\\Lib\\site-packages\\pandas\\io\\excel\\_openpyxl.py:583\u001b[0m, in \u001b[0;36mOpenpyxlReader.get_sheet_by_name\u001b[1;34m(self, name)\u001b[0m\n\u001b[0;32m    582\u001b[0m \u001b[39mdef\u001b[39;00m \u001b[39mget_sheet_by_name\u001b[39m(\u001b[39mself\u001b[39m, name: \u001b[39mstr\u001b[39m):\n\u001b[1;32m--> 583\u001b[0m     \u001b[39mself\u001b[39;49m\u001b[39m.\u001b[39;49mraise_if_bad_sheet_by_name(name)\n\u001b[0;32m    584\u001b[0m     \u001b[39mreturn\u001b[39;00m \u001b[39mself\u001b[39m\u001b[39m.\u001b[39mbook[name]\n",
            "File \u001b[1;32mc:\\Python311\\Lib\\site-packages\\pandas\\io\\excel\\_base.py:639\u001b[0m, in \u001b[0;36mBaseExcelReader.raise_if_bad_sheet_by_name\u001b[1;34m(self, name)\u001b[0m\n\u001b[0;32m    637\u001b[0m \u001b[39mdef\u001b[39;00m \u001b[39mraise_if_bad_sheet_by_name\u001b[39m(\u001b[39mself\u001b[39m, name: \u001b[39mstr\u001b[39m) \u001b[39m-\u001b[39m\u001b[39m>\u001b[39m \u001b[39mNone\u001b[39;00m:\n\u001b[0;32m    638\u001b[0m     \u001b[39mif\u001b[39;00m name \u001b[39mnot\u001b[39;00m \u001b[39min\u001b[39;00m \u001b[39mself\u001b[39m\u001b[39m.\u001b[39msheet_names:\n\u001b[1;32m--> 639\u001b[0m         \u001b[39mraise\u001b[39;00m \u001b[39mValueError\u001b[39;00m(\u001b[39mf\u001b[39m\u001b[39m\"\u001b[39m\u001b[39mWorksheet named \u001b[39m\u001b[39m'\u001b[39m\u001b[39m{\u001b[39;00mname\u001b[39m}\u001b[39;00m\u001b[39m'\u001b[39m\u001b[39m not found\u001b[39m\u001b[39m\"\u001b[39m)\n",
            "\u001b[1;31mValueError\u001b[0m: Worksheet named 'Base' not found"
          ]
        }
      ],
      "source": [
        "df = pd.read_excel(caminho + arquivo, sheet_name='Base')"
      ]
    },
    {
      "cell_type": "code",
      "execution_count": null,
      "metadata": {},
      "outputs": [
        {
          "data": {
            "text/html": [
              "<div>\n",
              "<style scoped>\n",
              "    .dataframe tbody tr th:only-of-type {\n",
              "        vertical-align: middle;\n",
              "    }\n",
              "\n",
              "    .dataframe tbody tr th {\n",
              "        vertical-align: top;\n",
              "    }\n",
              "\n",
              "    .dataframe thead th {\n",
              "        text-align: right;\n",
              "    }\n",
              "</style>\n",
              "<table border=\"1\" class=\"dataframe\">\n",
              "  <thead>\n",
              "    <tr style=\"text-align: right;\">\n",
              "      <th></th>\n",
              "      <th>Coluna 1</th>\n",
              "      <th>Coluna 2</th>\n",
              "      <th>Coluna 3</th>\n",
              "      <th>Coluna 4</th>\n",
              "      <th>Coluna 5</th>\n",
              "      <th>Coluna 6</th>\n",
              "      <th>Coluna 7</th>\n",
              "      <th>Coluna 8</th>\n",
              "      <th>Coluna 8.1</th>\n",
              "      <th>Coluna 10</th>\n",
              "    </tr>\n",
              "  </thead>\n",
              "  <tbody>\n",
              "    <tr>\n",
              "      <th>0</th>\n",
              "      <td>Centro</td>\n",
              "      <td>Simone</td>\n",
              "      <td>2005-10-08</td>\n",
              "      <td>Apartamento</td>\n",
              "      <td>102.5</td>\n",
              "      <td>2</td>\n",
              "      <td>2</td>\n",
              "      <td>Sim</td>\n",
              "      <td>235500</td>\n",
              "      <td>3532.5</td>\n",
              "    </tr>\n",
              "    <tr>\n",
              "      <th>1</th>\n",
              "      <td>Noroeste</td>\n",
              "      <td>Simone</td>\n",
              "      <td>2005-10-08</td>\n",
              "      <td>Apartamento</td>\n",
              "      <td>199.5</td>\n",
              "      <td>4</td>\n",
              "      <td>4</td>\n",
              "      <td>Não</td>\n",
              "      <td>377700</td>\n",
              "      <td>5665.5</td>\n",
              "    </tr>\n",
              "    <tr>\n",
              "      <th>2</th>\n",
              "      <td>Norte</td>\n",
              "      <td>Roberto</td>\n",
              "      <td>2005-10-12</td>\n",
              "      <td>Casa</td>\n",
              "      <td>145.5</td>\n",
              "      <td>2</td>\n",
              "      <td>2</td>\n",
              "      <td>Não</td>\n",
              "      <td>232500</td>\n",
              "      <td>3487.5</td>\n",
              "    </tr>\n",
              "    <tr>\n",
              "      <th>3</th>\n",
              "      <td>Sudeste</td>\n",
              "      <td>Simone</td>\n",
              "      <td>2005-10-14</td>\n",
              "      <td>Apartamento</td>\n",
              "      <td>153.5</td>\n",
              "      <td>3</td>\n",
              "      <td>2</td>\n",
              "      <td>Não</td>\n",
              "      <td>289100</td>\n",
              "      <td>4336.5</td>\n",
              "    </tr>\n",
              "    <tr>\n",
              "      <th>4</th>\n",
              "      <td>Noroeste</td>\n",
              "      <td>Cristina</td>\n",
              "      <td>2005-10-16</td>\n",
              "      <td>Apartamento</td>\n",
              "      <td>93.0</td>\n",
              "      <td>2</td>\n",
              "      <td>2</td>\n",
              "      <td>Sim</td>\n",
              "      <td>235400</td>\n",
              "      <td>3531.0</td>\n",
              "    </tr>\n",
              "  </tbody>\n",
              "</table>\n",
              "</div>"
            ],
            "text/plain": [
              "   Coluna 1  Coluna 2   Coluna 3     Coluna 4  Coluna 5  Coluna 6  Coluna 7  \\\n",
              "0    Centro    Simone 2005-10-08  Apartamento     102.5         2         2   \n",
              "1  Noroeste    Simone 2005-10-08  Apartamento     199.5         4         4   \n",
              "2     Norte   Roberto 2005-10-12         Casa     145.5         2         2   \n",
              "3   Sudeste    Simone 2005-10-14  Apartamento     153.5         3         2   \n",
              "4  Noroeste  Cristina 2005-10-16  Apartamento      93.0         2         2   \n",
              "\n",
              "  Coluna 8  Coluna 8.1  Coluna 10  \n",
              "0      Sim      235500     3532.5  \n",
              "1      Não      377700     5665.5  \n",
              "2      Não      232500     3487.5  \n",
              "3      Não      289100     4336.5  \n",
              "4      Sim      235400     3531.0  "
            ]
          },
          "execution_count": 17,
          "metadata": {},
          "output_type": "execute_result"
        }
      ],
      "source": [
        "df.head()"
      ]
    },
    {
      "cell_type": "code",
      "execution_count": null,
      "metadata": {},
      "outputs": [
        {
          "data": {
            "text/html": [
              "<div>\n",
              "<style scoped>\n",
              "    .dataframe tbody tr th:only-of-type {\n",
              "        vertical-align: middle;\n",
              "    }\n",
              "\n",
              "    .dataframe tbody tr th {\n",
              "        vertical-align: top;\n",
              "    }\n",
              "\n",
              "    .dataframe thead th {\n",
              "        text-align: right;\n",
              "    }\n",
              "</style>\n",
              "<table border=\"1\" class=\"dataframe\">\n",
              "  <thead>\n",
              "    <tr style=\"text-align: right;\">\n",
              "      <th></th>\n",
              "      <th>Coluna 1</th>\n",
              "      <th>Coluna 2</th>\n",
              "      <th>Coluna 3</th>\n",
              "      <th>Coluna 4</th>\n",
              "      <th>Coluna 5</th>\n",
              "      <th>Coluna 6</th>\n",
              "      <th>Coluna 7</th>\n",
              "      <th>Coluna 8</th>\n",
              "      <th>Coluna 8.1</th>\n",
              "      <th>Coluna 10</th>\n",
              "    </tr>\n",
              "  </thead>\n",
              "  <tbody>\n",
              "    <tr>\n",
              "      <th>1112</th>\n",
              "      <td>Sudeste</td>\n",
              "      <td>Cristina</td>\n",
              "      <td>2011-03-19</td>\n",
              "      <td>Apartamento</td>\n",
              "      <td>87.5</td>\n",
              "      <td>2</td>\n",
              "      <td>0</td>\n",
              "      <td>Não</td>\n",
              "      <td>221500</td>\n",
              "      <td>3322.5</td>\n",
              "    </tr>\n",
              "    <tr>\n",
              "      <th>1113</th>\n",
              "      <td>Sudeste</td>\n",
              "      <td>Simone</td>\n",
              "      <td>2011-03-20</td>\n",
              "      <td>Apartamento</td>\n",
              "      <td>74.5</td>\n",
              "      <td>2</td>\n",
              "      <td>2</td>\n",
              "      <td>Não</td>\n",
              "      <td>224400</td>\n",
              "      <td>3366.0</td>\n",
              "    </tr>\n",
              "    <tr>\n",
              "      <th>1114</th>\n",
              "      <td>Norte</td>\n",
              "      <td>João Carlos</td>\n",
              "      <td>2011-03-21</td>\n",
              "      <td>Apartamento</td>\n",
              "      <td>192.0</td>\n",
              "      <td>4</td>\n",
              "      <td>4</td>\n",
              "      <td>Não</td>\n",
              "      <td>361000</td>\n",
              "      <td>5415.0</td>\n",
              "    </tr>\n",
              "    <tr>\n",
              "      <th>1115</th>\n",
              "      <td>Leste</td>\n",
              "      <td>Simone</td>\n",
              "      <td>2011-03-27</td>\n",
              "      <td>Apartamento</td>\n",
              "      <td>42.0</td>\n",
              "      <td>1</td>\n",
              "      <td>1</td>\n",
              "      <td>Sim</td>\n",
              "      <td>167900</td>\n",
              "      <td>2518.5</td>\n",
              "    </tr>\n",
              "    <tr>\n",
              "      <th>1116</th>\n",
              "      <td>Oeste</td>\n",
              "      <td>Simone</td>\n",
              "      <td>2011-03-28</td>\n",
              "      <td>Apartamento</td>\n",
              "      <td>100.5</td>\n",
              "      <td>2</td>\n",
              "      <td>2</td>\n",
              "      <td>Sim</td>\n",
              "      <td>227600</td>\n",
              "      <td>3414.0</td>\n",
              "    </tr>\n",
              "  </tbody>\n",
              "</table>\n",
              "</div>"
            ],
            "text/plain": [
              "     Coluna 1     Coluna 2   Coluna 3     Coluna 4  Coluna 5  Coluna 6  \\\n",
              "1112  Sudeste     Cristina 2011-03-19  Apartamento      87.5         2   \n",
              "1113  Sudeste       Simone 2011-03-20  Apartamento      74.5         2   \n",
              "1114    Norte  João Carlos 2011-03-21  Apartamento     192.0         4   \n",
              "1115    Leste       Simone 2011-03-27  Apartamento      42.0         1   \n",
              "1116    Oeste       Simone 2011-03-28  Apartamento     100.5         2   \n",
              "\n",
              "      Coluna 7 Coluna 8  Coluna 8.1  Coluna 10  \n",
              "1112         0      Não      221500     3322.5  \n",
              "1113         2      Não      224400     3366.0  \n",
              "1114         4      Não      361000     5415.0  \n",
              "1115         1      Sim      167900     2518.5  \n",
              "1116         2      Sim      227600     3414.0  "
            ]
          },
          "execution_count": 18,
          "metadata": {},
          "output_type": "execute_result"
        }
      ],
      "source": [
        "df.tail()"
      ]
    },
    {
      "cell_type": "code",
      "execution_count": null,
      "metadata": {},
      "outputs": [],
      "source": [
        "df = df.rename({'Coluna 1':'Filial',\n",
        "           'Coluna 2':'Vendedor',\n",
        "           'Coluna 3':'Data',\n",
        "           'Coluna 4':'Tipo',\n",
        "           'Coluna 5':'Área (m²)',\n",
        "           'Coluna 6':'Dorms.',\n",
        "           'Coluna 7':'Garag.',\n",
        "           'Coluna 8':'Piscina',\n",
        "           'Coluna 8.1':'Preço',\n",
        "           'Coluna 10':'Comissão'}, \n",
        "           axis='columns')"
      ]
    },
    {
      "cell_type": "code",
      "execution_count": null,
      "metadata": {},
      "outputs": [
        {
          "name": "stdout",
          "output_type": "stream",
          "text": [
            "<class 'pandas.core.frame.DataFrame'>\n",
            "RangeIndex: 1117 entries, 0 to 1116\n",
            "Data columns (total 10 columns):\n",
            " #   Column     Non-Null Count  Dtype         \n",
            "---  ------     --------------  -----         \n",
            " 0   Filial     1117 non-null   object        \n",
            " 1   Vendedor   1117 non-null   object        \n",
            " 2   Data       1117 non-null   datetime64[ns]\n",
            " 3   Tipo       1117 non-null   object        \n",
            " 4   Área (m²)  1117 non-null   float64       \n",
            " 5   Dorms.     1117 non-null   int64         \n",
            " 6   Garag.     1117 non-null   int64         \n",
            " 7   Piscina    1117 non-null   object        \n",
            " 8   Preço      1117 non-null   int64         \n",
            " 9   Comissão   1117 non-null   float64       \n",
            "dtypes: datetime64[ns](1), float64(2), int64(3), object(4)\n",
            "memory usage: 87.4+ KB\n"
          ]
        }
      ],
      "source": [
        "df.info()"
      ]
    },
    {
      "cell_type": "code",
      "execution_count": null,
      "metadata": {},
      "outputs": [
        {
          "name": "stdout",
          "output_type": "stream",
          "text": [
            "Soma  295035000\n",
            "Maximo  384300\n",
            "Minimo  145100\n",
            "Media  264131.6025067144\n",
            "Quantidade  1117\n"
          ]
        }
      ],
      "source": [
        "print('Soma ',df['Preço'].sum())\n",
        "print('Maximo ',df['Preço'].max())\n",
        "print('Minimo ',df['Preço'].min())\n",
        "print('Media ',df['Preço'].mean())\n",
        "print('Quantidade ', df['Preço'].count())"
      ]
    },
    {
      "attachments": {},
      "cell_type": "markdown",
      "metadata": {},
      "source": [
        "8. Crie um programa para criar um dataframe para mostrar as vendas porregião, e salvar um arquivo em Excel para cada região.\n",
        "- Centro\n",
        "- Noroeste\n",
        "- Norte\n",
        "- Sudeste\n",
        "- Oeste\n",
        "- Leste\n",
        "- Sudoeste\n",
        "- Sul\n",
        "- Nordeste"
      ]
    },
    {
      "cell_type": "code",
      "execution_count": null,
      "metadata": {},
      "outputs": [
        {
          "data": {
            "text/plain": [
              "0       False\n",
              "1       False\n",
              "2        True\n",
              "3       False\n",
              "4       False\n",
              "        ...  \n",
              "1112    False\n",
              "1113    False\n",
              "1114     True\n",
              "1115    False\n",
              "1116    False\n",
              "Name: Filial, Length: 1117, dtype: bool"
            ]
          },
          "execution_count": 44,
          "metadata": {},
          "output_type": "execute_result"
        }
      ],
      "source": [
        "df['Filial'] == 'Norte'"
      ]
    },
    {
      "cell_type": "code",
      "execution_count": null,
      "metadata": {},
      "outputs": [],
      "source": [
        "df_norte = df[df['Filial'] == 'Norte']"
      ]
    },
    {
      "cell_type": "code",
      "execution_count": null,
      "metadata": {},
      "outputs": [],
      "source": [
        "pasta_destino = 'C:\\\\Users\\\\FIC\\\\Documents\\\\Rafael-Dias-Python\\\\arquivos\\\\imobiliaria-regiao\\\\'\n",
        "novo_arquivo = 'Norte.xlsx'"
      ]
    },
    {
      "cell_type": "code",
      "execution_count": null,
      "metadata": {},
      "outputs": [],
      "source": [
        "df_norte.to_excel(pasta_destino + novo_arquivo)"
      ]
    },
    {
      "cell_type": "code",
      "execution_count": null,
      "metadata": {},
      "outputs": [],
      "source": [
        "df_centro = df[df['Filial'] == 'Centro']"
      ]
    },
    {
      "cell_type": "code",
      "execution_count": null,
      "metadata": {},
      "outputs": [],
      "source": [
        "pasta_destino = 'C:\\\\Users\\\\FIC\\\\Documents\\\\Rafael-Dias-Python\\\\arquivos\\\\imobiliaria-regiao\\\\'\n",
        "novo_arquivo = 'Centro.xlsx'"
      ]
    },
    {
      "cell_type": "code",
      "execution_count": null,
      "metadata": {},
      "outputs": [],
      "source": [
        "df_centro.to_excel(pasta_destino + novo_arquivo)"
      ]
    },
    {
      "cell_type": "code",
      "execution_count": null,
      "metadata": {},
      "outputs": [],
      "source": [
        "df_noroeste = df[df['Filial'] == 'Noroeste']"
      ]
    },
    {
      "cell_type": "code",
      "execution_count": null,
      "metadata": {},
      "outputs": [],
      "source": [
        "pasta_destino = 'C:\\\\Users\\\\FIC\\\\Documents\\\\Rafael-Dias-Python\\\\arquivos\\\\imobiliaria-regiao\\\\'\n",
        "novo_arquivo = 'Noroeste.xlsx'"
      ]
    },
    {
      "cell_type": "code",
      "execution_count": null,
      "metadata": {},
      "outputs": [],
      "source": [
        "df_noroeste.to_excel(pasta_destino + novo_arquivo)"
      ]
    },
    {
      "cell_type": "code",
      "execution_count": null,
      "metadata": {},
      "outputs": [],
      "source": [
        "df_sudeste = df[df['Filial'] == 'Sudeste']\n",
        "novo_arquivo = 'Sudeste.xlsx'\n",
        "df_sudeste.to_excel(pasta_destino + novo_arquivo)"
      ]
    },
    {
      "cell_type": "code",
      "execution_count": null,
      "metadata": {},
      "outputs": [],
      "source": [
        "df_oeste = df[df['Filial'] == 'Oeste']\n",
        "novo_arquivo = 'Oeste.xlsx'\n",
        "df_oeste.to_excel(pasta_destino + novo_arquivo)"
      ]
    },
    {
      "cell_type": "code",
      "execution_count": null,
      "metadata": {},
      "outputs": [],
      "source": [
        "df_leste = df[df['Filial'] == 'Leste']\n",
        "novo_arquivo = 'Leste.xlsx'\n",
        "df_leste.to_excel(pasta_destino + novo_arquivo)"
      ]
    },
    {
      "cell_type": "code",
      "execution_count": null,
      "metadata": {},
      "outputs": [],
      "source": [
        "df_sudoeste = df[df['Filial'] == 'Sudoeste']\n",
        "novo_arquivo = 'Sudoeste.xlsx'\n",
        "df_sudoeste.to_excel(pasta_destino + novo_arquivo)"
      ]
    },
    {
      "cell_type": "code",
      "execution_count": null,
      "metadata": {},
      "outputs": [],
      "source": [
        "df_sul = df[df['Filial'] == 'Sul']\n",
        "novo_arquivo = 'Sul.xlsx'\n",
        "df_sul.to_excel(pasta_destino + novo_arquivo)"
      ]
    },
    {
      "cell_type": "code",
      "execution_count": null,
      "metadata": {},
      "outputs": [],
      "source": [
        "df_nordeste = df[df['Filial'] == 'Nordeste']\n",
        "novo_arquivo = 'Nordeste.xlsx'\n",
        "df_nordeste.to_excel(pasta_destino + novo_arquivo)"
      ]
    },
    {
      "attachments": {},
      "cell_type": "markdown",
      "metadata": {},
      "source": [
        "l) Gere um arquivo em Excel para representar as vendas efetuadas pela filial norte em 2010."
      ]
    },
    {
      "cell_type": "code",
      "execution_count": null,
      "metadata": {},
      "outputs": [],
      "source": [
        "df_norte_2010 = df[(df['Data'] >= '2010-01-01') & \n",
        "                   (df['Data'] <= '2010-12-31') & \n",
        "                   (df['Filial'] == 'Norte')] \n",
        "novo_arquivo = 'Norte em 2010.xlsx'\n",
        "df_norte_2010.to_excel(pasta_destino + novo_arquivo)"
      ]
    },
    {
      "attachments": {},
      "cell_type": "markdown",
      "metadata": {},
      "source": [
        "m) Gere um arquivo em Excel para representar as vendas efetuadas pela filial Sudeste em 2010. Sendo que no relatório deve conter apenas vendas de casas sem garagem."
      ]
    },
    {
      "cell_type": "code",
      "execution_count": null,
      "metadata": {},
      "outputs": [
        {
          "data": {
            "text/html": [
              "<div>\n",
              "<style scoped>\n",
              "    .dataframe tbody tr th:only-of-type {\n",
              "        vertical-align: middle;\n",
              "    }\n",
              "\n",
              "    .dataframe tbody tr th {\n",
              "        vertical-align: top;\n",
              "    }\n",
              "\n",
              "    .dataframe thead th {\n",
              "        text-align: right;\n",
              "    }\n",
              "</style>\n",
              "<table border=\"1\" class=\"dataframe\">\n",
              "  <thead>\n",
              "    <tr style=\"text-align: right;\">\n",
              "      <th></th>\n",
              "      <th>Filial</th>\n",
              "      <th>Vendedor</th>\n",
              "      <th>Data</th>\n",
              "      <th>Tipo</th>\n",
              "      <th>Área (m²)</th>\n",
              "      <th>Dorms.</th>\n",
              "      <th>Garag.</th>\n",
              "      <th>Piscina</th>\n",
              "      <th>Preço</th>\n",
              "      <th>Comissão</th>\n",
              "    </tr>\n",
              "  </thead>\n",
              "  <tbody>\n",
              "    <tr>\n",
              "      <th>0</th>\n",
              "      <td>Centro</td>\n",
              "      <td>Simone</td>\n",
              "      <td>2005-10-08</td>\n",
              "      <td>Apartamento</td>\n",
              "      <td>102.5</td>\n",
              "      <td>2</td>\n",
              "      <td>2</td>\n",
              "      <td>Sim</td>\n",
              "      <td>235500</td>\n",
              "      <td>3532.5</td>\n",
              "    </tr>\n",
              "    <tr>\n",
              "      <th>1</th>\n",
              "      <td>Noroeste</td>\n",
              "      <td>Simone</td>\n",
              "      <td>2005-10-08</td>\n",
              "      <td>Apartamento</td>\n",
              "      <td>199.5</td>\n",
              "      <td>4</td>\n",
              "      <td>4</td>\n",
              "      <td>Não</td>\n",
              "      <td>377700</td>\n",
              "      <td>5665.5</td>\n",
              "    </tr>\n",
              "    <tr>\n",
              "      <th>2</th>\n",
              "      <td>Norte</td>\n",
              "      <td>Roberto</td>\n",
              "      <td>2005-10-12</td>\n",
              "      <td>Casa</td>\n",
              "      <td>145.5</td>\n",
              "      <td>2</td>\n",
              "      <td>2</td>\n",
              "      <td>Não</td>\n",
              "      <td>232500</td>\n",
              "      <td>3487.5</td>\n",
              "    </tr>\n",
              "    <tr>\n",
              "      <th>3</th>\n",
              "      <td>Sudeste</td>\n",
              "      <td>Simone</td>\n",
              "      <td>2005-10-14</td>\n",
              "      <td>Apartamento</td>\n",
              "      <td>153.5</td>\n",
              "      <td>3</td>\n",
              "      <td>2</td>\n",
              "      <td>Não</td>\n",
              "      <td>289100</td>\n",
              "      <td>4336.5</td>\n",
              "    </tr>\n",
              "    <tr>\n",
              "      <th>4</th>\n",
              "      <td>Noroeste</td>\n",
              "      <td>Cristina</td>\n",
              "      <td>2005-10-16</td>\n",
              "      <td>Apartamento</td>\n",
              "      <td>93.0</td>\n",
              "      <td>2</td>\n",
              "      <td>2</td>\n",
              "      <td>Sim</td>\n",
              "      <td>235400</td>\n",
              "      <td>3531.0</td>\n",
              "    </tr>\n",
              "  </tbody>\n",
              "</table>\n",
              "</div>"
            ],
            "text/plain": [
              "     Filial  Vendedor       Data         Tipo  Área (m²)  Dorms.  Garag.  \\\n",
              "0    Centro    Simone 2005-10-08  Apartamento      102.5       2       2   \n",
              "1  Noroeste    Simone 2005-10-08  Apartamento      199.5       4       4   \n",
              "2     Norte   Roberto 2005-10-12         Casa      145.5       2       2   \n",
              "3   Sudeste    Simone 2005-10-14  Apartamento      153.5       3       2   \n",
              "4  Noroeste  Cristina 2005-10-16  Apartamento       93.0       2       2   \n",
              "\n",
              "  Piscina   Preço  Comissão  \n",
              "0     Sim  235500    3532.5  \n",
              "1     Não  377700    5665.5  \n",
              "2     Não  232500    3487.5  \n",
              "3     Não  289100    4336.5  \n",
              "4     Sim  235400    3531.0  "
            ]
          },
          "execution_count": 85,
          "metadata": {},
          "output_type": "execute_result"
        }
      ],
      "source": [
        "df.head()"
      ]
    },
    {
      "cell_type": "code",
      "execution_count": null,
      "metadata": {},
      "outputs": [],
      "source": [
        "df_sudeste_2010_casa_sem_garagem = df[\n",
        "    (df['Filial'] == 'Sudeste') &\n",
        "    (df['Data'] >= '2010-01-01') &\n",
        "    (df['Data'] <= '2010-12-31') &\n",
        "    (df['Garag.'] == 0) &\n",
        "    (df['Tipo'] == 'Casa')]"
      ]
    },
    {
      "cell_type": "code",
      "execution_count": null,
      "metadata": {},
      "outputs": [],
      "source": [
        "novo_arquivo = 'Sudeste 2010 casa sem garagem.xlsx'"
      ]
    },
    {
      "cell_type": "code",
      "execution_count": null,
      "metadata": {},
      "outputs": [],
      "source": [
        "df_sudeste_2010_casa_sem_garagem.to_excel(pasta_destino + novo_arquivo)"
      ]
    },
    {
      "attachments": {},
      "cell_type": "markdown",
      "metadata": {},
      "source": [
        "Qual o valor máximo de comissão que a imobiliária numa venda?"
      ]
    },
    {
      "cell_type": "code",
      "execution_count": null,
      "metadata": {},
      "outputs": [
        {
          "name": "stdout",
          "output_type": "stream",
          "text": [
            "Comissão maxima de R$  5764.5\n"
          ]
        }
      ],
      "source": [
        "print('Comissão maxima de R$ ', df['Comissão'].max())"
      ]
    },
    {
      "cell_type": "code",
      "execution_count": null,
      "metadata": {},
      "outputs": [
        {
          "data": {
            "text/html": [
              "<div>\n",
              "<style scoped>\n",
              "    .dataframe tbody tr th:only-of-type {\n",
              "        vertical-align: middle;\n",
              "    }\n",
              "\n",
              "    .dataframe tbody tr th {\n",
              "        vertical-align: top;\n",
              "    }\n",
              "\n",
              "    .dataframe thead th {\n",
              "        text-align: right;\n",
              "    }\n",
              "</style>\n",
              "<table border=\"1\" class=\"dataframe\">\n",
              "  <thead>\n",
              "    <tr style=\"text-align: right;\">\n",
              "      <th></th>\n",
              "      <th>Filial</th>\n",
              "      <th>Vendedor</th>\n",
              "      <th>Data</th>\n",
              "      <th>Tipo</th>\n",
              "      <th>Área (m²)</th>\n",
              "      <th>Dorms.</th>\n",
              "      <th>Garag.</th>\n",
              "      <th>Piscina</th>\n",
              "      <th>Preço</th>\n",
              "      <th>Comissão</th>\n",
              "    </tr>\n",
              "  </thead>\n",
              "  <tbody>\n",
              "    <tr>\n",
              "      <th>848</th>\n",
              "      <td>Sul</td>\n",
              "      <td>Adriana</td>\n",
              "      <td>2009-12-27</td>\n",
              "      <td>Apartamento</td>\n",
              "      <td>188.5</td>\n",
              "      <td>4</td>\n",
              "      <td>4</td>\n",
              "      <td>Sim</td>\n",
              "      <td>384300</td>\n",
              "      <td>5764.5</td>\n",
              "    </tr>\n",
              "  </tbody>\n",
              "</table>\n",
              "</div>"
            ],
            "text/plain": [
              "    Filial Vendedor       Data         Tipo  Área (m²)  Dorms.  Garag.  \\\n",
              "848    Sul  Adriana 2009-12-27  Apartamento      188.5       4       4   \n",
              "\n",
              "    Piscina   Preço  Comissão  \n",
              "848     Sim  384300    5764.5  "
            ]
          },
          "execution_count": 107,
          "metadata": {},
          "output_type": "execute_result"
        }
      ],
      "source": [
        "df[df['Comissão'] == df['Comissão'].max()]"
      ]
    },
    {
      "attachments": {},
      "cell_type": "markdown",
      "metadata": {},
      "source": [
        "Quantas casas de 2 ou 3 dormitórios foram vendidas pelo Ricardo antes de 2011."
      ]
    },
    {
      "cell_type": "code",
      "execution_count": null,
      "metadata": {},
      "outputs": [
        {
          "name": "stdout",
          "output_type": "stream",
          "text": [
            "Quantidade de casas de 2 ou 3 que foram vendidas pelo Ricardo antes de 2011: 43\n"
          ]
        }
      ],
      "source": [
        "print('Quantidade de casas de 2 ou 3 que foram vendidas pelo Ricardo antes de 2011:', \n",
        "      df[\n",
        "        (df['Tipo'] == 'Casa') &\n",
        "        (df['Dorms.'] >= 2) &\n",
        "        (df['Dorms.'] <= 3) &\n",
        "        (df['Data'] < '2011-01-01') &\n",
        "        (df['Vendedor'] == 'Ricardo')\n",
        "   ].count().max())"
      ]
    },
    {
      "cell_type": "code",
      "execution_count": null,
      "metadata": {},
      "outputs": [
        {
          "data": {
            "text/plain": [
              "43"
            ]
          },
          "execution_count": 113,
          "metadata": {},
          "output_type": "execute_result"
        }
      ],
      "source": [
        "df[\n",
        "    (df['Tipo'] == 'Casa') &\n",
        "    (df['Dorms.'] >= 2) &\n",
        "    (df['Dorms.'] <= 3) &\n",
        "    (df['Data'] < '2011-01-01') &\n",
        "    (df['Vendedor'] == 'Ricardo')\n",
        "].count().max()"
      ]
    },
    {
      "attachments": {
        "image.png": {
          "image/png": "[encoded data removed]"
        }
      },
      "cell_type": "markdown",
      "metadata": {},
      "source": [
        "## Exercício 03 – Manipulando dados com Pandas\n",
        "- a) Crie um programa em pandas para ler o arquivo em Excel vendas.xlsx e\n",
        "- b) coloque em um dataframe.\n",
        "- c) Visualize o cabeçalho dos dados;\n",
        "- d) Visualize as últimas linhas;\n",
        "- e) Escreva um programa para renomear o cabeçalho da tabela com os\n",
        "- f) seguintes nomes:\n",
        "\n",
        "![image.png](attachment:image.png)\n",
        "\n",
        "- g) Quais são os tipos de dados que temos no dataframe?\n",
        "- h) Há valores faltantes ou nulos?\n",
        "- i) Calcule a soma, média, máximo, mínimo e contagem da coluna Preço.\n",
        "- j) Crie um programa para criar um dataframe para mostrar as vendas por cargo, e salvar um arquivo em csv para com o nome de cada cargo:\n",
        "    - Supervisor de Vendas Pl\n",
        "    - Gerente Regional Jr.\n",
        "    - Supervisor de Vendas Sr\n",
        "    - Coordenador de Vendas Pl.\n",
        "    - Vendedor Jr.\n",
        "    - Vendedor Sr.\n",
        "    - Vendedor Pl.\n",
        "    - Gerente Regional Pl.\n",
        "    - Coordenador de Vendas Sr.\n",
        "    - Coordenador de Vendas Jr.\n",
        "    - Supervisor de Vendas Jr.\n",
        "- 9 Crie um dataframe para cada coluna, contendo dados únicos."
      ]
    },
    {
      "cell_type": "code",
      "execution_count": 10,
      "metadata": {},
      "outputs": [
        {
          "name": "stdout",
          "output_type": "stream",
          "text": [
            "C:\\Users\\FIC\\Documents\\Rafael-Dias-Python\\arquivos\\Vendas.xlsx\n"
          ]
        }
      ],
      "source": [
        "caminho = 'C:\\\\Users\\\\FIC\\\\Documents\\\\Rafael-Dias-Python\\\\arquivos\\\\'\n",
        "arquivo = 'Vendas.xlsx'\n",
        "\n",
        "print(caminho + arquivo)"
      ]
    },
    {
      "cell_type": "code",
      "execution_count": 14,
      "metadata": {},
      "outputs": [],
      "source": [
        "dados = pd.read_excel(caminho + arquivo, sheet_name='Planilha1')"
      ]
    },
    {
      "cell_type": "code",
      "execution_count": 31,
      "metadata": {},
      "outputs": [
        {
          "data": {
            "text/html": [
              "<div>\n",
              "<style scoped>\n",
              "    .dataframe tbody tr th:only-of-type {\n",
              "        vertical-align: middle;\n",
              "    }\n",
              "\n",
              "    .dataframe tbody tr th {\n",
              "        vertical-align: top;\n",
              "    }\n",
              "\n",
              "    .dataframe thead th {\n",
              "        text-align: right;\n",
              "    }\n",
              "</style>\n",
              "<table border=\"1\" class=\"dataframe\">\n",
              "  <thead>\n",
              "    <tr style=\"text-align: right;\">\n",
              "      <th></th>\n",
              "      <th>Data</th>\n",
              "      <th>Vendedor</th>\n",
              "      <th>Cargo</th>\n",
              "      <th>Cliente</th>\n",
              "      <th>UF</th>\n",
              "      <th>Vendas</th>\n",
              "    </tr>\n",
              "  </thead>\n",
              "  <tbody>\n",
              "    <tr>\n",
              "      <th>0</th>\n",
              "      <td>2014-01-01</td>\n",
              "      <td>Bernardo de Sousa</td>\n",
              "      <td>Supervisor de Vendas Pl</td>\n",
              "      <td>ACME</td>\n",
              "      <td>AL</td>\n",
              "      <td>3276.20</td>\n",
              "    </tr>\n",
              "    <tr>\n",
              "      <th>1</th>\n",
              "      <td>2014-01-01</td>\n",
              "      <td>Bernardo de Sousa</td>\n",
              "      <td>Supervisor de Vendas Pl</td>\n",
              "      <td>ACME</td>\n",
              "      <td>AP</td>\n",
              "      <td>3005.86</td>\n",
              "    </tr>\n",
              "    <tr>\n",
              "      <th>2</th>\n",
              "      <td>2014-01-01</td>\n",
              "      <td>Bernardo de Sousa</td>\n",
              "      <td>Supervisor de Vendas Pl</td>\n",
              "      <td>ACME</td>\n",
              "      <td>MA</td>\n",
              "      <td>8568.54</td>\n",
              "    </tr>\n",
              "    <tr>\n",
              "      <th>3</th>\n",
              "      <td>2014-01-01</td>\n",
              "      <td>Bernardo de Sousa</td>\n",
              "      <td>Supervisor de Vendas Pl</td>\n",
              "      <td>ACME</td>\n",
              "      <td>MG</td>\n",
              "      <td>1344.27</td>\n",
              "    </tr>\n",
              "    <tr>\n",
              "      <th>4</th>\n",
              "      <td>2014-01-01</td>\n",
              "      <td>Bernardo de Sousa</td>\n",
              "      <td>Supervisor de Vendas Pl</td>\n",
              "      <td>ACME</td>\n",
              "      <td>MS</td>\n",
              "      <td>7585.04</td>\n",
              "    </tr>\n",
              "  </tbody>\n",
              "</table>\n",
              "</div>"
            ],
            "text/plain": [
              "        Data           Vendedor                    Cargo Cliente  UF   Vendas\n",
              "0 2014-01-01  Bernardo de Sousa  Supervisor de Vendas Pl    ACME  AL  3276.20\n",
              "1 2014-01-01  Bernardo de Sousa  Supervisor de Vendas Pl    ACME  AP  3005.86\n",
              "2 2014-01-01  Bernardo de Sousa  Supervisor de Vendas Pl    ACME  MA  8568.54\n",
              "3 2014-01-01  Bernardo de Sousa  Supervisor de Vendas Pl    ACME  MG  1344.27\n",
              "4 2014-01-01  Bernardo de Sousa  Supervisor de Vendas Pl    ACME  MS  7585.04"
            ]
          },
          "execution_count": 31,
          "metadata": {},
          "output_type": "execute_result"
        }
      ],
      "source": [
        "dados.head()"
      ]
    },
    {
      "cell_type": "code",
      "execution_count": 16,
      "metadata": {},
      "outputs": [
        {
          "data": {
            "text/html": [
              "<div>\n",
              "<style scoped>\n",
              "    .dataframe tbody tr th:only-of-type {\n",
              "        vertical-align: middle;\n",
              "    }\n",
              "\n",
              "    .dataframe tbody tr th {\n",
              "        vertical-align: top;\n",
              "    }\n",
              "\n",
              "    .dataframe thead th {\n",
              "        text-align: right;\n",
              "    }\n",
              "</style>\n",
              "<table border=\"1\" class=\"dataframe\">\n",
              "  <thead>\n",
              "    <tr style=\"text-align: right;\">\n",
              "      <th></th>\n",
              "      <th>Coluna 1</th>\n",
              "      <th>Coluna 2</th>\n",
              "      <th>Coluna 3</th>\n",
              "      <th>Coluna 4</th>\n",
              "      <th>Coluna 5</th>\n",
              "      <th>Coluna 6</th>\n",
              "    </tr>\n",
              "  </thead>\n",
              "  <tbody>\n",
              "    <tr>\n",
              "      <th>130461</th>\n",
              "      <td>2016-12-31</td>\n",
              "      <td>Liz Azevedo Santos</td>\n",
              "      <td>Vendedor Pl.</td>\n",
              "      <td>Planet Express</td>\n",
              "      <td>PI</td>\n",
              "      <td>1829.39</td>\n",
              "    </tr>\n",
              "    <tr>\n",
              "      <th>130462</th>\n",
              "      <td>2016-12-31</td>\n",
              "      <td>Liz Azevedo Santos</td>\n",
              "      <td>Vendedor Pl.</td>\n",
              "      <td>Planet Express</td>\n",
              "      <td>PR</td>\n",
              "      <td>2378.48</td>\n",
              "    </tr>\n",
              "    <tr>\n",
              "      <th>130463</th>\n",
              "      <td>2016-12-31</td>\n",
              "      <td>Liz Azevedo Santos</td>\n",
              "      <td>Vendedor Pl.</td>\n",
              "      <td>Planet Express</td>\n",
              "      <td>RO</td>\n",
              "      <td>4488.47</td>\n",
              "    </tr>\n",
              "    <tr>\n",
              "      <th>130464</th>\n",
              "      <td>2016-12-31</td>\n",
              "      <td>Liz Azevedo Santos</td>\n",
              "      <td>Vendedor Pl.</td>\n",
              "      <td>Planet Express</td>\n",
              "      <td>RR</td>\n",
              "      <td>1543.66</td>\n",
              "    </tr>\n",
              "    <tr>\n",
              "      <th>130465</th>\n",
              "      <td>2016-12-31</td>\n",
              "      <td>Liz Azevedo Santos</td>\n",
              "      <td>Vendedor Pl.</td>\n",
              "      <td>Planet Express</td>\n",
              "      <td>SC</td>\n",
              "      <td>9820.71</td>\n",
              "    </tr>\n",
              "  </tbody>\n",
              "</table>\n",
              "</div>"
            ],
            "text/plain": [
              "         Coluna 1            Coluna 2      Coluna 3        Coluna 4 Coluna 5  \\\n",
              "130461 2016-12-31  Liz Azevedo Santos  Vendedor Pl.  Planet Express       PI   \n",
              "130462 2016-12-31  Liz Azevedo Santos  Vendedor Pl.  Planet Express       PR   \n",
              "130463 2016-12-31  Liz Azevedo Santos  Vendedor Pl.  Planet Express       RO   \n",
              "130464 2016-12-31  Liz Azevedo Santos  Vendedor Pl.  Planet Express       RR   \n",
              "130465 2016-12-31  Liz Azevedo Santos  Vendedor Pl.  Planet Express       SC   \n",
              "\n",
              "        Coluna 6  \n",
              "130461   1829.39  \n",
              "130462   2378.48  \n",
              "130463   4488.47  \n",
              "130464   1543.66  \n",
              "130465   9820.71  "
            ]
          },
          "execution_count": 16,
          "metadata": {},
          "output_type": "execute_result"
        }
      ],
      "source": [
        "dados.tail()"
      ]
    },
    {
      "cell_type": "code",
      "execution_count": 29,
      "metadata": {},
      "outputs": [],
      "source": [
        "dados = dados.rename(columns={\"Coluna 1\": \"Data\", \"Coluna 2\":\"Vendedor\", \"Coluna 3\":\"Cargo\", \"Coluna 4\":\"Cliente\", \"Coluna 5\":\"UF\", \"Coluna 6\":\"Vendas\"})"
      ]
    },
    {
      "cell_type": "code",
      "execution_count": 30,
      "metadata": {},
      "outputs": [
        {
          "name": "stdout",
          "output_type": "stream",
          "text": [
            "<class 'pandas.core.frame.DataFrame'>\n",
            "RangeIndex: 130466 entries, 0 to 130465\n",
            "Data columns (total 6 columns):\n",
            " #   Column    Non-Null Count   Dtype         \n",
            "---  ------    --------------   -----         \n",
            " 0   Data      130466 non-null  datetime64[ns]\n",
            " 1   Vendedor  130466 non-null  object        \n",
            " 2   Cargo     130466 non-null  object        \n",
            " 3   Cliente   130466 non-null  object        \n",
            " 4   UF        130466 non-null  object        \n",
            " 5   Vendas    130466 non-null  float64       \n",
            "dtypes: datetime64[ns](1), float64(1), object(4)\n",
            "memory usage: 6.0+ MB\n"
          ]
        }
      ],
      "source": [
        "dados.info()"
      ]
    },
    {
      "cell_type": "code",
      "execution_count": 57,
      "metadata": {},
      "outputs": [
        {
          "data": {
            "text/plain": [
              "Data        0\n",
              "Vendedor    0\n",
              "Cargo       0\n",
              "Cliente     0\n",
              "UF          0\n",
              "Vendas      0\n",
              "dtype: int64"
            ]
          },
          "execution_count": 57,
          "metadata": {},
          "output_type": "execute_result"
        }
      ],
      "source": [
        "dados.isnull().sum()"
      ]
    },
    {
      "cell_type": "code",
      "execution_count": 37,
      "metadata": {},
      "outputs": [
        {
          "name": "stdout",
          "output_type": "stream",
          "text": [
            "Valor da soma:  718501609.25\n",
            "Valor da media:  5507.19\n",
            "Valor da maximo:  10000.0\n",
            "Valor da minimo:  1000.01\n",
            "Valor da contagem:  130466\n"
          ]
        }
      ],
      "source": [
        "#Calcule a soma, média, máximo, mínimo e contagem da coluna Preço\n",
        "print('Valor da soma: ', dados['Vendas'].sum())\n",
        "print('Valor da media: ', format( dados['Vendas'].mean(), '.2f'))\n",
        "print('Valor da maximo: ', dados['Vendas'].max())\n",
        "print('Valor da minimo: ', dados['Vendas'].min())\n",
        "print('Valor da contagem: ', dados['Vendas'].count())\n"
      ]
    },
    {
      "cell_type": "code",
      "execution_count": 103,
      "metadata": {},
      "outputs": [
        {
          "name": "stdout",
          "output_type": "stream",
          "text": [
            "C:\\Users\\FIC\\Documents\\Rafael-Dias-Python\\arquivos\\vendas_por_cargo\\Supervisor_de_Vendas_Pl.csv\n"
          ]
        }
      ],
      "source": [
        "novo_caminho = 'C:\\\\Users\\\\FIC\\\\Documents\\\\Rafael-Dias-Python\\\\arquivos\\\\vendas_por_cargo\\\\'\n",
        "novo_arquivo = 'Supervisor_de_Vendas_Pl.csv'\n",
        "print(novo_caminho + novo_arquivo)"
      ]
    },
    {
      "cell_type": "code",
      "execution_count": 104,
      "metadata": {},
      "outputs": [],
      "source": [
        "supervisor_vendas_pleno = dados[\n",
        "        (dados['Cargo'] == 'Supervisor de Vendas Pl')\n",
        "    ]"
      ]
    },
    {
      "cell_type": "code",
      "execution_count": 142,
      "metadata": {},
      "outputs": [],
      "source": [
        "supervisor_vendas_pleno.to_csv(novo_caminho + novo_arquivo, encoding='ANSI')"
      ]
    },
    {
      "cell_type": "code",
      "execution_count": 137,
      "metadata": {},
      "outputs": [
        {
          "name": "stdout",
          "output_type": "stream",
          "text": [
            "C:\\Users\\FIC\\Documents\\Rafael-Dias-Python\\arquivos\\vendas_por_cargo\\Gerente_Regional_Jr.csv\n"
          ]
        }
      ],
      "source": [
        "novo_caminho = 'C:\\\\Users\\\\FIC\\\\Documents\\\\Rafael-Dias-Python\\\\arquivos\\\\vendas_por_cargo\\\\'\n",
        "novo_arquivo = 'Gerente_Regional_Jr.csv'\n",
        "print(novo_caminho + novo_arquivo)\n",
        "#Gerente Regional Jr."
      ]
    },
    {
      "cell_type": "code",
      "execution_count": 138,
      "metadata": {},
      "outputs": [],
      "source": [
        "gerente_regional_junior = dados[\n",
        "        (dados['Cargo'] == 'Gerente Regional Jr.')\n",
        "    ]"
      ]
    },
    {
      "cell_type": "code",
      "execution_count": 143,
      "metadata": {},
      "outputs": [],
      "source": [
        "gerente_regional_junior.to_csv(novo_caminho + novo_arquivo, encoding='ANSI')"
      ]
    },
    {
      "cell_type": "code",
      "execution_count": 109,
      "metadata": {},
      "outputs": [
        {
          "name": "stdout",
          "output_type": "stream",
          "text": [
            "C:\\Users\\FIC\\Documents\\Rafael-Dias-Python\\arquivos\\vendas_por_cargo\\Supervisor_de_Vendas_Sr.csv\n"
          ]
        }
      ],
      "source": [
        "novo_caminho = 'C:\\\\Users\\\\FIC\\\\Documents\\\\Rafael-Dias-Python\\\\arquivos\\\\vendas_por_cargo\\\\'\n",
        "novo_arquivo = 'Supervisor_de_Vendas_Sr.csv'\n",
        "print(novo_caminho + novo_arquivo)\n",
        "#Supervisor de Vendas Sr"
      ]
    },
    {
      "cell_type": "code",
      "execution_count": 110,
      "metadata": {},
      "outputs": [],
      "source": [
        "supervisor_vendas_senior = dados[\n",
        "    (dados['Cargo'] == 'Supervisor de Vendas Sr')\n",
        "]"
      ]
    },
    {
      "cell_type": "code",
      "execution_count": 53,
      "metadata": {},
      "outputs": [
        {
          "data": {
            "text/html": [
              "<div>\n",
              "<style scoped>\n",
              "    .dataframe tbody tr th:only-of-type {\n",
              "        vertical-align: middle;\n",
              "    }\n",
              "\n",
              "    .dataframe tbody tr th {\n",
              "        vertical-align: top;\n",
              "    }\n",
              "\n",
              "    .dataframe thead th {\n",
              "        text-align: right;\n",
              "    }\n",
              "</style>\n",
              "<table border=\"1\" class=\"dataframe\">\n",
              "  <thead>\n",
              "    <tr style=\"text-align: right;\">\n",
              "      <th></th>\n",
              "      <th>Data</th>\n",
              "      <th>Vendedor</th>\n",
              "      <th>Cargo</th>\n",
              "      <th>Cliente</th>\n",
              "      <th>UF</th>\n",
              "      <th>Vendas</th>\n",
              "    </tr>\n",
              "  </thead>\n",
              "  <tbody>\n",
              "    <tr>\n",
              "      <th>37</th>\n",
              "      <td>2014-01-01</td>\n",
              "      <td>João Antunes</td>\n",
              "      <td>Supervisor de Vendas Sr</td>\n",
              "      <td>Grupo Capivara</td>\n",
              "      <td>AL</td>\n",
              "      <td>9939.75</td>\n",
              "    </tr>\n",
              "    <tr>\n",
              "      <th>38</th>\n",
              "      <td>2014-01-01</td>\n",
              "      <td>João Antunes</td>\n",
              "      <td>Supervisor de Vendas Sr</td>\n",
              "      <td>Grupo Capivara</td>\n",
              "      <td>AP</td>\n",
              "      <td>6643.69</td>\n",
              "    </tr>\n",
              "    <tr>\n",
              "      <th>39</th>\n",
              "      <td>2014-01-01</td>\n",
              "      <td>João Antunes</td>\n",
              "      <td>Supervisor de Vendas Sr</td>\n",
              "      <td>Grupo Capivara</td>\n",
              "      <td>BA</td>\n",
              "      <td>5428.11</td>\n",
              "    </tr>\n",
              "    <tr>\n",
              "      <th>40</th>\n",
              "      <td>2014-01-01</td>\n",
              "      <td>João Antunes</td>\n",
              "      <td>Supervisor de Vendas Sr</td>\n",
              "      <td>Grupo Capivara</td>\n",
              "      <td>MA</td>\n",
              "      <td>2360.12</td>\n",
              "    </tr>\n",
              "    <tr>\n",
              "      <th>41</th>\n",
              "      <td>2014-01-01</td>\n",
              "      <td>João Antunes</td>\n",
              "      <td>Supervisor de Vendas Sr</td>\n",
              "      <td>Grupo Capivara</td>\n",
              "      <td>MT</td>\n",
              "      <td>4179.41</td>\n",
              "    </tr>\n",
              "  </tbody>\n",
              "</table>\n",
              "</div>"
            ],
            "text/plain": [
              "         Data      Vendedor                    Cargo         Cliente  UF  \\\n",
              "37 2014-01-01  João Antunes  Supervisor de Vendas Sr  Grupo Capivara  AL   \n",
              "38 2014-01-01  João Antunes  Supervisor de Vendas Sr  Grupo Capivara  AP   \n",
              "39 2014-01-01  João Antunes  Supervisor de Vendas Sr  Grupo Capivara  BA   \n",
              "40 2014-01-01  João Antunes  Supervisor de Vendas Sr  Grupo Capivara  MA   \n",
              "41 2014-01-01  João Antunes  Supervisor de Vendas Sr  Grupo Capivara  MT   \n",
              "\n",
              "     Vendas  \n",
              "37  9939.75  \n",
              "38  6643.69  \n",
              "39  5428.11  \n",
              "40  2360.12  \n",
              "41  4179.41  "
            ]
          },
          "execution_count": 53,
          "metadata": {},
          "output_type": "execute_result"
        }
      ],
      "source": [
        "supervisor_vendas_senior.head()"
      ]
    },
    {
      "cell_type": "code",
      "execution_count": 144,
      "metadata": {},
      "outputs": [],
      "source": [
        "supervisor_vendas_senior.to_csv(novo_caminho + novo_arquivo, encoding='ANSI')"
      ]
    },
    {
      "cell_type": "code",
      "execution_count": 112,
      "metadata": {},
      "outputs": [
        {
          "name": "stdout",
          "output_type": "stream",
          "text": [
            "C:\\Users\\FIC\\Documents\\Rafael-Dias-Python\\arquivos\\vendas_por_cargo\\Coordenador_de_Vendas_Pl.csv\n"
          ]
        }
      ],
      "source": [
        "novo_caminho = 'C:\\\\Users\\\\FIC\\\\Documents\\\\Rafael-Dias-Python\\\\arquivos\\\\vendas_por_cargo\\\\'\n",
        "novo_arquivo = 'Coordenador_de_Vendas_Pl.csv'\n",
        "print(novo_caminho + novo_arquivo)\n",
        "#Coordenador de Vendas Pl."
      ]
    },
    {
      "cell_type": "code",
      "execution_count": 113,
      "metadata": {},
      "outputs": [],
      "source": [
        "coordenador_vendas_pleno = dados[\n",
        "    (dados['Cargo'] == 'Coordenador de Vendas Pl.')\n",
        "]"
      ]
    },
    {
      "cell_type": "code",
      "execution_count": 145,
      "metadata": {},
      "outputs": [],
      "source": [
        "coordenador_vendas_pleno.to_csv(novo_caminho + novo_arquivo, encoding='ANSI')"
      ]
    },
    {
      "cell_type": "code",
      "execution_count": 115,
      "metadata": {},
      "outputs": [
        {
          "name": "stdout",
          "output_type": "stream",
          "text": [
            "C:\\Users\\FIC\\Documents\\Rafael-Dias-Python\\arquivos\\vendas_por_cargo\\Vendedor_Jr.csv\n"
          ]
        }
      ],
      "source": [
        "#Vendedor Jr.\n",
        "novo_caminho = 'C:\\\\Users\\\\FIC\\\\Documents\\\\Rafael-Dias-Python\\\\arquivos\\\\vendas_por_cargo\\\\'\n",
        "novo_arquivo = 'Vendedor_Jr.csv'\n",
        "print(novo_caminho + novo_arquivo)"
      ]
    },
    {
      "cell_type": "code",
      "execution_count": 116,
      "metadata": {},
      "outputs": [],
      "source": [
        "vendedor_junior = dados[\n",
        "    (dados['Cargo'] == 'Vendedor Jr.')\n",
        "]"
      ]
    },
    {
      "cell_type": "code",
      "execution_count": 146,
      "metadata": {},
      "outputs": [],
      "source": [
        "vendedor_junior.to_csv(novo_caminho + novo_arquivo, encoding='ANSI')"
      ]
    },
    {
      "cell_type": "code",
      "execution_count": 118,
      "metadata": {},
      "outputs": [
        {
          "name": "stdout",
          "output_type": "stream",
          "text": [
            "C:\\Users\\FIC\\Documents\\Rafael-Dias-Python\\arquivos\\vendas_por_cargo\\Vendedor_Sr.csv\n"
          ]
        }
      ],
      "source": [
        "#Vendedor Sr.\n",
        "novo_caminho = 'C:\\\\Users\\\\FIC\\\\Documents\\\\Rafael-Dias-Python\\\\arquivos\\\\vendas_por_cargo\\\\'\n",
        "novo_arquivo = 'Vendedor_Sr.csv'\n",
        "print(novo_caminho + novo_arquivo)"
      ]
    },
    {
      "cell_type": "code",
      "execution_count": 119,
      "metadata": {},
      "outputs": [],
      "source": [
        "vendedor_senior = dados[\n",
        "    (dados['Cargo'] == 'Vendedor Sr.')\n",
        "]"
      ]
    },
    {
      "cell_type": "code",
      "execution_count": 147,
      "metadata": {},
      "outputs": [],
      "source": [
        "vendedor_senior.to_csv(novo_caminho + novo_arquivo, encoding='ANSI')"
      ]
    },
    {
      "cell_type": "code",
      "execution_count": 121,
      "metadata": {},
      "outputs": [
        {
          "name": "stdout",
          "output_type": "stream",
          "text": [
            "C:\\Users\\FIC\\Documents\\Rafael-Dias-Python\\arquivos\\vendas_por_cargo\\Vendedor_Pl.csv\n"
          ]
        }
      ],
      "source": [
        "#Vendedor Pl.\n",
        "novo_caminho = 'C:\\\\Users\\\\FIC\\\\Documents\\\\Rafael-Dias-Python\\\\arquivos\\\\vendas_por_cargo\\\\'\n",
        "novo_arquivo = 'Vendedor_Pl.csv'\n",
        "print(novo_caminho + novo_arquivo)"
      ]
    },
    {
      "cell_type": "code",
      "execution_count": 122,
      "metadata": {},
      "outputs": [],
      "source": [
        "vendedor_pleno = dados[\n",
        "    (dados['Cargo'] == 'Vendedor Pl.')\n",
        "]"
      ]
    },
    {
      "cell_type": "code",
      "execution_count": 148,
      "metadata": {},
      "outputs": [],
      "source": [
        "vendedor_pleno.to_csv(novo_caminho + novo_arquivo, encoding='ANSI')"
      ]
    },
    {
      "cell_type": "code",
      "execution_count": 124,
      "metadata": {},
      "outputs": [
        {
          "name": "stdout",
          "output_type": "stream",
          "text": [
            "C:\\Users\\FIC\\Documents\\Rafael-Dias-Python\\arquivos\\vendas_por_cargo\\Gerente_Regional_Pl.csv\n"
          ]
        }
      ],
      "source": [
        "#Gerente Regional Pl.\n",
        "novo_caminho = 'C:\\\\Users\\\\FIC\\\\Documents\\\\Rafael-Dias-Python\\\\arquivos\\\\vendas_por_cargo\\\\'\n",
        "novo_arquivo = 'Gerente_Regional_Pl.csv'\n",
        "print(novo_caminho + novo_arquivo)"
      ]
    },
    {
      "cell_type": "code",
      "execution_count": 125,
      "metadata": {},
      "outputs": [],
      "source": [
        "gerente_regional_pleno = dados[\n",
        "    (dados['Cargo'] == 'Gerente Regional Pl.')\n",
        "]"
      ]
    },
    {
      "cell_type": "code",
      "execution_count": 149,
      "metadata": {},
      "outputs": [],
      "source": [
        "gerente_regional_pleno.to_csv(novo_caminho + novo_arquivo, encoding='ANSI')"
      ]
    },
    {
      "cell_type": "code",
      "execution_count": 128,
      "metadata": {},
      "outputs": [
        {
          "name": "stdout",
          "output_type": "stream",
          "text": [
            "C:\\Users\\FIC\\Documents\\Rafael-Dias-Python\\arquivos\\vendas_por_cargo\\Coordenador_de_Vendas_Sr.csv\n"
          ]
        }
      ],
      "source": [
        "#Coordenador de Vendas Sr.\n",
        "novo_caminho = 'C:\\\\Users\\\\FIC\\\\Documents\\\\Rafael-Dias-Python\\\\arquivos\\\\vendas_por_cargo\\\\'\n",
        "novo_arquivo = 'Coordenador_de_Vendas_Sr.csv'\n",
        "print(novo_caminho + novo_arquivo)"
      ]
    },
    {
      "cell_type": "code",
      "execution_count": 129,
      "metadata": {},
      "outputs": [],
      "source": [
        "coordenador_vendas_senior = dados[\n",
        "    (dados['Cargo'] == 'Coordenador de Vendas Sr.')\n",
        "]"
      ]
    },
    {
      "cell_type": "code",
      "execution_count": 150,
      "metadata": {},
      "outputs": [],
      "source": [
        "coordenador_vendas_senior.to_csv(novo_caminho + novo_arquivo, encoding='ANSI')"
      ]
    },
    {
      "cell_type": "code",
      "execution_count": 131,
      "metadata": {},
      "outputs": [
        {
          "name": "stdout",
          "output_type": "stream",
          "text": [
            "C:\\Users\\FIC\\Documents\\Rafael-Dias-Python\\arquivos\\vendas_por_cargo\\Coordenador_de_Vendas_Jr.csv\n"
          ]
        }
      ],
      "source": [
        "#Coordenador de Vendas Jr.\n",
        "novo_caminho = 'C:\\\\Users\\\\FIC\\\\Documents\\\\Rafael-Dias-Python\\\\arquivos\\\\vendas_por_cargo\\\\'\n",
        "novo_arquivo = 'Coordenador_de_Vendas_Jr.csv'\n",
        "print(novo_caminho + novo_arquivo)"
      ]
    },
    {
      "cell_type": "code",
      "execution_count": 132,
      "metadata": {},
      "outputs": [],
      "source": [
        "coordenador_vendas_junior = dados[\n",
        "    (dados['Cargo'] == 'Coordenador de Vendas Jr.')\n",
        "]"
      ]
    },
    {
      "cell_type": "code",
      "execution_count": 151,
      "metadata": {},
      "outputs": [],
      "source": [
        "coordenador_vendas_junior.to_csv(novo_caminho + novo_arquivo, encoding='ANSI')"
      ]
    },
    {
      "cell_type": "code",
      "execution_count": 134,
      "metadata": {},
      "outputs": [
        {
          "name": "stdout",
          "output_type": "stream",
          "text": [
            "C:\\Users\\FIC\\Documents\\Rafael-Dias-Python\\arquivos\\vendas_por_cargo\\Supervisor_de_Vendas_Jr.csv\n"
          ]
        }
      ],
      "source": [
        "#Supervisor de Vendas Jr.\n",
        "novo_caminho = 'C:\\\\Users\\\\FIC\\\\Documents\\\\Rafael-Dias-Python\\\\arquivos\\\\vendas_por_cargo\\\\'\n",
        "novo_arquivo = 'Supervisor_de_Vendas_Jr.csv'\n",
        "print(novo_caminho + novo_arquivo)"
      ]
    },
    {
      "cell_type": "code",
      "execution_count": 135,
      "metadata": {},
      "outputs": [],
      "source": [
        "supervisor_vendas_junior = dados[\n",
        "    (dados['Cargo'] == 'Supervisor de Vendas Jr.')\n",
        "]"
      ]
    },
    {
      "cell_type": "code",
      "execution_count": 152,
      "metadata": {},
      "outputs": [],
      "source": [
        "supervisor_vendas_junior.to_csv(novo_caminho + novo_arquivo, encoding='ANSI')"
      ]
    },
    {
      "cell_type": "code",
      "execution_count": 156,
      "metadata": {},
      "outputs": [],
      "source": [
        "cargos = dados['Cargo']"
      ]
    },
    {
      "cell_type": "code",
      "execution_count": 157,
      "metadata": {},
      "outputs": [],
      "source": [
        "cargos = cargos.drop_duplicates()"
      ]
    },
    {
      "cell_type": "code",
      "execution_count": 158,
      "metadata": {},
      "outputs": [
        {
          "data": {
            "text/plain": [
              "0        Supervisor de Vendas Pl\n",
              "11          Gerente Regional Jr.\n",
              "37       Supervisor de Vendas Sr\n",
              "48     Coordenador de Vendas Pl.\n",
              "98                  Vendedor Jr.\n",
              "162                 Vendedor Sr.\n",
              "174                 Vendedor Pl.\n",
              "186         Gerente Regional Pl.\n",
              "276    Coordenador de Vendas Sr.\n",
              "285    Coordenador de Vendas Jr.\n",
              "436     Supervisor de Vendas Jr.\n",
              "Name: Cargo, dtype: object"
            ]
          },
          "execution_count": 158,
          "metadata": {},
          "output_type": "execute_result"
        }
      ],
      "source": [
        "cargos"
      ]
    },
    {
      "cell_type": "code",
      "execution_count": 159,
      "metadata": {},
      "outputs": [
        {
          "data": {
            "text/plain": [
              "11"
            ]
          },
          "execution_count": 159,
          "metadata": {},
          "output_type": "execute_result"
        }
      ],
      "source": [
        "cargos.count()"
      ]
    },
    {
      "attachments": {
        "image-2.png": {
          "image/png": "[encoded data removed]"
        },
        "image.png": {
          "image/png": "[encoded data removed]"
        }
      },
      "cell_type": "markdown",
      "metadata": {},
      "source": [
        "## Exercício 04 – Criando relatórios em função do arquivo dados-vendas.xlsx.\n",
        "- a) Crie um dataframe, utilizando o arquivo dados-vendas.xlsx. Crie data frames para dividir a planilha vendas em 4 arquivos. São eles:\n",
        "\n",
        "![image.png](attachment:image.png)\n",
        "\n",
        "Salve todos os arquivos em Excel.\n",
        "\n",
        "- b) Com base na coluna Vendedor, construa um código que permita remover as duplicadas da coluna informada, e na sequência, filtre o dataframe e gere um relatório individual para cada vendedor Para fazer isso, siga os procedimentos a seguir:\n",
        "    - 1. Crie uma pasta chamada relatórios-vendedores;\n",
        "    - 2. Importe a biblioteca Pandas;\n",
        "    - 3. Declare uma variável chamada path para armazenar o caminho da pasta criada;\n",
        "    - 4. Declare uma variável com o nome file para armazenar o nome do arquivo que será manipulado;\n",
        "    - 5. Crie um dataframe chamado dados e utilize o comando pd.read_excel para acessar o arquivo.\n",
        "    - 6. Visualize o cabeçalho do dataframe;\n",
        "    - 7. Crie um dataframe chamado df_vendedores, para atribuir valores a ele você deve selecionar apenas a coluna Vendedores e remover as duplicadas do mesmo. Confirme se realmente o comando removeu as duplicadas.\n",
        "    Após isso, crie uma lista com o seguinte nome listaVendedores, essa lista deve receber os dados do dataframe df_vendedores. Para isso, você deve converter o dataframe em lista, utilize o comando dataframe.tolist().\n",
        "    - 8. Construa uma estrutura de repetição (FOR) para que a variável vendedor receba os nomes que estão na lista listaVendedores e filtre o dataframe dados, utilizando a coluna Vendedores para que gere um novo dataframe (df_final) para cada vendedor. Ainda na estrutura de repetição, você deve inserir uma linha de código para gerar um arquivo em Excel para cada vendedor, utilize o comando dataframe.to_excel.\n",
        "    - 9. Construa uma estrutura de repetição (FOR) para que a variável vendedor receba os nomes que estão na lista listaVendedores e filtre o dataframe dados, utilizando a coluna Vendedores para que gere um novo dataframe (df_final) para cada vendedor. Ainda na estrutura de repetição, você deve inserir uma linha de código para gerar um arquivo em Excel para cada vendedor, utilize o comando dataframe.to_excel.\n",
        "\n",
        "\n",
        "    ![image-2.png](attachment:image-2.png)\n",
        "\n",
        "- c) Repita esse procedimento para os campos Categoria, Segmento,\n",
        "Fabricante, Cidade e Estado. Reescreva todo o código para cada\n",
        "caso, com o objetivo de exercitar a sintaxe dos comandos."
      ]
    },
    {
      "attachments": {},
      "cell_type": "markdown",
      "metadata": {},
      "source": [
        "### 4 - A"
      ]
    },
    {
      "cell_type": "code",
      "execution_count": 160,
      "metadata": {},
      "outputs": [
        {
          "name": "stdout",
          "output_type": "stream",
          "text": [
            "C:\\Users\\FIC\\Documents\\Rafael-Dias-Python\\arquivos\\dados-vendas.xlsx\n"
          ]
        }
      ],
      "source": [
        "caminho = 'C:\\\\Users\\\\FIC\\\\Documents\\\\Rafael-Dias-Python\\\\arquivos\\\\'\n",
        "arquivo = 'dados-vendas.xlsx'\n",
        "print(caminho+arquivo)"
      ]
    },
    {
      "cell_type": "code",
      "execution_count": 161,
      "metadata": {},
      "outputs": [],
      "source": [
        "dados = pd.read_excel(caminho + arquivo, sheet_name='Vendas')"
      ]
    },
    {
      "cell_type": "code",
      "execution_count": 163,
      "metadata": {},
      "outputs": [
        {
          "data": {
            "text/html": [
              "<div>\n",
              "<style scoped>\n",
              "    .dataframe tbody tr th:only-of-type {\n",
              "        vertical-align: middle;\n",
              "    }\n",
              "\n",
              "    .dataframe tbody tr th {\n",
              "        vertical-align: top;\n",
              "    }\n",
              "\n",
              "    .dataframe thead th {\n",
              "        text-align: right;\n",
              "    }\n",
              "</style>\n",
              "<table border=\"1\" class=\"dataframe\">\n",
              "  <thead>\n",
              "    <tr style=\"text-align: right;\">\n",
              "      <th></th>\n",
              "      <th>ID-Produto</th>\n",
              "      <th>Produto</th>\n",
              "      <th>Categoria</th>\n",
              "      <th>Segmento</th>\n",
              "      <th>Fabricante</th>\n",
              "      <th>Loja</th>\n",
              "      <th>Cidade</th>\n",
              "      <th>Estado</th>\n",
              "      <th>Vendedor</th>\n",
              "      <th>ID-Vendedor</th>\n",
              "      <th>Data Venda</th>\n",
              "      <th>ValorVenda</th>\n",
              "    </tr>\n",
              "  </thead>\n",
              "  <tbody>\n",
              "    <tr>\n",
              "      <th>0</th>\n",
              "      <td>SKU-0000001</td>\n",
              "      <td>LG K10 TV Power</td>\n",
              "      <td>Celulares</td>\n",
              "      <td>Corporativo</td>\n",
              "      <td>LG</td>\n",
              "      <td>SP8821</td>\n",
              "      <td>São Paulo</td>\n",
              "      <td>São Paulo</td>\n",
              "      <td>Ana Teixeira</td>\n",
              "      <td>1009</td>\n",
              "      <td>2012-10-04</td>\n",
              "      <td>679.00</td>\n",
              "    </tr>\n",
              "    <tr>\n",
              "      <th>1</th>\n",
              "      <td>SKU-0000002</td>\n",
              "      <td>Geladeira Duplex</td>\n",
              "      <td>Eletrodomésticos</td>\n",
              "      <td>Doméstico</td>\n",
              "      <td>Brastemp</td>\n",
              "      <td>SP8821</td>\n",
              "      <td>São Paulo</td>\n",
              "      <td>São Paulo</td>\n",
              "      <td>Josias Silva</td>\n",
              "      <td>1006</td>\n",
              "      <td>2012-01-01</td>\n",
              "      <td>832.00</td>\n",
              "    </tr>\n",
              "    <tr>\n",
              "      <th>2</th>\n",
              "      <td>SKU-0000003</td>\n",
              "      <td>Lavadora 11 Kg</td>\n",
              "      <td>Eletrodomésticos</td>\n",
              "      <td>Doméstico</td>\n",
              "      <td>Brastemp</td>\n",
              "      <td>SP8821</td>\n",
              "      <td>São Paulo</td>\n",
              "      <td>São Paulo</td>\n",
              "      <td>Josias Silva</td>\n",
              "      <td>1006</td>\n",
              "      <td>2012-02-02</td>\n",
              "      <td>790.00</td>\n",
              "    </tr>\n",
              "    <tr>\n",
              "      <th>3</th>\n",
              "      <td>SKU-0000004</td>\n",
              "      <td>Lavadora 11 Kg</td>\n",
              "      <td>Eletrodomésticos</td>\n",
              "      <td>Doméstico</td>\n",
              "      <td>Brastemp</td>\n",
              "      <td>SP8821</td>\n",
              "      <td>São Paulo</td>\n",
              "      <td>São Paulo</td>\n",
              "      <td>Mateus Gonçalves</td>\n",
              "      <td>1003</td>\n",
              "      <td>2012-03-03</td>\n",
              "      <td>765.32</td>\n",
              "    </tr>\n",
              "    <tr>\n",
              "      <th>4</th>\n",
              "      <td>SKU-0000005</td>\n",
              "      <td>Lavadora 11 Kg</td>\n",
              "      <td>Eletrodomésticos</td>\n",
              "      <td>Doméstico</td>\n",
              "      <td>Electrolux</td>\n",
              "      <td>SP8821</td>\n",
              "      <td>São Paulo</td>\n",
              "      <td>São Paulo</td>\n",
              "      <td>Artur Moreira</td>\n",
              "      <td>1004</td>\n",
              "      <td>2012-04-04</td>\n",
              "      <td>459.89</td>\n",
              "    </tr>\n",
              "  </tbody>\n",
              "</table>\n",
              "</div>"
            ],
            "text/plain": [
              "    ID-Produto           Produto         Categoria     Segmento  Fabricante  \\\n",
              "0  SKU-0000001   LG K10 TV Power         Celulares  Corporativo          LG   \n",
              "1  SKU-0000002  Geladeira Duplex  Eletrodomésticos    Doméstico    Brastemp   \n",
              "2  SKU-0000003    Lavadora 11 Kg  Eletrodomésticos    Doméstico    Brastemp   \n",
              "3  SKU-0000004    Lavadora 11 Kg  Eletrodomésticos    Doméstico    Brastemp   \n",
              "4  SKU-0000005    Lavadora 11 Kg  Eletrodomésticos    Doméstico  Electrolux   \n",
              "\n",
              "     Loja     Cidade     Estado          Vendedor  ID-Vendedor Data Venda  \\\n",
              "0  SP8821  São Paulo  São Paulo      Ana Teixeira         1009 2012-10-04   \n",
              "1  SP8821  São Paulo  São Paulo      Josias Silva         1006 2012-01-01   \n",
              "2  SP8821  São Paulo  São Paulo      Josias Silva         1006 2012-02-02   \n",
              "3  SP8821  São Paulo  São Paulo  Mateus Gonçalves         1003 2012-03-03   \n",
              "4  SP8821  São Paulo  São Paulo     Artur Moreira         1004 2012-04-04   \n",
              "\n",
              "   ValorVenda  \n",
              "0      679.00  \n",
              "1      832.00  \n",
              "2      790.00  \n",
              "3      765.32  \n",
              "4      459.89  "
            ]
          },
          "execution_count": 163,
          "metadata": {},
          "output_type": "execute_result"
        }
      ],
      "source": [
        "dados.head()"
      ]
    },
    {
      "cell_type": "code",
      "execution_count": 168,
      "metadata": {},
      "outputs": [
        {
          "name": "stdout",
          "output_type": "stream",
          "text": [
            "<class 'pandas.core.frame.DataFrame'>\n",
            "RangeIndex: 457 entries, 0 to 456\n",
            "Data columns (total 12 columns):\n",
            " #   Column       Non-Null Count  Dtype         \n",
            "---  ------       --------------  -----         \n",
            " 0   ID-Produto   457 non-null    object        \n",
            " 1   Produto      457 non-null    object        \n",
            " 2   Categoria    457 non-null    object        \n",
            " 3   Segmento     457 non-null    object        \n",
            " 4   Fabricante   457 non-null    object        \n",
            " 5   Loja         457 non-null    object        \n",
            " 6   Cidade       457 non-null    object        \n",
            " 7   Estado       457 non-null    object        \n",
            " 8   Vendedor     457 non-null    object        \n",
            " 9   ID-Vendedor  457 non-null    int64         \n",
            " 10  Data Venda   457 non-null    datetime64[ns]\n",
            " 11  ValorVenda   457 non-null    float64       \n",
            "dtypes: datetime64[ns](1), float64(1), int64(1), object(9)\n",
            "memory usage: 43.0+ KB\n"
          ]
        }
      ],
      "source": [
        "dados.info()"
      ]
    },
    {
      "cell_type": "code",
      "execution_count": 169,
      "metadata": {},
      "outputs": [],
      "source": [
        "tabela_fato = dados[['ID-Produto', 'Loja', 'ID-Vendedor','Data Venda','ValorVenda']]"
      ]
    },
    {
      "cell_type": "code",
      "execution_count": 170,
      "metadata": {},
      "outputs": [],
      "source": [
        "tabela_fato = tabela_fato.rename(columns={'Loja':'ID-Loja', 'Data Venda':'Data'})"
      ]
    },
    {
      "cell_type": "code",
      "execution_count": 171,
      "metadata": {},
      "outputs": [
        {
          "data": {
            "text/html": [
              "<div>\n",
              "<style scoped>\n",
              "    .dataframe tbody tr th:only-of-type {\n",
              "        vertical-align: middle;\n",
              "    }\n",
              "\n",
              "    .dataframe tbody tr th {\n",
              "        vertical-align: top;\n",
              "    }\n",
              "\n",
              "    .dataframe thead th {\n",
              "        text-align: right;\n",
              "    }\n",
              "</style>\n",
              "<table border=\"1\" class=\"dataframe\">\n",
              "  <thead>\n",
              "    <tr style=\"text-align: right;\">\n",
              "      <th></th>\n",
              "      <th>ID-Produto</th>\n",
              "      <th>ID-Loja</th>\n",
              "      <th>ID-Vendedor</th>\n",
              "      <th>Data</th>\n",
              "      <th>ValorVenda</th>\n",
              "    </tr>\n",
              "  </thead>\n",
              "  <tbody>\n",
              "    <tr>\n",
              "      <th>0</th>\n",
              "      <td>SKU-0000001</td>\n",
              "      <td>SP8821</td>\n",
              "      <td>1009</td>\n",
              "      <td>2012-10-04</td>\n",
              "      <td>679.00</td>\n",
              "    </tr>\n",
              "    <tr>\n",
              "      <th>1</th>\n",
              "      <td>SKU-0000002</td>\n",
              "      <td>SP8821</td>\n",
              "      <td>1006</td>\n",
              "      <td>2012-01-01</td>\n",
              "      <td>832.00</td>\n",
              "    </tr>\n",
              "    <tr>\n",
              "      <th>2</th>\n",
              "      <td>SKU-0000003</td>\n",
              "      <td>SP8821</td>\n",
              "      <td>1006</td>\n",
              "      <td>2012-02-02</td>\n",
              "      <td>790.00</td>\n",
              "    </tr>\n",
              "    <tr>\n",
              "      <th>3</th>\n",
              "      <td>SKU-0000004</td>\n",
              "      <td>SP8821</td>\n",
              "      <td>1003</td>\n",
              "      <td>2012-03-03</td>\n",
              "      <td>765.32</td>\n",
              "    </tr>\n",
              "    <tr>\n",
              "      <th>4</th>\n",
              "      <td>SKU-0000005</td>\n",
              "      <td>SP8821</td>\n",
              "      <td>1004</td>\n",
              "      <td>2012-04-04</td>\n",
              "      <td>459.89</td>\n",
              "    </tr>\n",
              "    <tr>\n",
              "      <th>...</th>\n",
              "      <td>...</td>\n",
              "      <td>...</td>\n",
              "      <td>...</td>\n",
              "      <td>...</td>\n",
              "      <td>...</td>\n",
              "    </tr>\n",
              "    <tr>\n",
              "      <th>452</th>\n",
              "      <td>SKU-0000453</td>\n",
              "      <td>R1295</td>\n",
              "      <td>1002</td>\n",
              "      <td>2015-09-23</td>\n",
              "      <td>1234.00</td>\n",
              "    </tr>\n",
              "    <tr>\n",
              "      <th>453</th>\n",
              "      <td>SKU-0000454</td>\n",
              "      <td>R1295</td>\n",
              "      <td>1002</td>\n",
              "      <td>2015-10-24</td>\n",
              "      <td>1234.00</td>\n",
              "    </tr>\n",
              "    <tr>\n",
              "      <th>454</th>\n",
              "      <td>SKU-0000455</td>\n",
              "      <td>R1295</td>\n",
              "      <td>1008</td>\n",
              "      <td>2015-11-25</td>\n",
              "      <td>1230.00</td>\n",
              "    </tr>\n",
              "    <tr>\n",
              "      <th>455</th>\n",
              "      <td>SKU-0000456</td>\n",
              "      <td>R1295</td>\n",
              "      <td>1002</td>\n",
              "      <td>2015-11-26</td>\n",
              "      <td>1234.00</td>\n",
              "    </tr>\n",
              "    <tr>\n",
              "      <th>456</th>\n",
              "      <td>SKU-0000457</td>\n",
              "      <td>R1295</td>\n",
              "      <td>1002</td>\n",
              "      <td>2015-11-27</td>\n",
              "      <td>1234.00</td>\n",
              "    </tr>\n",
              "  </tbody>\n",
              "</table>\n",
              "<p>457 rows × 5 columns</p>\n",
              "</div>"
            ],
            "text/plain": [
              "      ID-Produto ID-Loja  ID-Vendedor       Data  ValorVenda\n",
              "0    SKU-0000001  SP8821         1009 2012-10-04      679.00\n",
              "1    SKU-0000002  SP8821         1006 2012-01-01      832.00\n",
              "2    SKU-0000003  SP8821         1006 2012-02-02      790.00\n",
              "3    SKU-0000004  SP8821         1003 2012-03-03      765.32\n",
              "4    SKU-0000005  SP8821         1004 2012-04-04      459.89\n",
              "..           ...     ...          ...        ...         ...\n",
              "452  SKU-0000453   R1295         1002 2015-09-23     1234.00\n",
              "453  SKU-0000454   R1295         1002 2015-10-24     1234.00\n",
              "454  SKU-0000455   R1295         1008 2015-11-25     1230.00\n",
              "455  SKU-0000456   R1295         1002 2015-11-26     1234.00\n",
              "456  SKU-0000457   R1295         1002 2015-11-27     1234.00\n",
              "\n",
              "[457 rows x 5 columns]"
            ]
          },
          "execution_count": 171,
          "metadata": {},
          "output_type": "execute_result"
        }
      ],
      "source": [
        "tabela_fato"
      ]
    },
    {
      "cell_type": "code",
      "execution_count": 173,
      "metadata": {},
      "outputs": [
        {
          "name": "stdout",
          "output_type": "stream",
          "text": [
            "C:\\Users\\FIC\\Documents\\Rafael-Dias-Python\\arquivos\\dados-vendas\\tabela_fato.xlsx\n"
          ]
        }
      ],
      "source": [
        "caminho_novo = caminho + 'dados-vendas\\\\'\n",
        "arquivo = 'tabela_fato.xlsx'\n",
        "print(caminho_novo + arquivo)"
      ]
    },
    {
      "cell_type": "code",
      "execution_count": 174,
      "metadata": {},
      "outputs": [],
      "source": [
        "tabela_fato.to_excel(caminho_novo + arquivo, index= False)"
      ]
    },
    {
      "cell_type": "code",
      "execution_count": 175,
      "metadata": {},
      "outputs": [
        {
          "data": {
            "text/html": [
              "<div>\n",
              "<style scoped>\n",
              "    .dataframe tbody tr th:only-of-type {\n",
              "        vertical-align: middle;\n",
              "    }\n",
              "\n",
              "    .dataframe tbody tr th {\n",
              "        vertical-align: top;\n",
              "    }\n",
              "\n",
              "    .dataframe thead th {\n",
              "        text-align: right;\n",
              "    }\n",
              "</style>\n",
              "<table border=\"1\" class=\"dataframe\">\n",
              "  <thead>\n",
              "    <tr style=\"text-align: right;\">\n",
              "      <th></th>\n",
              "      <th>ID-Produto</th>\n",
              "      <th>Produto</th>\n",
              "      <th>Categoria</th>\n",
              "      <th>Segmento</th>\n",
              "      <th>Fabricante</th>\n",
              "      <th>Loja</th>\n",
              "      <th>Cidade</th>\n",
              "      <th>Estado</th>\n",
              "      <th>Vendedor</th>\n",
              "      <th>ID-Vendedor</th>\n",
              "      <th>Data Venda</th>\n",
              "      <th>ValorVenda</th>\n",
              "    </tr>\n",
              "  </thead>\n",
              "  <tbody>\n",
              "    <tr>\n",
              "      <th>0</th>\n",
              "      <td>SKU-0000001</td>\n",
              "      <td>LG K10 TV Power</td>\n",
              "      <td>Celulares</td>\n",
              "      <td>Corporativo</td>\n",
              "      <td>LG</td>\n",
              "      <td>SP8821</td>\n",
              "      <td>São Paulo</td>\n",
              "      <td>São Paulo</td>\n",
              "      <td>Ana Teixeira</td>\n",
              "      <td>1009</td>\n",
              "      <td>2012-10-04</td>\n",
              "      <td>679.00</td>\n",
              "    </tr>\n",
              "    <tr>\n",
              "      <th>1</th>\n",
              "      <td>SKU-0000002</td>\n",
              "      <td>Geladeira Duplex</td>\n",
              "      <td>Eletrodomésticos</td>\n",
              "      <td>Doméstico</td>\n",
              "      <td>Brastemp</td>\n",
              "      <td>SP8821</td>\n",
              "      <td>São Paulo</td>\n",
              "      <td>São Paulo</td>\n",
              "      <td>Josias Silva</td>\n",
              "      <td>1006</td>\n",
              "      <td>2012-01-01</td>\n",
              "      <td>832.00</td>\n",
              "    </tr>\n",
              "    <tr>\n",
              "      <th>2</th>\n",
              "      <td>SKU-0000003</td>\n",
              "      <td>Lavadora 11 Kg</td>\n",
              "      <td>Eletrodomésticos</td>\n",
              "      <td>Doméstico</td>\n",
              "      <td>Brastemp</td>\n",
              "      <td>SP8821</td>\n",
              "      <td>São Paulo</td>\n",
              "      <td>São Paulo</td>\n",
              "      <td>Josias Silva</td>\n",
              "      <td>1006</td>\n",
              "      <td>2012-02-02</td>\n",
              "      <td>790.00</td>\n",
              "    </tr>\n",
              "    <tr>\n",
              "      <th>3</th>\n",
              "      <td>SKU-0000004</td>\n",
              "      <td>Lavadora 11 Kg</td>\n",
              "      <td>Eletrodomésticos</td>\n",
              "      <td>Doméstico</td>\n",
              "      <td>Brastemp</td>\n",
              "      <td>SP8821</td>\n",
              "      <td>São Paulo</td>\n",
              "      <td>São Paulo</td>\n",
              "      <td>Mateus Gonçalves</td>\n",
              "      <td>1003</td>\n",
              "      <td>2012-03-03</td>\n",
              "      <td>765.32</td>\n",
              "    </tr>\n",
              "    <tr>\n",
              "      <th>4</th>\n",
              "      <td>SKU-0000005</td>\n",
              "      <td>Lavadora 11 Kg</td>\n",
              "      <td>Eletrodomésticos</td>\n",
              "      <td>Doméstico</td>\n",
              "      <td>Electrolux</td>\n",
              "      <td>SP8821</td>\n",
              "      <td>São Paulo</td>\n",
              "      <td>São Paulo</td>\n",
              "      <td>Artur Moreira</td>\n",
              "      <td>1004</td>\n",
              "      <td>2012-04-04</td>\n",
              "      <td>459.89</td>\n",
              "    </tr>\n",
              "  </tbody>\n",
              "</table>\n",
              "</div>"
            ],
            "text/plain": [
              "    ID-Produto           Produto         Categoria     Segmento  Fabricante  \\\n",
              "0  SKU-0000001   LG K10 TV Power         Celulares  Corporativo          LG   \n",
              "1  SKU-0000002  Geladeira Duplex  Eletrodomésticos    Doméstico    Brastemp   \n",
              "2  SKU-0000003    Lavadora 11 Kg  Eletrodomésticos    Doméstico    Brastemp   \n",
              "3  SKU-0000004    Lavadora 11 Kg  Eletrodomésticos    Doméstico    Brastemp   \n",
              "4  SKU-0000005    Lavadora 11 Kg  Eletrodomésticos    Doméstico  Electrolux   \n",
              "\n",
              "     Loja     Cidade     Estado          Vendedor  ID-Vendedor Data Venda  \\\n",
              "0  SP8821  São Paulo  São Paulo      Ana Teixeira         1009 2012-10-04   \n",
              "1  SP8821  São Paulo  São Paulo      Josias Silva         1006 2012-01-01   \n",
              "2  SP8821  São Paulo  São Paulo      Josias Silva         1006 2012-02-02   \n",
              "3  SP8821  São Paulo  São Paulo  Mateus Gonçalves         1003 2012-03-03   \n",
              "4  SP8821  São Paulo  São Paulo     Artur Moreira         1004 2012-04-04   \n",
              "\n",
              "   ValorVenda  \n",
              "0      679.00  \n",
              "1      832.00  \n",
              "2      790.00  \n",
              "3      765.32  \n",
              "4      459.89  "
            ]
          },
          "execution_count": 175,
          "metadata": {},
          "output_type": "execute_result"
        }
      ],
      "source": [
        "dados.head()"
      ]
    },
    {
      "cell_type": "code",
      "execution_count": 176,
      "metadata": {},
      "outputs": [],
      "source": [
        "tabela_produto = dados[['ID-Produto', 'Produto','Categoria', 'Segmento', 'Fabricante']]"
      ]
    },
    {
      "cell_type": "code",
      "execution_count": 178,
      "metadata": {},
      "outputs": [
        {
          "data": {
            "text/html": [
              "<div>\n",
              "<style scoped>\n",
              "    .dataframe tbody tr th:only-of-type {\n",
              "        vertical-align: middle;\n",
              "    }\n",
              "\n",
              "    .dataframe tbody tr th {\n",
              "        vertical-align: top;\n",
              "    }\n",
              "\n",
              "    .dataframe thead th {\n",
              "        text-align: right;\n",
              "    }\n",
              "</style>\n",
              "<table border=\"1\" class=\"dataframe\">\n",
              "  <thead>\n",
              "    <tr style=\"text-align: right;\">\n",
              "      <th></th>\n",
              "      <th>ID-Produto</th>\n",
              "      <th>Produto</th>\n",
              "      <th>Categoria</th>\n",
              "      <th>Segmento</th>\n",
              "      <th>Fabricante</th>\n",
              "    </tr>\n",
              "  </thead>\n",
              "  <tbody>\n",
              "    <tr>\n",
              "      <th>0</th>\n",
              "      <td>SKU-0000001</td>\n",
              "      <td>LG K10 TV Power</td>\n",
              "      <td>Celulares</td>\n",
              "      <td>Corporativo</td>\n",
              "      <td>LG</td>\n",
              "    </tr>\n",
              "    <tr>\n",
              "      <th>1</th>\n",
              "      <td>SKU-0000002</td>\n",
              "      <td>Geladeira Duplex</td>\n",
              "      <td>Eletrodomésticos</td>\n",
              "      <td>Doméstico</td>\n",
              "      <td>Brastemp</td>\n",
              "    </tr>\n",
              "    <tr>\n",
              "      <th>2</th>\n",
              "      <td>SKU-0000003</td>\n",
              "      <td>Lavadora 11 Kg</td>\n",
              "      <td>Eletrodomésticos</td>\n",
              "      <td>Doméstico</td>\n",
              "      <td>Brastemp</td>\n",
              "    </tr>\n",
              "    <tr>\n",
              "      <th>3</th>\n",
              "      <td>SKU-0000004</td>\n",
              "      <td>Lavadora 11 Kg</td>\n",
              "      <td>Eletrodomésticos</td>\n",
              "      <td>Doméstico</td>\n",
              "      <td>Brastemp</td>\n",
              "    </tr>\n",
              "    <tr>\n",
              "      <th>4</th>\n",
              "      <td>SKU-0000005</td>\n",
              "      <td>Lavadora 11 Kg</td>\n",
              "      <td>Eletrodomésticos</td>\n",
              "      <td>Doméstico</td>\n",
              "      <td>Electrolux</td>\n",
              "    </tr>\n",
              "  </tbody>\n",
              "</table>\n",
              "</div>"
            ],
            "text/plain": [
              "    ID-Produto           Produto         Categoria     Segmento  Fabricante\n",
              "0  SKU-0000001   LG K10 TV Power         Celulares  Corporativo          LG\n",
              "1  SKU-0000002  Geladeira Duplex  Eletrodomésticos    Doméstico    Brastemp\n",
              "2  SKU-0000003    Lavadora 11 Kg  Eletrodomésticos    Doméstico    Brastemp\n",
              "3  SKU-0000004    Lavadora 11 Kg  Eletrodomésticos    Doméstico    Brastemp\n",
              "4  SKU-0000005    Lavadora 11 Kg  Eletrodomésticos    Doméstico  Electrolux"
            ]
          },
          "execution_count": 178,
          "metadata": {},
          "output_type": "execute_result"
        }
      ],
      "source": [
        "tabela_produto.head()"
      ]
    },
    {
      "cell_type": "code",
      "execution_count": 181,
      "metadata": {},
      "outputs": [],
      "source": [
        "arquivo = 'tabela_produtos.xlsx'"
      ]
    },
    {
      "cell_type": "code",
      "execution_count": 182,
      "metadata": {},
      "outputs": [],
      "source": [
        "tabela_produto.to_excel(caminho_novo + arquivo, index= False)"
      ]
    },
    {
      "cell_type": "code",
      "execution_count": 184,
      "metadata": {},
      "outputs": [
        {
          "data": {
            "text/html": [
              "<div>\n",
              "<style scoped>\n",
              "    .dataframe tbody tr th:only-of-type {\n",
              "        vertical-align: middle;\n",
              "    }\n",
              "\n",
              "    .dataframe tbody tr th {\n",
              "        vertical-align: top;\n",
              "    }\n",
              "\n",
              "    .dataframe thead th {\n",
              "        text-align: right;\n",
              "    }\n",
              "</style>\n",
              "<table border=\"1\" class=\"dataframe\">\n",
              "  <thead>\n",
              "    <tr style=\"text-align: right;\">\n",
              "      <th></th>\n",
              "      <th>ID-Produto</th>\n",
              "      <th>Produto</th>\n",
              "      <th>Categoria</th>\n",
              "      <th>Segmento</th>\n",
              "      <th>Fabricante</th>\n",
              "      <th>Loja</th>\n",
              "      <th>Cidade</th>\n",
              "      <th>Estado</th>\n",
              "      <th>Vendedor</th>\n",
              "      <th>ID-Vendedor</th>\n",
              "      <th>Data Venda</th>\n",
              "      <th>ValorVenda</th>\n",
              "    </tr>\n",
              "  </thead>\n",
              "  <tbody>\n",
              "    <tr>\n",
              "      <th>0</th>\n",
              "      <td>SKU-0000001</td>\n",
              "      <td>LG K10 TV Power</td>\n",
              "      <td>Celulares</td>\n",
              "      <td>Corporativo</td>\n",
              "      <td>LG</td>\n",
              "      <td>SP8821</td>\n",
              "      <td>São Paulo</td>\n",
              "      <td>São Paulo</td>\n",
              "      <td>Ana Teixeira</td>\n",
              "      <td>1009</td>\n",
              "      <td>2012-10-04</td>\n",
              "      <td>679.00</td>\n",
              "    </tr>\n",
              "    <tr>\n",
              "      <th>1</th>\n",
              "      <td>SKU-0000002</td>\n",
              "      <td>Geladeira Duplex</td>\n",
              "      <td>Eletrodomésticos</td>\n",
              "      <td>Doméstico</td>\n",
              "      <td>Brastemp</td>\n",
              "      <td>SP8821</td>\n",
              "      <td>São Paulo</td>\n",
              "      <td>São Paulo</td>\n",
              "      <td>Josias Silva</td>\n",
              "      <td>1006</td>\n",
              "      <td>2012-01-01</td>\n",
              "      <td>832.00</td>\n",
              "    </tr>\n",
              "    <tr>\n",
              "      <th>2</th>\n",
              "      <td>SKU-0000003</td>\n",
              "      <td>Lavadora 11 Kg</td>\n",
              "      <td>Eletrodomésticos</td>\n",
              "      <td>Doméstico</td>\n",
              "      <td>Brastemp</td>\n",
              "      <td>SP8821</td>\n",
              "      <td>São Paulo</td>\n",
              "      <td>São Paulo</td>\n",
              "      <td>Josias Silva</td>\n",
              "      <td>1006</td>\n",
              "      <td>2012-02-02</td>\n",
              "      <td>790.00</td>\n",
              "    </tr>\n",
              "    <tr>\n",
              "      <th>3</th>\n",
              "      <td>SKU-0000004</td>\n",
              "      <td>Lavadora 11 Kg</td>\n",
              "      <td>Eletrodomésticos</td>\n",
              "      <td>Doméstico</td>\n",
              "      <td>Brastemp</td>\n",
              "      <td>SP8821</td>\n",
              "      <td>São Paulo</td>\n",
              "      <td>São Paulo</td>\n",
              "      <td>Mateus Gonçalves</td>\n",
              "      <td>1003</td>\n",
              "      <td>2012-03-03</td>\n",
              "      <td>765.32</td>\n",
              "    </tr>\n",
              "    <tr>\n",
              "      <th>4</th>\n",
              "      <td>SKU-0000005</td>\n",
              "      <td>Lavadora 11 Kg</td>\n",
              "      <td>Eletrodomésticos</td>\n",
              "      <td>Doméstico</td>\n",
              "      <td>Electrolux</td>\n",
              "      <td>SP8821</td>\n",
              "      <td>São Paulo</td>\n",
              "      <td>São Paulo</td>\n",
              "      <td>Artur Moreira</td>\n",
              "      <td>1004</td>\n",
              "      <td>2012-04-04</td>\n",
              "      <td>459.89</td>\n",
              "    </tr>\n",
              "  </tbody>\n",
              "</table>\n",
              "</div>"
            ],
            "text/plain": [
              "    ID-Produto           Produto         Categoria     Segmento  Fabricante  \\\n",
              "0  SKU-0000001   LG K10 TV Power         Celulares  Corporativo          LG   \n",
              "1  SKU-0000002  Geladeira Duplex  Eletrodomésticos    Doméstico    Brastemp   \n",
              "2  SKU-0000003    Lavadora 11 Kg  Eletrodomésticos    Doméstico    Brastemp   \n",
              "3  SKU-0000004    Lavadora 11 Kg  Eletrodomésticos    Doméstico    Brastemp   \n",
              "4  SKU-0000005    Lavadora 11 Kg  Eletrodomésticos    Doméstico  Electrolux   \n",
              "\n",
              "     Loja     Cidade     Estado          Vendedor  ID-Vendedor Data Venda  \\\n",
              "0  SP8821  São Paulo  São Paulo      Ana Teixeira         1009 2012-10-04   \n",
              "1  SP8821  São Paulo  São Paulo      Josias Silva         1006 2012-01-01   \n",
              "2  SP8821  São Paulo  São Paulo      Josias Silva         1006 2012-02-02   \n",
              "3  SP8821  São Paulo  São Paulo  Mateus Gonçalves         1003 2012-03-03   \n",
              "4  SP8821  São Paulo  São Paulo     Artur Moreira         1004 2012-04-04   \n",
              "\n",
              "   ValorVenda  \n",
              "0      679.00  \n",
              "1      832.00  \n",
              "2      790.00  \n",
              "3      765.32  \n",
              "4      459.89  "
            ]
          },
          "execution_count": 184,
          "metadata": {},
          "output_type": "execute_result"
        }
      ],
      "source": [
        "dados.head()"
      ]
    },
    {
      "cell_type": "code",
      "execution_count": 197,
      "metadata": {},
      "outputs": [],
      "source": [
        "tabela_lojas = dados[['Loja','Cidade', 'Estado']]\n",
        "\n",
        "tabela_lojas = tabela_lojas.rename(columns={'Loja':'ID-Loja'})"
      ]
    },
    {
      "cell_type": "code",
      "execution_count": 198,
      "metadata": {},
      "outputs": [],
      "source": [
        "arquivo = 'tabela_lojas.xlsx'"
      ]
    },
    {
      "cell_type": "code",
      "execution_count": 199,
      "metadata": {},
      "outputs": [],
      "source": [
        "tabela_lojas.to_excel(caminho_novo + arquivo, index= False)"
      ]
    },
    {
      "cell_type": "code",
      "execution_count": 200,
      "metadata": {},
      "outputs": [],
      "source": [
        "tabela_vendedor = dados[['ID-Vendedor','Vendedor']]\n",
        "arquivo = 'tabela_vendedor.xlsx'"
      ]
    },
    {
      "cell_type": "code",
      "execution_count": 201,
      "metadata": {},
      "outputs": [
        {
          "data": {
            "text/html": [
              "<div>\n",
              "<style scoped>\n",
              "    .dataframe tbody tr th:only-of-type {\n",
              "        vertical-align: middle;\n",
              "    }\n",
              "\n",
              "    .dataframe tbody tr th {\n",
              "        vertical-align: top;\n",
              "    }\n",
              "\n",
              "    .dataframe thead th {\n",
              "        text-align: right;\n",
              "    }\n",
              "</style>\n",
              "<table border=\"1\" class=\"dataframe\">\n",
              "  <thead>\n",
              "    <tr style=\"text-align: right;\">\n",
              "      <th></th>\n",
              "      <th>ID-Vendedor</th>\n",
              "      <th>Vendedor</th>\n",
              "    </tr>\n",
              "  </thead>\n",
              "  <tbody>\n",
              "    <tr>\n",
              "      <th>0</th>\n",
              "      <td>1009</td>\n",
              "      <td>Ana Teixeira</td>\n",
              "    </tr>\n",
              "    <tr>\n",
              "      <th>1</th>\n",
              "      <td>1006</td>\n",
              "      <td>Josias Silva</td>\n",
              "    </tr>\n",
              "    <tr>\n",
              "      <th>2</th>\n",
              "      <td>1006</td>\n",
              "      <td>Josias Silva</td>\n",
              "    </tr>\n",
              "    <tr>\n",
              "      <th>3</th>\n",
              "      <td>1003</td>\n",
              "      <td>Mateus Gonçalves</td>\n",
              "    </tr>\n",
              "    <tr>\n",
              "      <th>4</th>\n",
              "      <td>1004</td>\n",
              "      <td>Artur Moreira</td>\n",
              "    </tr>\n",
              "  </tbody>\n",
              "</table>\n",
              "</div>"
            ],
            "text/plain": [
              "   ID-Vendedor          Vendedor\n",
              "0         1009      Ana Teixeira\n",
              "1         1006      Josias Silva\n",
              "2         1006      Josias Silva\n",
              "3         1003  Mateus Gonçalves\n",
              "4         1004     Artur Moreira"
            ]
          },
          "execution_count": 201,
          "metadata": {},
          "output_type": "execute_result"
        }
      ],
      "source": [
        "tabela_vendedor.head()"
      ]
    },
    {
      "cell_type": "code",
      "execution_count": 202,
      "metadata": {},
      "outputs": [],
      "source": [
        "tabela_vendedor.to_excel(caminho_novo + arquivo, index= False)"
      ]
    },
    {
      "cell_type": "code",
      "execution_count": 203,
      "metadata": {},
      "outputs": [],
      "source": [
        "path = 'C:\\\\Users\\\\FIC\\\\Documents\\\\Rafael-Dias-Python\\\\arquivos\\\\relatórios-vendedores'"
      ]
    },
    {
      "cell_type": "code",
      "execution_count": 205,
      "metadata": {},
      "outputs": [],
      "source": [
        "file = 'vendedor.xlsx'"
      ]
    },
    {
      "cell_type": "code",
      "execution_count": 206,
      "metadata": {},
      "outputs": [],
      "source": [
        "caminho = 'C:\\\\Users\\\\FIC\\\\Documents\\\\Rafael-Dias-Python\\\\arquivos\\\\'\n",
        "arquivo = 'dados-vendas.xlsx'\n",
        "dados = pd.read_excel(caminho + arquivo, sheet_name='Vendas')"
      ]
    },
    {
      "cell_type": "code",
      "execution_count": 213,
      "metadata": {},
      "outputs": [],
      "source": [
        "df_vendedores = dados['Vendedor']"
      ]
    },
    {
      "cell_type": "code",
      "execution_count": 216,
      "metadata": {},
      "outputs": [],
      "source": [
        "df_vendedores = df_vendedores.drop_duplicates()"
      ]
    },
    {
      "cell_type": "code",
      "execution_count": 219,
      "metadata": {},
      "outputs": [],
      "source": [
        "listaVendedores = df_vendedores.to_list()"
      ]
    },
    {
      "cell_type": "code",
      "execution_count": 220,
      "metadata": {},
      "outputs": [
        {
          "data": {
            "text/plain": [
              "['Ana Teixeira',\n",
              " 'Josias Silva',\n",
              " 'Mateus Gonçalves',\n",
              " 'Artur Moreira',\n",
              " 'Rodrigo Fagundes',\n",
              " 'Fernando Zambrini',\n",
              " 'André Pereira',\n",
              " 'Maria Fernandes',\n",
              " 'Aline Sutter']"
            ]
          },
          "execution_count": 220,
          "metadata": {},
          "output_type": "execute_result"
        }
      ],
      "source": [
        "listaVendedores"
      ]
    },
    {
      "cell_type": "code",
      "execution_count": 221,
      "metadata": {},
      "outputs": [
        {
          "ename": "ValueError",
          "evalue": "('Lengths must match to compare', (457,), (9,))",
          "output_type": "error",
          "traceback": [
            "\u001b[1;31m---------------------------------------------------------------------------\u001b[0m",
            "\u001b[1;31mValueError\u001b[0m                                Traceback (most recent call last)",
            "Cell \u001b[1;32mIn[221], line 2\u001b[0m\n\u001b[0;32m      1\u001b[0m \u001b[39mfor\u001b[39;00m i \u001b[39min\u001b[39;00m listaVendedores:\n\u001b[1;32m----> 2\u001b[0m     dados[dados[\u001b[39m'\u001b[39;49m\u001b[39mVendedor\u001b[39;49m\u001b[39m'\u001b[39;49m] \u001b[39m==\u001b[39;49m listaVendedores]\n",
            "File \u001b[1;32mc:\\Python311\\Lib\\site-packages\\pandas\\core\\ops\\common.py:76\u001b[0m, in \u001b[0;36m_unpack_zerodim_and_defer.<locals>.new_method\u001b[1;34m(self, other)\u001b[0m\n\u001b[0;32m     72\u001b[0m             \u001b[39mreturn\u001b[39;00m \u001b[39mNotImplemented\u001b[39m\n\u001b[0;32m     74\u001b[0m other \u001b[39m=\u001b[39m item_from_zerodim(other)\n\u001b[1;32m---> 76\u001b[0m \u001b[39mreturn\u001b[39;00m method(\u001b[39mself\u001b[39;49m, other)\n",
            "File \u001b[1;32mc:\\Python311\\Lib\\site-packages\\pandas\\core\\arraylike.py:40\u001b[0m, in \u001b[0;36mOpsMixin.__eq__\u001b[1;34m(self, other)\u001b[0m\n\u001b[0;32m     38\u001b[0m \u001b[39m@unpack_zerodim_and_defer\u001b[39m(\u001b[39m\"\u001b[39m\u001b[39m__eq__\u001b[39m\u001b[39m\"\u001b[39m)\n\u001b[0;32m     39\u001b[0m \u001b[39mdef\u001b[39;00m \u001b[39m__eq__\u001b[39m(\u001b[39mself\u001b[39m, other):\n\u001b[1;32m---> 40\u001b[0m     \u001b[39mreturn\u001b[39;00m \u001b[39mself\u001b[39;49m\u001b[39m.\u001b[39;49m_cmp_method(other, operator\u001b[39m.\u001b[39;49meq)\n",
            "File \u001b[1;32mc:\\Python311\\Lib\\site-packages\\pandas\\core\\series.py:5804\u001b[0m, in \u001b[0;36mSeries._cmp_method\u001b[1;34m(self, other, op)\u001b[0m\n\u001b[0;32m   5801\u001b[0m lvalues \u001b[39m=\u001b[39m \u001b[39mself\u001b[39m\u001b[39m.\u001b[39m_values\n\u001b[0;32m   5802\u001b[0m rvalues \u001b[39m=\u001b[39m extract_array(other, extract_numpy\u001b[39m=\u001b[39m\u001b[39mTrue\u001b[39;00m, extract_range\u001b[39m=\u001b[39m\u001b[39mTrue\u001b[39;00m)\n\u001b[1;32m-> 5804\u001b[0m res_values \u001b[39m=\u001b[39m ops\u001b[39m.\u001b[39;49mcomparison_op(lvalues, rvalues, op)\n\u001b[0;32m   5806\u001b[0m \u001b[39mreturn\u001b[39;00m \u001b[39mself\u001b[39m\u001b[39m.\u001b[39m_construct_result(res_values, name\u001b[39m=\u001b[39mres_name)\n",
            "File \u001b[1;32mc:\\Python311\\Lib\\site-packages\\pandas\\core\\ops\\array_ops.py:323\u001b[0m, in \u001b[0;36mcomparison_op\u001b[1;34m(left, right, op)\u001b[0m\n\u001b[0;32m    318\u001b[0m \u001b[39mif\u001b[39;00m \u001b[39misinstance\u001b[39m(rvalues, (np\u001b[39m.\u001b[39mndarray, ABCExtensionArray)):\n\u001b[0;32m    319\u001b[0m     \u001b[39m# TODO: make this treatment consistent across ops and classes.\u001b[39;00m\n\u001b[0;32m    320\u001b[0m     \u001b[39m#  We are not catching all listlikes here (e.g. frozenset, tuple)\u001b[39;00m\n\u001b[0;32m    321\u001b[0m     \u001b[39m#  The ambiguous case is object-dtype.  See GH#27803\u001b[39;00m\n\u001b[0;32m    322\u001b[0m     \u001b[39mif\u001b[39;00m \u001b[39mlen\u001b[39m(lvalues) \u001b[39m!=\u001b[39m \u001b[39mlen\u001b[39m(rvalues):\n\u001b[1;32m--> 323\u001b[0m         \u001b[39mraise\u001b[39;00m \u001b[39mValueError\u001b[39;00m(\n\u001b[0;32m    324\u001b[0m             \u001b[39m\"\u001b[39m\u001b[39mLengths must match to compare\u001b[39m\u001b[39m\"\u001b[39m, lvalues\u001b[39m.\u001b[39mshape, rvalues\u001b[39m.\u001b[39mshape\n\u001b[0;32m    325\u001b[0m         )\n\u001b[0;32m    327\u001b[0m \u001b[39mif\u001b[39;00m should_extension_dispatch(lvalues, rvalues) \u001b[39mor\u001b[39;00m (\n\u001b[0;32m    328\u001b[0m     (\u001b[39misinstance\u001b[39m(rvalues, (Timedelta, BaseOffset, Timestamp)) \u001b[39mor\u001b[39;00m right \u001b[39mis\u001b[39;00m NaT)\n\u001b[0;32m    329\u001b[0m     \u001b[39mand\u001b[39;00m lvalues\u001b[39m.\u001b[39mdtype \u001b[39m!=\u001b[39m \u001b[39mobject\u001b[39m\n\u001b[0;32m    330\u001b[0m ):\n\u001b[0;32m    331\u001b[0m     \u001b[39m# Call the method on lvalues\u001b[39;00m\n\u001b[0;32m    332\u001b[0m     res_values \u001b[39m=\u001b[39m op(lvalues, rvalues)\n",
            "\u001b[1;31mValueError\u001b[0m: ('Lengths must match to compare', (457,), (9,))"
          ]
        }
      ],
      "source": [
        "for i in listaVendedores:\n",
        "    dados[dados['Vendedor'] == listaVendedores]"
      ]
    },
    {
      "cell_type": "code",
      "execution_count": null,
      "metadata": {},
      "outputs": [],
      "source": []
    }
  ],
  "metadata": {
    "colab": {
      "provenance": []
    },
    "kernelspec": {
      "display_name": "Python 3",
      "name": "python3"
    },
    "language_info": {
      "codemirror_mode": {
        "name": "ipython",
        "version": 3
      },
      "file_extension": ".py",
      "mimetype": "text/x-python",
      "name": "python",
      "nbconvert_exporter": "python",
      "pygments_lexer": "ipython3",
      "version": "3.11.0"
    }
  },
  "nbformat": 4,
  "nbformat_minor": 0
}
