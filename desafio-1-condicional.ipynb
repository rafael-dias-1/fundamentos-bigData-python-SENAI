{
  "nbformat": 4,
  "nbformat_minor": 0,
  "metadata": {
    "colab": {
      "provenance": []
    },
    "kernelspec": {
      "name": "python3",
      "display_name": "Python 3"
    },
    "language_info": {
      "name": "python"
    }
  },
  "cells": [
    {
      "cell_type": "markdown",
      "metadata": {
        "id": "5a9a4123"
      },
      "source": [
        "# Desafio do professor\n",
        "Crie um codigo para classificar 5 números. O usuario pode escolher em classificar os valores na ordem crescente ou decrescente.\n",
        "**Obs:** Utilize apenas a estrutura conficional IF\n"
      ]
    },
    {
      "cell_type": "code",
      "execution_count": null,
      "metadata": {
        "id": "633f38e3"
      },
      "outputs": [],
      "source": [
        "numero1 = int(input('Digite o primeiro numero: '))\n",
        "numero2 = int(input('Digite o segundo numero: '))\n",
        "numero3 = int(input('Digite o terceiro numero: '))\n",
        "numero4 = int(input('Digite o quarto numero: '))\n",
        "numero5 = int(input('Digite o quinto numero: '))\n",
        "\n",
        "\n",
        "if numero1 > numero2 and numero1 > numero > 3 and numero1 > numero4 and numero1 > numero5:\n",
        "    if numero2 > numero3 and numero2 > numero4 and numero2 > numero5:\n",
        "        if numero3 > numero4 and numero3 > numero5:\n",
        "            if numero4 > numero5\n",
        "                print(numero1, numero2, numero3, numero4, numero5)\n",
        "            else:\n",
        "                print(numero1, numero2, numero3, numero5, numero4)\n",
        "        else:\n",
        "\n",
        "\n",
        "\n",
        "\n",
        "    elif numero3 > numero2 and numero3 > numero4 and numero3 > numero5:\n",
        "        segundo = numero3\n",
        "        if numero2 > numero4 and numero2 > numero5:\n",
        "            terceiro = numero3\n",
        "\n",
        "\n",
        "    elif  if numero4 > numero2 and numero4 > numero3 and numero4 > numero5:\n",
        "        segundo = numero4\n",
        "    elif  if numero5 > numero2 and numero5 > numero3 and numero5 > numero4:\n",
        "        segundo = numero5\n",
        "\n",
        "\n",
        "        if numero3 > numero4 and numero3 > numero5:\n",
        "            terceiro = numero3\n",
        "            if numero4 > numero5:\n",
        "                quarto = numero4\n",
        "            else quinto = numero5\n",
        "\n",
        "    elif  if numero3 > numero2 and numero3 > numero4 and numero3 > numero5:\n",
        "        segundo = numero3\n",
        "        if numero3 > numero4 and numero3 > numero5:\n",
        "            terceiro = numero3\n",
        "            if numero4 > numero5:\n",
        "                quarto = numero4\n",
        "            else quinto = numero5\n",
        "\n",
        "\n"
      ]
    },
    {
      "cell_type": "code",
      "execution_count": null,
      "metadata": {
        "id": "00ed7aaa"
      },
      "outputs": [],
      "source": []
    }
  ]
}