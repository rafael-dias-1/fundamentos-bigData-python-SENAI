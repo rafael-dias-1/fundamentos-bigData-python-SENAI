{
  "nbformat": 4,
  "nbformat_minor": 0,
  "metadata": {
    "colab": {
      "provenance": []
    },
    "kernelspec": {
      "name": "python3",
      "display_name": "Python 3"
    },
    "language_info": {
      "name": "python"
    }
  },
  "cells": [
    {
      "cell_type": "markdown",
      "metadata": {
        "id": "CAfP4hUT3G5a"
      },
      "source": [
        "## Exercicio 1\n",
        "Crie uma estrutura de repetição para imprimir valores de 0 a 10"
      ]
    },
    {
      "cell_type": "code",
      "execution_count": null,
      "metadata": {
        "id": "x_CWFDu63G5b",
        "outputId": "064a8925-dff4-4b01-c2b4-69e9899664d0"
      },
      "outputs": [
        {
          "name": "stdout",
          "output_type": "stream",
          "text": [
            "0\n",
            "1\n",
            "2\n",
            "3\n",
            "4\n",
            "5\n",
            "6\n",
            "7\n",
            "8\n",
            "9\n",
            "10\n"
          ]
        }
      ],
      "source": [
        "\n",
        "for i in range(0,11):\n",
        "    print(i)"
      ]
    },
    {
      "cell_type": "markdown",
      "metadata": {
        "id": "h02EzFPl3G5c"
      },
      "source": [
        "## Exercicio 12\n",
        "Desenvolva um gerador de tabuada, capaz de gerar a tabuada de qualquer número inteiro entre 1 a 10. O usuário deve informar de qual numero ele deseja ver a tabuada. A saída deve ser conforme o exemplo abaixo:"
      ]
    },
    {
      "cell_type": "code",
      "execution_count": null,
      "metadata": {
        "id": "rNHzu0JF3G5d",
        "outputId": "57929506-9fbb-45cb-e010-bd42846ba82f"
      },
      "outputs": [
        {
          "name": "stdout",
          "output_type": "stream",
          "text": [
            "5 x 0 = 0\n",
            "5 x 1 = 5\n",
            "5 x 2 = 10\n",
            "5 x 3 = 15\n",
            "5 x 4 = 20\n",
            "5 x 5 = 25\n",
            "5 x 6 = 30\n",
            "5 x 7 = 35\n",
            "5 x 8 = 40\n",
            "5 x 9 = 45\n",
            "5 x 10 = 50\n"
          ]
        }
      ],
      "source": [
        "numero = int(input('Qual valor voce deseja ver a tabuada: '))\n",
        "\n",
        "for i in range(0,11):\n",
        "    print(f'{numero} x {i} = {numero * i}')"
      ]
    },
    {
      "cell_type": "markdown",
      "metadata": {
        "id": "vxoiYzdm3G5f"
      },
      "source": [
        "## Exercicio 6\n",
        "Faça um programa que imprima na tela os números de 1 a 20, um abaixo do outro. Depois modifique o programa para que ele mostre os números um ao lado do outro."
      ]
    },
    {
      "cell_type": "code",
      "execution_count": null,
      "metadata": {
        "id": "2a6CmATn3G5g",
        "outputId": "306e9cd2-dc50-4a34-ff5f-b60d3259165a"
      },
      "outputs": [
        {
          "name": "stdout",
          "output_type": "stream",
          "text": [
            "1\n",
            "2\n",
            "3\n",
            "4\n",
            "5\n",
            "6\n",
            "7\n",
            "8\n",
            "9\n",
            "10\n",
            "11\n",
            "12\n",
            "13\n",
            "14\n",
            "15\n",
            "16\n",
            "17\n",
            "18\n",
            "19\n",
            "20\n"
          ]
        }
      ],
      "source": [
        "for i in range(1, 21):\n",
        "    print(i)"
      ]
    },
    {
      "cell_type": "code",
      "execution_count": null,
      "metadata": {
        "id": "NUIMvPGd3G5h",
        "outputId": "2f9b5c19-2806-46ca-9dd7-67dea1e3b95c"
      },
      "outputs": [
        {
          "name": "stdout",
          "output_type": "stream",
          "text": [
            "[1, 2, 3, 4, 5, 6, 7, 8, 9, 10, 11, 12, 13, 14, 15, 16, 17, 18, 19, 20]\n"
          ]
        }
      ],
      "source": [
        "list=[]\n",
        "for i in range(1, 21):\n",
        "    list.append(i)\n",
        "print(list)"
      ]
    },
    {
      "cell_type": "markdown",
      "metadata": {
        "id": "IUxQMrH23G5i"
      },
      "source": [
        "## Exercicio 9\n",
        "Faça um programa que imprima na tela apenas os números ímpares entre 1 e 50"
      ]
    },
    {
      "cell_type": "code",
      "execution_count": null,
      "metadata": {
        "id": "5f14CNvu3G5l",
        "outputId": "9c64127f-3382-4d41-de15-3de5fa8c09be"
      },
      "outputs": [
        {
          "name": "stdout",
          "output_type": "stream",
          "text": [
            "3\n",
            "6\n",
            "9\n",
            "12\n",
            "15\n",
            "18\n",
            "21\n",
            "24\n",
            "27\n",
            "30\n",
            "33\n",
            "36\n",
            "39\n",
            "42\n",
            "45\n",
            "48\n"
          ]
        }
      ],
      "source": [
        "for i in range(1, 51):\n",
        "    if i % 3 == 0:\n",
        "        print(i)"
      ]
    },
    {
      "cell_type": "markdown",
      "metadata": {
        "id": "mp0XcTK53G5m"
      },
      "source": [
        "## Exercício 07\n",
        "Faça um programa que leia 5 números e informe o maior número."
      ]
    },
    {
      "cell_type": "code",
      "execution_count": null,
      "metadata": {
        "id": "EVWvMc3g3G5m",
        "outputId": "71468c1f-afdf-4dd9-edb8-d95ea0110c83"
      },
      "outputs": [
        {
          "name": "stdout",
          "output_type": "stream",
          "text": [
            "Numero maior digitado:  8\n"
          ]
        }
      ],
      "source": [
        "maior = 0\n",
        "for i in range(1, 6):\n",
        "    numero = int(input('Digite um numero: '))\n",
        "    if numero > maior:\n",
        "        maior = numero\n",
        "print('Numero maior digitado: ', maior)"
      ]
    },
    {
      "cell_type": "markdown",
      "metadata": {
        "id": "0hJEHdRp3G5n"
      },
      "source": [
        "## Exercício 08\n",
        "Faça um programa que leia 5 números e informe a soma e a média dos números."
      ]
    },
    {
      "cell_type": "code",
      "execution_count": null,
      "metadata": {
        "id": "_JMpkWuH3G5o",
        "outputId": "a2d38344-6d9b-4ceb-e862-3899547f061b"
      },
      "outputs": [
        {
          "name": "stdout",
          "output_type": "stream",
          "text": [
            "Soma entre os numero digitados:  41\n",
            "Media entre os numeros digitados:  8.2\n"
          ]
        }
      ],
      "source": [
        "soma = 0\n",
        "for i in range(1, 6):\n",
        "    numero = float(input('Digite um numero: '))\n",
        "    soma = soma + numero\n",
        "print('Soma entre os numero digitados: ', soma)\n",
        "print('Media entre os numeros digitados: ', soma/5)"
      ]
    },
    {
      "cell_type": "markdown",
      "metadata": {
        "id": "pJE4qa_s3G5p"
      },
      "source": [
        "## Exercício 10\n",
        "Faça um programa que receba dois números inteiros e gere os números inteiros que estão no intervalo compreendido por eles."
      ]
    },
    {
      "cell_type": "code",
      "execution_count": null,
      "metadata": {
        "id": "ODuJkZBP3G5p",
        "outputId": "abd0317d-95e0-4402-d75c-e4c3fdcdd633"
      },
      "outputs": [
        {
          "name": "stdout",
          "output_type": "stream",
          "text": [
            "[2, 3, 4, 5, 6, 7, 8, 9, 10, 11, 12, 13, 14, 15]\n"
          ]
        }
      ],
      "source": [
        "n1 = int(input('Digite o numero superior para o intervalo: '))\n",
        "n2 = int(input('Digite o numero inferior para o intervalo: '))\n",
        "\n",
        "list = []\n",
        "if n2 > n1:\n",
        "    n2, n1 = n1, n2\n",
        "\n",
        "for i in range(n2,n1+1):\n",
        "    list.append(i)\n",
        "print(list)"
      ]
    },
    {
      "cell_type": "markdown",
      "metadata": {
        "id": "7XEK628g3G5p"
      },
      "source": [
        "## Exercício 11\n",
        "Altere o programa anterior para mostrar no final a soma dos números."
      ]
    },
    {
      "cell_type": "code",
      "execution_count": null,
      "metadata": {
        "id": "X11ppADf3G5p",
        "outputId": "e1e7aad1-35a6-4526-8a4c-adb18ef758cd"
      },
      "outputs": [
        {
          "name": "stdout",
          "output_type": "stream",
          "text": [
            "Intervalo dos numeros informados:  [1, 2, 3, 4, 5, 6, 7, 8, 9, 10]\n",
            "Soma dos numeros contidos na lista:  55\n"
          ]
        }
      ],
      "source": [
        "fim = int(input('Digite o numero superior para o intervalo: '))\n",
        "inicio = int(input('Digite o numero inferior para o intervalo: '))\n",
        "\n",
        "list = []\n",
        "soma = 0\n",
        "\n",
        "for i in range(inicio,fim + 1):\n",
        "    list.append(i)\n",
        "    soma = soma + i\n",
        "print('Intervalo dos numeros informados: ', list)\n",
        "print('Soma dos numeros contidos na lista: ', soma)"
      ]
    }
  ]
}